{
 "cells": [
  {
   "cell_type": "code",
   "execution_count": 27,
   "metadata": {},
   "outputs": [],
   "source": [
    "from bs4 import BeautifulSoup\n",
    "from selenium import webdriver\n",
    "import time\n",
    "import pandas as pd\n",
    "import numpy as np\n",
    "import requests"
   ]
  },
  {
   "cell_type": "code",
   "execution_count": 44,
   "metadata": {},
   "outputs": [],
   "source": [
    "url = 'https://www.bloomberg.com/news/articles/2019-04-24/short-seller-bonitas-targets-singapore-s-best-world-shares-drop'"
   ]
  },
  {
   "cell_type": "code",
   "execution_count": 111,
   "metadata": {},
   "outputs": [],
   "source": [
    "def bloomberg(url):\n",
    "    browser = webdriver.Chrome(executable_path=r\"/usr/bin/chromedriver\")\n",
    "    browser.get(url)\n",
    "    time.sleep(5) # wait for the page to load javascript\n",
    "    pageSource = browser.page_source\n",
    "    browser.quit()\n",
    "    return pageSource\n",
    "\n",
    "def contentCat(content):\n",
    "# concatenate content strings of article\n",
    "    article = ''\n",
    "    for par in content:\n",
    "        if par == content[-1]:\n",
    "            article += par.get_text()\n",
    "        else:\n",
    "            article += par.get_text() + '\\n'\n",
    "    return article\n",
    "\n",
    "def scrape(pageSource):\n",
    "    soup = BeautifulSoup(pageSource, 'html.parser')\n",
    "    title = soup.find_all('h1')[0].get_text()\n",
    "    author = soup.find_all(class_='author-v2__byline')[0].get_text()\n",
    "    posted = soup.find_all('time', class_='article-timestamp')[0].get_text() # time of posting\n",
    "    edited = soup.find_all(class_='article-timestamp')[1].get_text() # time if edited\n",
    "    content = soup.select('div p', class_='body-copy-v2')\n",
    "    article = contentCat(content)\n",
    "    return [title, author, posted, edited, article]"
   ]
  },
  {
   "cell_type": "code",
   "execution_count": 107,
   "metadata": {},
   "outputs": [],
   "source": [
    "pageSource = bloomberg(url)\n",
    "articleData = [scrape(pageSource)]"
   ]
  },
  {
   "cell_type": "code",
   "execution_count": 121,
   "metadata": {},
   "outputs": [],
   "source": [
    "df = pd.DataFrame(articleData, columns=['title', 'author', 'posted', 'edited', 'article'])"
   ]
  },
  {
   "cell_type": "code",
   "execution_count": 123,
   "metadata": {},
   "outputs": [],
   "source": [
    "#df.to_pickle('articles.pkl')"
   ]
  },
  {
   "cell_type": "code",
   "execution_count": 127,
   "metadata": {},
   "outputs": [
    {
     "data": {
      "text/html": [
       "<div>\n",
       "<style scoped>\n",
       "    .dataframe tbody tr th:only-of-type {\n",
       "        vertical-align: middle;\n",
       "    }\n",
       "\n",
       "    .dataframe tbody tr th {\n",
       "        vertical-align: top;\n",
       "    }\n",
       "\n",
       "    .dataframe thead th {\n",
       "        text-align: right;\n",
       "    }\n",
       "</style>\n",
       "<table border=\"1\" class=\"dataframe\">\n",
       "  <thead>\n",
       "    <tr style=\"text-align: right;\">\n",
       "      <th></th>\n",
       "      <th>title</th>\n",
       "      <th>author</th>\n",
       "      <th>posted</th>\n",
       "      <th>edited</th>\n",
       "      <th>article</th>\n",
       "    </tr>\n",
       "  </thead>\n",
       "  <tbody>\n",
       "    <tr>\n",
       "      <td>0</td>\n",
       "      <td>Short Seller Bonitas Targets Singapore's Best ...</td>\n",
       "      <td>Abhishek Vishnoi</td>\n",
       "      <td>April 23, 2019, 10:06 PM EDT</td>\n",
       "      <td>April 24, 2019, 5:23 AM EDT</td>\n",
       "      <td>Best World International Ltd. plunged to its l...</td>\n",
       "    </tr>\n",
       "  </tbody>\n",
       "</table>\n",
       "</div>"
      ],
      "text/plain": [
       "                                               title            author  \\\n",
       "0  Short Seller Bonitas Targets Singapore's Best ...  Abhishek Vishnoi   \n",
       "\n",
       "                         posted                       edited  \\\n",
       "0  April 23, 2019, 10:06 PM EDT  April 24, 2019, 5:23 AM EDT   \n",
       "\n",
       "                                             article  \n",
       "0  Best World International Ltd. plunged to its l...  "
      ]
     },
     "execution_count": 127,
     "metadata": {},
     "output_type": "execute_result"
    }
   ],
   "source": [
    "df"
   ]
  },
  {
   "cell_type": "code",
   "execution_count": 49,
   "metadata": {},
   "outputs": [],
   "source": [
    "# get ticker data\n",
    "def stockData(ticker):\n",
    "    url = 'https://finance.yahoo.com/quote/%s'%(ticker)\n",
    "    r = requests.get(url)\n",
    "    soup = BeautifulSoup(r.text, 'html.parser')\n",
    "    summaryTable = soup.select('div div table tbody tr td:nth-child(2)', id='quote-summary')\n",
    "    previous_close = summaryTable[0].get_text()\n",
    "    return [previous_close]"
   ]
  },
  {
   "cell_type": "code",
   "execution_count": 50,
   "metadata": {},
   "outputs": [],
   "source": [
    "CGN = stockData('CGN.SI')"
   ]
  }
 ],
 "metadata": {
  "kernelspec": {
   "display_name": "Python 3",
   "language": "python",
   "name": "python3"
  },
  "language_info": {
   "codemirror_mode": {
    "name": "ipython",
    "version": 3
   },
   "file_extension": ".py",
   "mimetype": "text/x-python",
   "name": "python",
   "nbconvert_exporter": "python",
   "pygments_lexer": "ipython3",
   "version": "3.7.4"
  }
 },
 "nbformat": 4,
 "nbformat_minor": 2
}
