{
 "cells": [
  {
   "cell_type": "code",
   "execution_count": 62,
   "metadata": {},
   "outputs": [],
   "source": [
    "from bs4 import BeautifulSoup\n",
    "from selenium import webdriver\n",
    "import time\n",
    "import pandas as pd\n",
    "import numpy as np\n",
    "import requests\n",
    "import re\n",
    "from datetime import datetime"
   ]
  },
  {
   "cell_type": "code",
   "execution_count": 63,
   "metadata": {},
   "outputs": [],
   "source": [
    "now = datetime.now()\n",
    "options = webdriver.ChromeOptions() \n",
    "options.add_experimental_option(\"excludeSwitches\", ['enable-automation']) # allows us to scrape bloomberg\n",
    "tickers = ['APPL']"
   ]
  },
  {
   "cell_type": "code",
   "execution_count": 66,
   "metadata": {},
   "outputs": [],
   "source": [
    "def bloombergSearch(ticker):\n",
    "    url = 'https://www.bloomberg.com/search?query=%s'%(ticker)\n",
    "    browser = webdriver.Chrome(chrome_options=options, executable_path=r\"/usr/bin/chromedriver\") # path should be similar for ubuntu vm\n",
    "    browser.get(url)\n",
    "    time.sleep(5) # wait for the page to load javascript\n",
    "    pageSource = browser.page_source\n",
    "    browser.quit()\n",
    "    return pageSource\n",
    "\n",
    "def bloombergArticle(url):\n",
    "    browser = webdriver.Chrome(chrome_options=options, executable_path=r\"/usr/bin/chromedriver\")\n",
    "    browser.get(url)\n",
    "    time.sleep(5) # wait for the page to load javascript\n",
    "    pageSource = browser.page_source\n",
    "    browser.quit()\n",
    "    return pageSource\n",
    "\n",
    "def contentCat(content):\n",
    "# concatenate content strings of article\n",
    "    article = ''\n",
    "    for par in content:\n",
    "        if par == content[-1]:\n",
    "            article += par.get_text()\n",
    "        else:\n",
    "            article += par.get_text() + '\\n'\n",
    "    return article\n",
    "\n",
    "def scrapeSearch(pageSource):\n",
    "    soup = BeautifulSoup(pageSource, 'html.parser')\n",
    "    searchResults = soup.select('div>div>section:nth-child(3)>div:last-child>div>a', id='root')\n",
    "    return searchResults\n",
    "\n",
    "def scrapeArticle(pageSource):\n",
    "    soup = BeautifulSoup(pageSource, 'html.parser')\n",
    "    url = soup.select('head>title+link')[0]['href']\n",
    "    title = soup.find_all('h1')[0].get_text()\n",
    "    author = soup.find_all(class_='author-v2__byline')[0].get_text()\n",
    "    posted = soup.find_all('time', class_='article-timestamp')[0].get_text() # time of posting\n",
    "    edited = soup.find_all('time', class_='article-timestamp')[1].get_text() # time if edited\n",
    "    scraped = now.strftime(\"%d/%m/%Y %H:%M:%S\")\n",
    "    content = soup.select('div>p', class_='body-copy-v2')\n",
    "    article = contentCat(content)\n",
    "    return [url, title, author, posted, edited, scraped, article]"
   ]
  },
  {
   "cell_type": "code",
   "execution_count": 24,
   "metadata": {},
   "outputs": [],
   "source": [
    "searchSource = bloombergSearch('AAPL')\n",
    "searchResults = scrapeSearch(searchSource)"
   ]
  },
  {
   "cell_type": "code",
   "execution_count": 39,
   "metadata": {},
   "outputs": [
    {
     "name": "stderr",
     "output_type": "stream",
     "text": [
      "/home/albert/anaconda3/envs/cs/lib/python3.7/site-packages/ipykernel_launcher.py:12: DeprecationWarning: use options instead of chrome_options\n",
      "  if sys.path[0] == '':\n"
     ]
    }
   ],
   "source": [
    "articleResultsRaw = []\n",
    "for link in searchResults[:3]:\n",
    "    articleSource = bloombergArticle(link['href'])\n",
    "    articleResultsRaw.append(articleSource)"
   ]
  },
  {
   "cell_type": "code",
   "execution_count": 67,
   "metadata": {},
   "outputs": [],
   "source": [
    "articleResults = []\n",
    "for article in articleResultsRaw: \n",
    "    articleResults.append(scrapeArticle(article))"
   ]
  },
  {
   "cell_type": "code",
   "execution_count": 70,
   "metadata": {},
   "outputs": [],
   "source": [
    "df = pd.DataFrame(articleResults, columns=['URL', 'title', 'author', 'postedDate', 'editedDate', 'scrapedDate', 'content'])"
   ]
  },
  {
   "cell_type": "code",
   "execution_count": 72,
   "metadata": {},
   "outputs": [],
   "source": [
    "df.to_pickle('articles.pkl')"
   ]
  },
  {
   "cell_type": "code",
   "execution_count": 73,
   "metadata": {},
   "outputs": [
    {
     "data": {
      "text/html": [
       "<div>\n",
       "<style scoped>\n",
       "    .dataframe tbody tr th:only-of-type {\n",
       "        vertical-align: middle;\n",
       "    }\n",
       "\n",
       "    .dataframe tbody tr th {\n",
       "        vertical-align: top;\n",
       "    }\n",
       "\n",
       "    .dataframe thead th {\n",
       "        text-align: right;\n",
       "    }\n",
       "</style>\n",
       "<table border=\"1\" class=\"dataframe\">\n",
       "  <thead>\n",
       "    <tr style=\"text-align: right;\">\n",
       "      <th></th>\n",
       "      <th>URL</th>\n",
       "      <th>title</th>\n",
       "      <th>author</th>\n",
       "      <th>postedDate</th>\n",
       "      <th>editedDate</th>\n",
       "      <th>scrapedDate</th>\n",
       "      <th>content</th>\n",
       "    </tr>\n",
       "  </thead>\n",
       "  <tbody>\n",
       "    <tr>\n",
       "      <td>0</td>\n",
       "      <td>https://www.bloomberg.com/news/articles/2019-0...</td>\n",
       "      <td>Apple’s New Mac Pro to Be Assembled in Texas A...</td>\n",
       "      <td>Mark Gurman</td>\n",
       "      <td>September 23, 2019, 12:00 PM EDT</td>\n",
       "      <td>September 23, 2019, 12:00 PM EDT</td>\n",
       "      <td>27/09/2019 03:06:38</td>\n",
       "      <td>Apple Inc. said the next version of its high-e...</td>\n",
       "    </tr>\n",
       "    <tr>\n",
       "      <td>1</td>\n",
       "      <td>https://www.bloomberg.com/news/articles/2019-0...</td>\n",
       "      <td>‘More Buyers Than Sellers’ Assumes a New Identity</td>\n",
       "      <td>Brad Olesen</td>\n",
       "      <td>September 24, 2019, 7:36 AM EDT</td>\n",
       "      <td>September 24, 2019, 7:36 AM EDT</td>\n",
       "      <td>27/09/2019 03:06:38</td>\n",
       "      <td>Tuesday couldn’t be more welcome coming off a ...</td>\n",
       "    </tr>\n",
       "    <tr>\n",
       "      <td>2</td>\n",
       "      <td>https://www.bloomberg.com/news/articles/2019-0...</td>\n",
       "      <td>World’s Biggest ETF Defies Stock Unease With $...</td>\n",
       "      <td>Rachel Evans</td>\n",
       "      <td>September 10, 2019, 7:01 AM EDT</td>\n",
       "      <td>September 10, 2019, 11:13 AM EDT</td>\n",
       "      <td>27/09/2019 03:06:38</td>\n",
       "      <td>Traders are going all-in on stocks via the wor...</td>\n",
       "    </tr>\n",
       "  </tbody>\n",
       "</table>\n",
       "</div>"
      ],
      "text/plain": [
       "                                                 URL  \\\n",
       "0  https://www.bloomberg.com/news/articles/2019-0...   \n",
       "1  https://www.bloomberg.com/news/articles/2019-0...   \n",
       "2  https://www.bloomberg.com/news/articles/2019-0...   \n",
       "\n",
       "                                               title        author  \\\n",
       "0  Apple’s New Mac Pro to Be Assembled in Texas A...   Mark Gurman   \n",
       "1  ‘More Buyers Than Sellers’ Assumes a New Identity   Brad Olesen   \n",
       "2  World’s Biggest ETF Defies Stock Unease With $...  Rachel Evans   \n",
       "\n",
       "                         postedDate                        editedDate  \\\n",
       "0  September 23, 2019, 12:00 PM EDT  September 23, 2019, 12:00 PM EDT   \n",
       "1   September 24, 2019, 7:36 AM EDT   September 24, 2019, 7:36 AM EDT   \n",
       "2   September 10, 2019, 7:01 AM EDT  September 10, 2019, 11:13 AM EDT   \n",
       "\n",
       "           scrapedDate                                            content  \n",
       "0  27/09/2019 03:06:38  Apple Inc. said the next version of its high-e...  \n",
       "1  27/09/2019 03:06:38  Tuesday couldn’t be more welcome coming off a ...  \n",
       "2  27/09/2019 03:06:38  Traders are going all-in on stocks via the wor...  "
      ]
     },
     "execution_count": 73,
     "metadata": {},
     "output_type": "execute_result"
    }
   ],
   "source": [
    "df"
   ]
  },
  {
   "cell_type": "code",
   "execution_count": 74,
   "metadata": {},
   "outputs": [],
   "source": [
    "# get ticker stock data\n",
    "def stockData(ticker):\n",
    "    url = 'https://finance.yahoo.com/quote/%s'%(ticker)\n",
    "    r = requests.get(url)\n",
    "    soup = BeautifulSoup(r.text, 'html.parser')\n",
    "    summaryTable = soup.select('div div table tbody tr td:nth-child(2)', id='quote-summary')\n",
    "    previous_close = summaryTable[0].get_text()\n",
    "    return [previous_close]"
   ]
  },
  {
   "cell_type": "code",
   "execution_count": 50,
   "metadata": {},
   "outputs": [],
   "source": [
    "CGN = stockData('CGN.SI')"
   ]
  },
  {
   "cell_type": "code",
   "execution_count": null,
   "metadata": {},
   "outputs": [],
   "source": []
  }
 ],
 "metadata": {
  "kernelspec": {
   "display_name": "Python 3",
   "language": "python",
   "name": "python3"
  },
  "language_info": {
   "codemirror_mode": {
    "name": "ipython",
    "version": 3
   },
   "file_extension": ".py",
   "mimetype": "text/x-python",
   "name": "python",
   "nbconvert_exporter": "python",
   "pygments_lexer": "ipython3",
   "version": "3.7.4"
  }
 },
 "nbformat": 4,
 "nbformat_minor": 2
}
