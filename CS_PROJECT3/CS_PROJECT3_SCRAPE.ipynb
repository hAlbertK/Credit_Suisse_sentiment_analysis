{
 "cells": [
  {
   "cell_type": "code",
   "execution_count": 2,
   "metadata": {},
   "outputs": [
    {
     "name": "stdout",
     "output_type": "stream",
     "text": [
      "Requirement already satisfied: SECEdgar in c:\\users\\manzh\\anaconda3\\lib\\site-packages (0.1.4)\n",
      "Requirement already satisfied: requests>=2.21.0 in c:\\users\\manzh\\anaconda3\\lib\\site-packages (from SECEdgar) (2.22.0)\n",
      "Requirement already satisfied: pytest==3.6.3 in c:\\users\\manzh\\anaconda3\\lib\\site-packages (from SECEdgar) (3.6.3)\n",
      "Requirement already satisfied: beautifulsoup4==4.4.0 in c:\\users\\manzh\\anaconda3\\lib\\site-packages (from SECEdgar) (4.4.0)\n",
      "Requirement already satisfied: flake8 in c:\\users\\manzh\\anaconda3\\lib\\site-packages (from SECEdgar) (3.7.8)\n",
      "Requirement already satisfied: future==0.13.1 in c:\\users\\manzh\\anaconda3\\lib\\site-packages (from SECEdgar) (0.13.1)\n",
      "Requirement already satisfied: urllib3!=1.25.0,!=1.25.1,<1.26,>=1.21.1 in c:\\users\\manzh\\anaconda3\\lib\\site-packages (from requests>=2.21.0->SECEdgar) (1.24.2)\n",
      "Requirement already satisfied: chardet<3.1.0,>=3.0.2 in c:\\users\\manzh\\anaconda3\\lib\\site-packages (from requests>=2.21.0->SECEdgar) (3.0.4)\n",
      "Requirement already satisfied: certifi>=2017.4.17 in c:\\users\\manzh\\anaconda3\\lib\\site-packages (from requests>=2.21.0->SECEdgar) (2018.11.29)\n",
      "Requirement already satisfied: idna<2.9,>=2.5 in c:\\users\\manzh\\anaconda3\\lib\\site-packages (from requests>=2.21.0->SECEdgar) (2.8)\n",
      "Requirement already satisfied: pluggy<0.7,>=0.5 in c:\\users\\manzh\\anaconda3\\lib\\site-packages (from pytest==3.6.3->SECEdgar) (0.6.0)\n",
      "Requirement already satisfied: six>=1.10.0 in c:\\users\\manzh\\anaconda3\\lib\\site-packages (from pytest==3.6.3->SECEdgar) (1.12.0)\n",
      "Requirement already satisfied: py>=1.5.0 in c:\\users\\manzh\\anaconda3\\lib\\site-packages (from pytest==3.6.3->SECEdgar) (1.8.0)\n",
      "Requirement already satisfied: more-itertools>=4.0.0 in c:\\users\\manzh\\anaconda3\\lib\\site-packages (from pytest==3.6.3->SECEdgar) (7.0.0)\n",
      "Requirement already satisfied: setuptools in c:\\users\\manzh\\anaconda3\\lib\\site-packages (from pytest==3.6.3->SECEdgar) (41.2.0)\n",
      "Requirement already satisfied: colorama; sys_platform == \"win32\" in c:\\users\\manzh\\anaconda3\\lib\\site-packages (from pytest==3.6.3->SECEdgar) (0.3.9)\n",
      "Requirement already satisfied: atomicwrites>=1.0 in c:\\users\\manzh\\anaconda3\\lib\\site-packages (from pytest==3.6.3->SECEdgar) (1.3.0)\n",
      "Requirement already satisfied: attrs>=17.4.0 in c:\\users\\manzh\\anaconda3\\lib\\site-packages (from pytest==3.6.3->SECEdgar) (19.1.0)\n",
      "Requirement already satisfied: entrypoints<0.4.0,>=0.3.0 in c:\\users\\manzh\\anaconda3\\lib\\site-packages (from flake8->SECEdgar) (0.3)\n",
      "Requirement already satisfied: pycodestyle<2.6.0,>=2.5.0 in c:\\users\\manzh\\anaconda3\\lib\\site-packages (from flake8->SECEdgar) (2.5.0)\n",
      "Requirement already satisfied: pyflakes<2.2.0,>=2.1.0 in c:\\users\\manzh\\anaconda3\\lib\\site-packages (from flake8->SECEdgar) (2.1.1)\n",
      "Requirement already satisfied: mccabe<0.7.0,>=0.6.0 in c:\\users\\manzh\\anaconda3\\lib\\site-packages (from flake8->SECEdgar) (0.6.1)\n"
     ]
    }
   ],
   "source": [
    "!pip install SECEdgar"
   ]
  },
  {
   "cell_type": "code",
   "execution_count": 8,
   "metadata": {},
   "outputs": [
    {
     "name": "stdout",
     "output_type": "stream",
     "text": [
      "Collecting beautifulsoup4\n",
      "  Using cached https://files.pythonhosted.org/packages/3b/c8/a55eb6ea11cd7e5ac4bacdf92bac4693b90d3ba79268be16527555e186f0/beautifulsoup4-4.8.1-py3-none-any.whl\n",
      "Requirement already satisfied, skipping upgrade: soupsieve>=1.2 in c:\\users\\manzh\\anaconda3\\lib\\site-packages (from beautifulsoup4) (1.9.4)\n",
      "Installing collected packages: beautifulsoup4\n",
      "  Found existing installation: beautifulsoup4 4.4.0\n",
      "    Uninstalling beautifulsoup4-4.4.0:\n",
      "      Successfully uninstalled beautifulsoup4-4.4.0\n",
      "Successfully installed beautifulsoup4-4.8.1\n"
     ]
    },
    {
     "name": "stderr",
     "output_type": "stream",
     "text": [
      "ERROR: secedgar 0.1.4 has requirement beautifulsoup4==4.4.0, but you'll have beautifulsoup4 4.8.1 which is incompatible.\n"
     ]
    },
    {
     "name": "stdout",
     "output_type": "stream",
     "text": [
      "Collecting html5lib\n",
      "  Downloading https://files.pythonhosted.org/packages/a5/62/bbd2be0e7943ec8504b517e62bab011b4946e1258842bc159e5dfde15b96/html5lib-1.0.1-py2.py3-none-any.whl (117kB)\n",
      "Requirement already satisfied, skipping upgrade: six>=1.9 in c:\\users\\manzh\\anaconda3\\lib\\site-packages (from html5lib) (1.12.0)\n",
      "Requirement already satisfied, skipping upgrade: webencodings in c:\\users\\manzh\\anaconda3\\lib\\site-packages (from html5lib) (0.5.1)\n",
      "Installing collected packages: html5lib\n",
      "  Found existing installation: html5lib 1.0b8\n",
      "    Uninstalling html5lib-1.0b8:\n",
      "      Successfully uninstalled html5lib-1.0b8\n",
      "Successfully installed html5lib-1.0.1\n"
     ]
    }
   ],
   "source": [
    "!pip install --upgrade beautifulsoup4\n",
    "!pip install --upgrade html5lib"
   ]
  },
  {
   "cell_type": "code",
   "execution_count": 1,
   "metadata": {},
   "outputs": [],
   "source": [
    "import time\n",
    "from SECEdgar.crawler import SecCrawler"
   ]
  },
  {
   "cell_type": "code",
   "execution_count": 2,
   "metadata": {},
   "outputs": [],
   "source": [
    "\n",
    "def get_filings(company,cik,todate,count):\n",
    "    t1 = time.time()\n",
    "\n",
    "    # create object\n",
    "    seccrawler = SecCrawler()\n",
    "\n",
    "#     companyCode = 'ETSY'    # company code for apple \n",
    "#     cik = '0001370637'      # cik code for apple\n",
    "#     date = '20191016'       # date until which filings should be downloaded\n",
    "#     count = '2'            # no of filings\n",
    "    \n",
    "\n",
    "\n",
    "    seccrawler.filing_10Q(str(company), str(cik), str(todate), str(count))\n",
    "#     seccrawler.filing_10K(str(companyCode), str(cik), str(date), str(count))\n",
    "    seccrawler.filing_8K(str(company), str(cik), str(todate), str(count))\n",
    "#     seccrawler.filing_13F(str(companyCode), str(cik), str(date), str(count))\n",
    "    \n",
    "    t2 = time.time()\n",
    "    print (\"Total Time taken: \")\n",
    "    print (t2-t1)\n",
    "\n",
    "\n"
   ]
  },
  {
   "cell_type": "code",
   "execution_count": 3,
   "metadata": {},
   "outputs": [
    {
     "name": "stdout",
     "output_type": "stream",
     "text": [
      "Path of the directory where data will be saved: C:\\Users\\manzh\\anaconda3\\lib\\site-packages\\SEC-Edgar-Data\n",
      "started 10-Q ETSY\n",
      "Number of files to download: 10\n",
      "Starting download...\n",
      "Successfully downloaded all the files\n",
      "started 8-K ETSY\n",
      "Number of files to download: 10\n",
      "Starting download...\n",
      "Successfully downloaded all the files\n",
      "Total Time taken: \n",
      "8.920274496078491\n"
     ]
    }
   ],
   "source": [
    "companyCode = 'ETSY'    # company code for apple \n",
    "cik = '0001370637'      # cik code for apple\n",
    "date = '20191016'       # date until which filings should be downloaded\n",
    "count = '15'            # no of filings\n",
    "get_filings(companyCode, cik, date, count) "
   ]
  },
  {
   "cell_type": "code",
   "execution_count": 5,
   "metadata": {},
   "outputs": [
    {
     "data": {
      "text/plain": [
       "'C:\\\\data\\\\CS\\\\scraped\\\\project3\\\\ETSY'"
      ]
     },
     "execution_count": 5,
     "metadata": {},
     "output_type": "execute_result"
    }
   ],
   "source": [
    "import shutil\n",
    "newpath=\"C:\\\\data\\\\CS\\\\scraped\\\\project3\\\\\"+companyCode\n",
    "ori_dir=\"C:\\\\Users\\\\manzh\\\\anaconda3\\\\lib\\\\site-packages\\\\SEC-Edgar-Data\\\\\"+companyCode+'\\\\'+cik\n",
    "tag_dir=newpath\n",
    "shutil.copytree(ori_dir,tag_dir)"
   ]
  }
 ],
 "metadata": {
  "kernelspec": {
   "display_name": "Python 3",
   "language": "python",
   "name": "python3"
  },
  "language_info": {
   "codemirror_mode": {
    "name": "ipython",
    "version": 3
   },
   "file_extension": ".py",
   "mimetype": "text/x-python",
   "name": "python",
   "nbconvert_exporter": "python",
   "pygments_lexer": "ipython3",
   "version": "3.6.7"
  }
 },
 "nbformat": 4,
 "nbformat_minor": 2
}
