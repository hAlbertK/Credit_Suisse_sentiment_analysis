{
 "cells": [
  {
   "cell_type": "code",
   "execution_count": 1,
   "metadata": {},
   "outputs": [],
   "source": [
    "from urllib.request import urlopen\n",
    "import os\n",
    "from bs4 import BeautifulSoup as BeautifulSoup\n",
    "import pandas as pd\n",
    "import nltk\n",
    "from pandas.core.frame import DataFrame\n",
    "import sys\n",
    "import numpy as np"
   ]
  },
  {
   "cell_type": "code",
   "execution_count": 2,
   "metadata": {},
   "outputs": [],
   "source": [
    "# Step 1: Define funtions to download filings\n",
    "def get_list(ticker, file_type, todate):\n",
    "\n",
    "    base_url_part1 = \"http://www.sec.gov/cgi-bin/browse-edgar?action=getcompany&CIK=\"\n",
    "    base_url_part2 = \"&type=&dateb=&owner=&start=\"\n",
    "    base_url_part3 = \"&count=100&output=xml\"\n",
    "    href = []\n",
    "    \n",
    "    for page_number in range(0,2000,100):\n",
    "    \n",
    "        base_url = base_url_part1 + ticker + base_url_part2 + str(page_number) + base_url_part3\n",
    "        \n",
    "        sec_page = urlopen(base_url)\n",
    "        sec_soup = BeautifulSoup(sec_page)\n",
    "        \n",
    "        filings = sec_soup.findAll('filing')\n",
    "        \n",
    "        for filing in filings:\n",
    "            report_year = int(filing.datefiled.get_text()[0:4])\n",
    "            if (filing.type.get_text() == file_type) & (report_year > todate):\n",
    "                print (filing.filinghref.get_text())\n",
    "                href.append(filing.filinghref.get_text())\n",
    "    \n",
    "    return href\n",
    "\n",
    "pre_url=[]\n",
    "def download_report(url_list,dir_path, typefile):\n",
    "    global pre_url\n",
    "    target_base_url = 'http://www.sec.gov'\n",
    "    \n",
    "    # type = 'EX-101.INS'\n",
    "    target_file_type = typefile\n",
    "    \n",
    "    for report_url in url_list:\n",
    "        report_page = urlopen(report_url)\n",
    "        report_soup = BeautifulSoup(report_page)\n",
    "        \n",
    "        xbrl_file = report_soup.findAll('tr')\n",
    "        #print (xbrl_file)\n",
    "        for item in xbrl_file:\n",
    "            try:\n",
    "                if item.findAll('td')[3].get_text() == target_file_type:\n",
    "                    if not os.path.exists(dir_path):\n",
    "                        os.makedirs(dir_path)\n",
    "                    \n",
    "                    end_path=item.findAll('td')[2].find('a')['href']\n",
    "                    end_path=end_path.split('/')\n",
    "                    #print (end_path[1])\n",
    "                    if end_path[1]=='ix?doc=':\n",
    "                        del end_path[1]\n",
    "                    end_path=','.join(end_path)\n",
    "                    end_path=end_path.replace(',', '/')\n",
    "                    #print (end_path)\n",
    "                    target_url = target_base_url + end_path\n",
    "                    pre_url.append(target_url)\n",
    "                    #print (\"Target URL found!\")\n",
    "                    #print (\"Target URL is:\", target_url)\n",
    "                    \n",
    "                    file_name = target_url.split('/')[-1]\n",
    "                    print (file_name)\n",
    "                   \n",
    "                    xbrl_report = urlopen(target_url)\n",
    "                    output = open(os.path.join(dir_path,file_name),'wb')\n",
    "                    output.write(xbrl_report.read())\n",
    "                    output.close()\n",
    "                    \n",
    "            except:\n",
    "                pass\n",
    "#     return pre_url"
   ]
  },
  {
   "cell_type": "code",
   "execution_count": 3,
   "metadata": {},
   "outputs": [],
   "source": [
    "# Step 2: Define funtions to download filings\n",
    "# Import tickers\n",
    "# TickerFile = pd.read_csv(\"companylist.csv\")\n",
    "# Tickers = TickerFile['Symbol'].tolist()\n",
    "\n",
    "# tickers = Tickers\n",
    "\n",
    "# for ticker in tickers:\n",
    "\n",
    "def getfiles(tickername, filename, year):   \n",
    "    ticker=tickername\n",
    "    url_list= get_list(ticker, filename,year-1)\n",
    "    base_path = \"C:/data/CS/project3\"\n",
    "    dir_path = base_path + \"/\"+ticker+\"/\"+filename\n",
    "    download_report(url_list,dir_path, filename)\n",
    "#     url_to_text=download_report(url_list,dir_path, filename)\n",
    "#     print (url_to_text)\n",
    "    \n",
    "#     url=url_to_text[0]\n",
    "#     html = urlopen(url).read()\n",
    "#     soup = BeautifulSoup(html)\n",
    "\n",
    "#     # kill all script and style elements\n",
    "#     for script in soup([\"script\", \"style\"]):\n",
    "#         script.extract()    # rip it out\n",
    "\n",
    "#     # get text\n",
    "#     text = soup.get_text()\n",
    "\n",
    "#     # break into lines and remove leading and trailing space on each\n",
    "#     lines = (line.strip() for line in text.splitlines())\n",
    "#     # break multi-headlines into a line each\n",
    "#     chunks = (phrase.strip() for line in lines for phrase in line.split(\"  \"))\n",
    "#     # drop blank lines\n",
    "#     text = '\\n'.join(chunk for chunk in chunks if chunk)\n",
    "#     print (text)\n",
    "    "
   ]
  },
  {
   "cell_type": "code",
   "execution_count": 4,
   "metadata": {},
   "outputs": [
    {
     "name": "stdout",
     "output_type": "stream",
     "text": [
      "https://www.sec.gov/Archives/edgar/data/1370637/000137063719000146/0001370637-19-000146-index.htm\n",
      "https://www.sec.gov/Archives/edgar/data/1370637/000137063719000090/0001370637-19-000090-index.htm\n",
      "etsy6301910q.htm\n",
      "etsy3311910q.htm\n"
     ]
    }
   ],
   "source": [
    "#getfiles ('ETSY','8-K', 2019)\n",
    "getfiles('ETSY', '10-Q', 2019)"
   ]
  },
  {
   "cell_type": "code",
   "execution_count": 5,
   "metadata": {},
   "outputs": [
    {
     "data": {
      "text/plain": [
       "['http://www.sec.gov/Archives/edgar/data/1370637/000137063719000146/etsy6301910q.htm',\n",
       " 'http://www.sec.gov/Archives/edgar/data/1370637/000137063719000090/etsy3311910q.htm']"
      ]
     },
     "execution_count": 5,
     "metadata": {},
     "output_type": "execute_result"
    }
   ],
   "source": [
    "pre_url"
   ]
  },
  {
   "cell_type": "code",
   "execution_count": 6,
   "metadata": {},
   "outputs": [],
   "source": [
    "def sift_tables(html):\n",
    "    from bs4 import BeautifulSoup\n",
    "    import csv\n",
    "    html = urlopen(html)\n",
    "    soup = BeautifulSoup(html)\n",
    "    table = soup.findAll(\"table\")\n",
    "    #print (table)\n",
    "    #output_rows = []\n",
    "    output_row = []\n",
    "    for a in table:\n",
    "        for b in a.findAll('tr'):\n",
    "            #print (b)\n",
    "            for c in b.findAll('td'):\n",
    "                for d in c.findAll('span'):                   \n",
    "                    output_row.append(d.get_text())\n",
    "#     output_row = np.array(output_row)\n",
    "#     output_row=output_row.map(lambda x: [word.lower() for word in x])\n",
    "    output=[]\n",
    "    for str in output_row:\n",
    "        output.append(str.lower())\n",
    "    return  output\n",
    "    \n",
    "# output_row\n",
    "# for i, keyword in enumerate (output_row):\n",
    "#     if 'Volatility' in keyword :\n",
    "        \n",
    "#         print (output_row[i+1])"
   ]
  },
  {
   "cell_type": "code",
   "execution_count": 7,
   "metadata": {},
   "outputs": [],
   "source": [
    "def find_values(hotword, file_url):\n",
    "    table_list=sift_tables(file_url)\n",
    "    c={}\n",
    "    c_dict=[]\n",
    "    #print (table_list)\n",
    "    for i, keyword in enumerate (table_list):\n",
    "        if hotword in keyword :\n",
    "            temp=table_list[i+1]\n",
    "            temp=temp.replace(',','')\n",
    "            try:\n",
    "                temp=int(temp)\n",
    "                \n",
    "                #print(c)\n",
    "                c_dict.append(temp)\n",
    "            except:\n",
    "                c[hotword]=temp\n",
    "    if c_dict:\n",
    "        c[hotword]=c_dict\n",
    "\n",
    "    if c=={}:\n",
    "        c[hotword]=None\n",
    "        \n",
    "   \n",
    "    return c\n",
    "            "
   ]
  },
  {
   "cell_type": "code",
   "execution_count": 8,
   "metadata": {},
   "outputs": [
    {
     "data": {
      "text/plain": [
       "{'shares': [120, 159403, 247941, 104849, 253989, 120198526, 130807743, 153865]}"
      ]
     },
     "execution_count": 8,
     "metadata": {},
     "output_type": "execute_result"
    }
   ],
   "source": [
    "find_values('shares', pre_url[0])"
   ]
  },
  {
   "cell_type": "code",
   "execution_count": 9,
   "metadata": {},
   "outputs": [
    {
     "name": "stdout",
     "output_type": "stream",
     "text": [
      "{'volatility': '39.2% - 39.5%', 'notional': None, 'strike percentage': None, 'expire': None, 'expiry': None, 'shares': [120, 159403, 247941, 104849, 253989, 120198526, 130807743, 153865], 'premium': None, 'conversion rate': None}\n"
     ]
    },
    {
     "data": {
      "text/html": [
       "<div>\n",
       "<style scoped>\n",
       "    .dataframe tbody tr th:only-of-type {\n",
       "        vertical-align: middle;\n",
       "    }\n",
       "\n",
       "    .dataframe tbody tr th {\n",
       "        vertical-align: top;\n",
       "    }\n",
       "\n",
       "    .dataframe thead th {\n",
       "        text-align: right;\n",
       "    }\n",
       "</style>\n",
       "<table border=\"1\" class=\"dataframe\">\n",
       "  <thead>\n",
       "    <tr style=\"text-align: right;\">\n",
       "      <th></th>\n",
       "      <th>Parameters</th>\n",
       "      <th>Values</th>\n",
       "    </tr>\n",
       "  </thead>\n",
       "  <tbody>\n",
       "    <tr>\n",
       "      <th>0</th>\n",
       "      <td>volatility</td>\n",
       "      <td>39.2% - 39.5%</td>\n",
       "    </tr>\n",
       "    <tr>\n",
       "      <th>1</th>\n",
       "      <td>notional</td>\n",
       "      <td>None</td>\n",
       "    </tr>\n",
       "    <tr>\n",
       "      <th>2</th>\n",
       "      <td>strike percentage</td>\n",
       "      <td>None</td>\n",
       "    </tr>\n",
       "    <tr>\n",
       "      <th>3</th>\n",
       "      <td>expire</td>\n",
       "      <td>None</td>\n",
       "    </tr>\n",
       "    <tr>\n",
       "      <th>4</th>\n",
       "      <td>expiry</td>\n",
       "      <td>None</td>\n",
       "    </tr>\n",
       "    <tr>\n",
       "      <th>5</th>\n",
       "      <td>shares</td>\n",
       "      <td>[120, 159403, 247941, 104849, 253989, 12019852...</td>\n",
       "    </tr>\n",
       "    <tr>\n",
       "      <th>6</th>\n",
       "      <td>premium</td>\n",
       "      <td>None</td>\n",
       "    </tr>\n",
       "    <tr>\n",
       "      <th>7</th>\n",
       "      <td>conversion rate</td>\n",
       "      <td>None</td>\n",
       "    </tr>\n",
       "  </tbody>\n",
       "</table>\n",
       "</div>"
      ],
      "text/plain": [
       "          Parameters                                             Values\n",
       "0         volatility                                      39.2% - 39.5%\n",
       "1           notional                                               None\n",
       "2  strike percentage                                               None\n",
       "3             expire                                               None\n",
       "4             expiry                                               None\n",
       "5             shares  [120, 159403, 247941, 104849, 253989, 12019852...\n",
       "6            premium                                               None\n",
       "7    conversion rate                                               None"
      ]
     },
     "execution_count": 9,
     "metadata": {},
     "output_type": "execute_result"
    }
   ],
   "source": [
    "final_table={}\n",
    "hotword_list=['volatility', 'notional', 'strike percentage', 'expire', 'expiry', 'shares', 'premium', 'conversion rate']\n",
    "\n",
    "for word in hotword_list:\n",
    "    final_table.update(find_values(word, pre_url[0]))\n",
    "    # final_table.append(aa)\n",
    "    # final_table\n",
    "print (final_table)\n",
    "df=pd.DataFrame(columns=['Parameters','Values'], index=None)\n",
    "values=[]\n",
    "for key in final_table:\n",
    "    values.append(final_table[key])\n",
    "df['Values']=values\n",
    "df['Parameters']=hotword_list\n",
    "\n",
    "df.to_csv('C:/data/CS/project3/par_val.csv', index=None)\n",
    "df"
   ]
  }
 ],
 "metadata": {
  "kernelspec": {
   "display_name": "Python 3",
   "language": "python",
   "name": "python3"
  },
  "language_info": {
   "codemirror_mode": {
    "name": "ipython",
    "version": 3
   },
   "file_extension": ".py",
   "mimetype": "text/x-python",
   "name": "python",
   "nbconvert_exporter": "python",
   "pygments_lexer": "ipython3",
   "version": "3.6.7"
  }
 },
 "nbformat": 4,
 "nbformat_minor": 2
}
