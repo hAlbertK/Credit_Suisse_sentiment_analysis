{
  "nbformat": 4,
  "nbformat_minor": 0,
  "metadata": {
    "colab": {
      "name": "CS_SA_DL.ipynb",
      "provenance": [],
      "collapsed_sections": [],
      "machine_shape": "hm"
    },
    "kernelspec": {
      "name": "python2",
      "display_name": "Python 2"
    },
    "accelerator": "GPU"
  },
  "cells": [
    {
      "cell_type": "code",
      "metadata": {
        "id": "RYGuP11n9SUh",
        "colab_type": "code",
        "colab": {
          "base_uri": "https://localhost:8080/",
          "height": 63
        },
        "outputId": "216b29f7-4c62-4e71-b9a9-97531e8945c5"
      },
      "source": [
        "import pandas as pd  \n",
        "import numpy as np\n",
        "import matplotlib.pyplot as plt\n",
        "plt.style.use('fivethirtyeight')\n",
        "\n",
        "%matplotlib inline\n",
        "%config InlineBackend.figure_format = 'retina'\n",
        "import pandas as pd\n",
        "import numpy as np\n",
        "import scipy\n",
        "import sklearn\n",
        "from sklearn.linear_model import Ridge\n",
        "from sklearn.metrics import mean_squared_error\n",
        "from sklearn.feature_extraction.text import TfidfVectorizer\n",
        "import re\n",
        "\n",
        "from nltk.tokenize import word_tokenize\n",
        "from nltk.corpus import stopwords\n",
        "from pandas import Series, DataFrame\n",
        "import nltk\n",
        "\n",
        "import spacy\n",
        "import string\n",
        "\n",
        "from gensim import corpora, models, similarities\n",
        "\n",
        "import tensorflow as tf\n",
        "import tensorflow_hub as hub\n",
        "\n",
        "from gensim.models import Word2Vec"
      ],
      "execution_count": 1,
      "outputs": [
        {
          "output_type": "display_data",
          "data": {
            "text/plain": [
              "<IPython.core.display.HTML object>"
            ],
            "text/html": [
              "<p style=\"color: red;\">\n",
              "The default version of TensorFlow in Colab will soon switch to TensorFlow 2.x.<br>\n",
              "We recommend you <a href=\"https://www.tensorflow.org/guide/migrate\" target=\"_blank\">upgrade</a> now \n",
              "or ensure your notebook will continue to use TensorFlow 1.x via the <code>%tensorflow_version 1.x</code> magic:\n",
              "<a href=\"https://colab.research.google.com/notebooks/tensorflow_version.ipynb\" target=\"_blank\">more info</a>.</p>\n"
            ]
          },
          "metadata": {
            "tags": []
          }
        }
      ]
    },
    {
      "cell_type": "code",
      "metadata": {
        "id": "QTsjd-469gQJ",
        "colab_type": "code",
        "outputId": "8da6327a-0efb-4e45-fc96-092fd3564aab",
        "colab": {
          "resources": {
            "http://localhost:8080/nbextensions/google.colab/files.js": {
              "data": "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",
              "ok": true,
              "headers": [
                [
                  "content-type",
                  "application/javascript"
                ]
              ],
              "status": 200,
              "status_text": ""
            }
          },
          "base_uri": "https://localhost:8080/",
          "height": 74
        }
      },
      "source": [
        "from google.colab import files \n",
        "uploaded = files.upload() "
      ],
      "execution_count": 2,
      "outputs": [
        {
          "output_type": "display_data",
          "data": {
            "text/plain": [
              "<IPython.core.display.HTML object>"
            ],
            "text/html": [
              "\n",
              "     <input type=\"file\" id=\"files-a08e7ef8-e240-4fdb-9d26-bb9cf3ffabf8\" name=\"files[]\" multiple disabled />\n",
              "     <output id=\"result-a08e7ef8-e240-4fdb-9d26-bb9cf3ffabf8\">\n",
              "      Upload widget is only available when the cell has been executed in the\n",
              "      current browser session. Please rerun this cell to enable.\n",
              "      </output>\n",
              "      <script src=\"/nbextensions/google.colab/files.js\"></script> "
            ]
          },
          "metadata": {
            "tags": []
          }
        },
        {
          "output_type": "stream",
          "text": [
            "Saving balanced_active_news.csv to balanced_active_news.csv\n"
          ],
          "name": "stdout"
        }
      ]
    },
    {
      "cell_type": "code",
      "metadata": {
        "id": "7flCIsuJ-izn",
        "colab_type": "code",
        "outputId": "0b201820-a2c3-4975-a9b4-2277bc8c7a2b",
        "colab": {
          "base_uri": "https://localhost:8080/",
          "height": 86
        }
      },
      "source": [
        "df = pd.read_csv('balanced_active_news.csv', usecols=['CONTENT','sentiment'])\n",
        "df.head(10)\n",
        "df['label']=df['sentiment']\n",
        "df['label'].value_counts()"
      ],
      "execution_count": 3,
      "outputs": [
        {
          "output_type": "execute_result",
          "data": {
            "text/plain": [
              "neutral     2170\n",
              "negative    2170\n",
              "positive    2170\n",
              "Name: label, dtype: int64"
            ]
          },
          "metadata": {
            "tags": []
          },
          "execution_count": 3
        }
      ]
    },
    {
      "cell_type": "code",
      "metadata": {
        "id": "ZblStqZkZ35M",
        "colab_type": "code",
        "outputId": "e2ddd997-d4c9-4b5d-9640-8f3e1258026a",
        "colab": {
          "base_uri": "https://localhost:8080/",
          "height": 86
        }
      },
      "source": [
        "for i, item in enumerate (df['label']):\n",
        "  if item=='positive':\n",
        "    df['label'][i]=2\n",
        "  if item=='neutral':\n",
        "    df['label'][i]=1\n",
        "  if item=='negative':\n",
        "    df['label'][i]=0\n",
        "df['label'].value_counts()"
      ],
      "execution_count": 4,
      "outputs": [
        {
          "output_type": "execute_result",
          "data": {
            "text/plain": [
              "2    2170\n",
              "1    2170\n",
              "0    2170\n",
              "Name: label, dtype: int64"
            ]
          },
          "metadata": {
            "tags": []
          },
          "execution_count": 4
        }
      ]
    },
    {
      "cell_type": "code",
      "metadata": {
        "id": "KRBxhRc2L1JT",
        "colab_type": "code",
        "outputId": "f309a0ba-cc38-4fad-bd8e-8644ca7f3b48",
        "colab": {
          "resources": {
            "http://localhost:8080/nbextensions/google.colab/files.js": {
              "data": "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",
              "ok": true,
              "headers": [
                [
                  "content-type",
                  "application/javascript"
                ]
              ],
              "status": 200,
              "status_text": ""
            }
          },
          "base_uri": "https://localhost:8080/",
          "height": 74
        }
      },
      "source": [
        "from google.colab import files \n",
        "uploaded = files.upload() "
      ],
      "execution_count": 5,
      "outputs": [
        {
          "output_type": "display_data",
          "data": {
            "text/plain": [
              "<IPython.core.display.HTML object>"
            ],
            "text/html": [
              "\n",
              "     <input type=\"file\" id=\"files-96b1b32e-5982-41bd-8ed1-dc5dd4b9b5f9\" name=\"files[]\" multiple disabled />\n",
              "     <output id=\"result-96b1b32e-5982-41bd-8ed1-dc5dd4b9b5f9\">\n",
              "      Upload widget is only available when the cell has been executed in the\n",
              "      current browser session. Please rerun this cell to enable.\n",
              "      </output>\n",
              "      <script src=\"/nbextensions/google.colab/files.js\"></script> "
            ]
          },
          "metadata": {
            "tags": []
          }
        },
        {
          "output_type": "stream",
          "text": [
            "Saving test.csv to test.csv\n"
          ],
          "name": "stdout"
        }
      ]
    },
    {
      "cell_type": "code",
      "metadata": {
        "id": "6eX3UdOyNwBw",
        "colab_type": "code",
        "outputId": "7a9f2cfc-7f7d-4f71-d6c1-5b99c5e02882",
        "colab": {
          "base_uri": "https://localhost:8080/",
          "height": 1000
        }
      },
      "source": [
        "tdf = pd.read_csv('test.csv')\n",
        "len(tdf)\n",
        "tdf"
      ],
      "execution_count": 6,
      "outputs": [
        {
          "output_type": "execute_result",
          "data": {
            "text/html": [
              "<div>\n",
              "<style scoped>\n",
              "    .dataframe tbody tr th:only-of-type {\n",
              "        vertical-align: middle;\n",
              "    }\n",
              "\n",
              "    .dataframe tbody tr th {\n",
              "        vertical-align: top;\n",
              "    }\n",
              "\n",
              "    .dataframe thead th {\n",
              "        text-align: right;\n",
              "    }\n",
              "</style>\n",
              "<table border=\"1\" class=\"dataframe\">\n",
              "  <thead>\n",
              "    <tr style=\"text-align: right;\">\n",
              "      <th></th>\n",
              "      <th>CONTENT</th>\n",
              "      <th>label</th>\n",
              "    </tr>\n",
              "  </thead>\n",
              "  <tbody>\n",
              "    <tr>\n",
              "      <th>0</th>\n",
              "      <td>mclean va oct 08 2019 globe newswire gladstone...</td>\n",
              "      <td>1</td>\n",
              "    </tr>\n",
              "    <tr>\n",
              "      <th>1</th>\n",
              "      <td>add detail background share sept 9 reuters fre...</td>\n",
              "      <td>0</td>\n",
              "    </tr>\n",
              "    <tr>\n",
              "      <th>2</th>\n",
              "      <td>acceleron pharma inc xlrn announce the discont...</td>\n",
              "      <td>0</td>\n",
              "    </tr>\n",
              "    <tr>\n",
              "      <th>3</th>\n",
              "      <td>corona ca accesswire october 3 2019 adomani in...</td>\n",
              "      <td>0</td>\n",
              "    </tr>\n",
              "    <tr>\n",
              "      <th>4</th>\n",
              "      <td>corona ca accesswire september 20 2019 adomani...</td>\n",
              "      <td>2</td>\n",
              "    </tr>\n",
              "    <tr>\n",
              "      <th>5</th>\n",
              "      <td>corona ca accesswire september 26 2019 adomani...</td>\n",
              "      <td>2</td>\n",
              "    </tr>\n",
              "    <tr>\n",
              "      <th>6</th>\n",
              "      <td>bloomberg tilman fertitta have to wait to land...</td>\n",
              "      <td>1</td>\n",
              "    </tr>\n",
              "    <tr>\n",
              "      <th>7</th>\n",
              "      <td>plan to resume trade on over the counter marke...</td>\n",
              "      <td>1</td>\n",
              "    </tr>\n",
              "    <tr>\n",
              "      <th>8</th>\n",
              "      <td>beijing may 23 2019 globe newswire chinacache ...</td>\n",
              "      <td>0</td>\n",
              "    </tr>\n",
              "    <tr>\n",
              "      <th>9</th>\n",
              "      <td>beijing aug 28 2019 globe newswire chinacache ...</td>\n",
              "      <td>1</td>\n",
              "    </tr>\n",
              "    <tr>\n",
              "      <th>10</th>\n",
              "      <td>beijing urumqi china and hangzhou china july 1...</td>\n",
              "      <td>1</td>\n",
              "    </tr>\n",
              "    <tr>\n",
              "      <th>11</th>\n",
              "      <td>beijing urumqi china and hangzhou china july 2...</td>\n",
              "      <td>1</td>\n",
              "    </tr>\n",
              "    <tr>\n",
              "      <th>12</th>\n",
              "      <td>beijing urumqi china and hangzhou china july 1...</td>\n",
              "      <td>0</td>\n",
              "    </tr>\n",
              "    <tr>\n",
              "      <th>13</th>\n",
              "      <td>beijing urumqi and hangzhou china aug 12 2019 ...</td>\n",
              "      <td>0</td>\n",
              "    </tr>\n",
              "    <tr>\n",
              "      <th>14</th>\n",
              "      <td>beijing urumqi china and hangzhou china aug 20...</td>\n",
              "      <td>1</td>\n",
              "    </tr>\n",
              "    <tr>\n",
              "      <th>15</th>\n",
              "      <td>share of cellcom israel ltd cel gain 21 3 afte...</td>\n",
              "      <td>1</td>\n",
              "    </tr>\n",
              "    <tr>\n",
              "      <th>16</th>\n",
              "      <td>every enterprise can harness the performance a...</td>\n",
              "      <td>1</td>\n",
              "    </tr>\n",
              "    <tr>\n",
              "      <th>17</th>\n",
              "      <td>seattle aug 02 2019 globe newswire global supe...</td>\n",
              "      <td>1</td>\n",
              "    </tr>\n",
              "    <tr>\n",
              "      <th>18</th>\n",
              "      <td>new york ny accesswire june 24 2019 halper sad...</td>\n",
              "      <td>1</td>\n",
              "    </tr>\n",
              "    <tr>\n",
              "      <th>19</th>\n",
              "      <td>csc s new platform offers more convenience and...</td>\n",
              "      <td>2</td>\n",
              "    </tr>\n",
              "    <tr>\n",
              "      <th>20</th>\n",
              "      <td>stockholder to receive 8 00 in cash per share ...</td>\n",
              "      <td>1</td>\n",
              "    </tr>\n",
              "    <tr>\n",
              "      <th>21</th>\n",
              "      <td>new york sept 20 2019 globe newswire the nasda...</td>\n",
              "      <td>2</td>\n",
              "    </tr>\n",
              "    <tr>\n",
              "      <th>22</th>\n",
              "      <td>new york aug 21 2019 globe newswire the nasdaq...</td>\n",
              "      <td>2</td>\n",
              "    </tr>\n",
              "    <tr>\n",
              "      <th>23</th>\n",
              "      <td>the 700 hedge fund and famous money manager tr...</td>\n",
              "      <td>1</td>\n",
              "    </tr>\n",
              "    <tr>\n",
              "      <th>24</th>\n",
              "      <td>sept 9 reuters fred s inc say on monday -pron-...</td>\n",
              "      <td>0</td>\n",
              "    </tr>\n",
              "    <tr>\n",
              "      <th>25</th>\n",
              "      <td>brentwood tenn may 22 2019 globe newswire dive...</td>\n",
              "      <td>0</td>\n",
              "    </tr>\n",
              "    <tr>\n",
              "      <th>26</th>\n",
              "      <td>brentwood tenn sept 04 2019 globe newswire div...</td>\n",
              "      <td>1</td>\n",
              "    </tr>\n",
              "    <tr>\n",
              "      <th>27</th>\n",
              "      <td>brentwood tenn aug 28 2019 globe newswire dive...</td>\n",
              "      <td>0</td>\n",
              "    </tr>\n",
              "    <tr>\n",
              "      <th>28</th>\n",
              "      <td>finisar corporation fnsr be a big mover last s...</td>\n",
              "      <td>2</td>\n",
              "    </tr>\n",
              "    <tr>\n",
              "      <th>29</th>\n",
              "      <td>sunnvale calif and dublin ireland sept 22 2019...</td>\n",
              "      <td>2</td>\n",
              "    </tr>\n",
              "    <tr>\n",
              "      <th>...</th>\n",
              "      <td>...</td>\n",
              "      <td>...</td>\n",
              "    </tr>\n",
              "    <tr>\n",
              "      <th>340</th>\n",
              "      <td>new york july 22 2019 prnewswire weisslaw llp ...</td>\n",
              "      <td>1</td>\n",
              "    </tr>\n",
              "    <tr>\n",
              "      <th>341</th>\n",
              "      <td>new york june 13 2019 prnewswire weisslaw llp ...</td>\n",
              "      <td>1</td>\n",
              "    </tr>\n",
              "    <tr>\n",
              "      <th>342</th>\n",
              "      <td>felton california june 10 2019 prnewswire in 2...</td>\n",
              "      <td>1</td>\n",
              "    </tr>\n",
              "    <tr>\n",
              "      <th>343</th>\n",
              "      <td>corning n y march 22 2019 prnewswire a couple ...</td>\n",
              "      <td>1</td>\n",
              "    </tr>\n",
              "    <tr>\n",
              "      <th>344</th>\n",
              "      <td>beijing sept 12 2019 prnewswire china techfait...</td>\n",
              "      <td>2</td>\n",
              "    </tr>\n",
              "    <tr>\n",
              "      <th>345</th>\n",
              "      <td>beijing june 14 2019 prnewswire china techfait...</td>\n",
              "      <td>2</td>\n",
              "    </tr>\n",
              "    <tr>\n",
              "      <th>346</th>\n",
              "      <td>memphis tenn may 24 2019 prnewswire as shopper...</td>\n",
              "      <td>0</td>\n",
              "    </tr>\n",
              "    <tr>\n",
              "      <th>347</th>\n",
              "      <td>great falls va may 29 2019 prnewswire thunder ...</td>\n",
              "      <td>1</td>\n",
              "    </tr>\n",
              "    <tr>\n",
              "      <th>348</th>\n",
              "      <td>broomfield colo sept 24 2019 prnewswire vail r...</td>\n",
              "      <td>1</td>\n",
              "    </tr>\n",
              "    <tr>\n",
              "      <th>349</th>\n",
              "      <td>broomfield colo july 22 2019 prnewswire vail r...</td>\n",
              "      <td>1</td>\n",
              "    </tr>\n",
              "    <tr>\n",
              "      <th>350</th>\n",
              "      <td>new york jan 25 2019 prnewswire yangtze river ...</td>\n",
              "      <td>0</td>\n",
              "    </tr>\n",
              "    <tr>\n",
              "      <th>351</th>\n",
              "      <td>the unconstructed part of the project be a pla...</td>\n",
              "      <td>0</td>\n",
              "    </tr>\n",
              "    <tr>\n",
              "      <th>352</th>\n",
              "      <td>new york aug 28 2019 prnewswire on january 23 ...</td>\n",
              "      <td>0</td>\n",
              "    </tr>\n",
              "    <tr>\n",
              "      <th>353</th>\n",
              "      <td>new york feb 8 2019 prnewswire rosen law firm ...</td>\n",
              "      <td>0</td>\n",
              "    </tr>\n",
              "    <tr>\n",
              "      <th>354</th>\n",
              "      <td>new york jan 31 2019 prnewswire rosen law firm...</td>\n",
              "      <td>0</td>\n",
              "    </tr>\n",
              "    <tr>\n",
              "      <th>355</th>\n",
              "      <td>discount retailer freds inc seek court approva...</td>\n",
              "      <td>0</td>\n",
              "    </tr>\n",
              "    <tr>\n",
              "      <th>356</th>\n",
              "      <td>add thyssenkrupp t mobile petroleo brasileiro ...</td>\n",
              "      <td>2</td>\n",
              "    </tr>\n",
              "    <tr>\n",
              "      <th>357</th>\n",
              "      <td>sept 9 reuters freds inc say on monday -pron- ...</td>\n",
              "      <td>0</td>\n",
              "    </tr>\n",
              "    <tr>\n",
              "      <th>358</th>\n",
              "      <td>june 11 reuter the follow be the top story in ...</td>\n",
              "      <td>2</td>\n",
              "    </tr>\n",
              "    <tr>\n",
              "      <th>359</th>\n",
              "      <td>san francisco reuters amazon com inc be roll o...</td>\n",
              "      <td>1</td>\n",
              "    </tr>\n",
              "    <tr>\n",
              "      <th>360</th>\n",
              "      <td>for a live blog on the u s stock market click ...</td>\n",
              "      <td>0</td>\n",
              "    </tr>\n",
              "    <tr>\n",
              "      <th>361</th>\n",
              "      <td>a trader pass by the post where hewlett packar...</td>\n",
              "      <td>2</td>\n",
              "    </tr>\n",
              "    <tr>\n",
              "      <th>362</th>\n",
              "      <td>reuters del friscos restaurant group inc say o...</td>\n",
              "      <td>1</td>\n",
              "    </tr>\n",
              "    <tr>\n",
              "      <th>363</th>\n",
              "      <td>reuters del friscos restaurant group inc dfrg ...</td>\n",
              "      <td>1</td>\n",
              "    </tr>\n",
              "    <tr>\n",
              "      <th>364</th>\n",
              "      <td>reuters del friscos restaurant group inc dfrg ...</td>\n",
              "      <td>1</td>\n",
              "    </tr>\n",
              "    <tr>\n",
              "      <th>365</th>\n",
              "      <td>reuters del friscos restaurant group inc say o...</td>\n",
              "      <td>1</td>\n",
              "    </tr>\n",
              "    <tr>\n",
              "      <th>366</th>\n",
              "      <td>reuters freds inc say on thursday -pron- would...</td>\n",
              "      <td>0</td>\n",
              "    </tr>\n",
              "    <tr>\n",
              "      <th>367</th>\n",
              "      <td>reuters freds inc fred o say on monday -pron- ...</td>\n",
              "      <td>0</td>\n",
              "    </tr>\n",
              "    <tr>\n",
              "      <th>368</th>\n",
              "      <td>washington reuters the u s commerce department...</td>\n",
              "      <td>1</td>\n",
              "    </tr>\n",
              "    <tr>\n",
              "      <th>369</th>\n",
              "      <td>reuters a u s government lead group be work wi...</td>\n",
              "      <td>1</td>\n",
              "    </tr>\n",
              "  </tbody>\n",
              "</table>\n",
              "<p>370 rows × 2 columns</p>\n",
              "</div>"
            ],
            "text/plain": [
              "                                               CONTENT  label\n",
              "0    mclean va oct 08 2019 globe newswire gladstone...      1\n",
              "1    add detail background share sept 9 reuters fre...      0\n",
              "2    acceleron pharma inc xlrn announce the discont...      0\n",
              "3    corona ca accesswire october 3 2019 adomani in...      0\n",
              "4    corona ca accesswire september 20 2019 adomani...      2\n",
              "5    corona ca accesswire september 26 2019 adomani...      2\n",
              "6    bloomberg tilman fertitta have to wait to land...      1\n",
              "7    plan to resume trade on over the counter marke...      1\n",
              "8    beijing may 23 2019 globe newswire chinacache ...      0\n",
              "9    beijing aug 28 2019 globe newswire chinacache ...      1\n",
              "10   beijing urumqi china and hangzhou china july 1...      1\n",
              "11   beijing urumqi china and hangzhou china july 2...      1\n",
              "12   beijing urumqi china and hangzhou china july 1...      0\n",
              "13   beijing urumqi and hangzhou china aug 12 2019 ...      0\n",
              "14   beijing urumqi china and hangzhou china aug 20...      1\n",
              "15   share of cellcom israel ltd cel gain 21 3 afte...      1\n",
              "16   every enterprise can harness the performance a...      1\n",
              "17   seattle aug 02 2019 globe newswire global supe...      1\n",
              "18   new york ny accesswire june 24 2019 halper sad...      1\n",
              "19   csc s new platform offers more convenience and...      2\n",
              "20   stockholder to receive 8 00 in cash per share ...      1\n",
              "21   new york sept 20 2019 globe newswire the nasda...      2\n",
              "22   new york aug 21 2019 globe newswire the nasdaq...      2\n",
              "23   the 700 hedge fund and famous money manager tr...      1\n",
              "24   sept 9 reuters fred s inc say on monday -pron-...      0\n",
              "25   brentwood tenn may 22 2019 globe newswire dive...      0\n",
              "26   brentwood tenn sept 04 2019 globe newswire div...      1\n",
              "27   brentwood tenn aug 28 2019 globe newswire dive...      0\n",
              "28   finisar corporation fnsr be a big mover last s...      2\n",
              "29   sunnvale calif and dublin ireland sept 22 2019...      2\n",
              "..                                                 ...    ...\n",
              "340  new york july 22 2019 prnewswire weisslaw llp ...      1\n",
              "341  new york june 13 2019 prnewswire weisslaw llp ...      1\n",
              "342  felton california june 10 2019 prnewswire in 2...      1\n",
              "343  corning n y march 22 2019 prnewswire a couple ...      1\n",
              "344  beijing sept 12 2019 prnewswire china techfait...      2\n",
              "345  beijing june 14 2019 prnewswire china techfait...      2\n",
              "346  memphis tenn may 24 2019 prnewswire as shopper...      0\n",
              "347  great falls va may 29 2019 prnewswire thunder ...      1\n",
              "348  broomfield colo sept 24 2019 prnewswire vail r...      1\n",
              "349  broomfield colo july 22 2019 prnewswire vail r...      1\n",
              "350  new york jan 25 2019 prnewswire yangtze river ...      0\n",
              "351  the unconstructed part of the project be a pla...      0\n",
              "352  new york aug 28 2019 prnewswire on january 23 ...      0\n",
              "353  new york feb 8 2019 prnewswire rosen law firm ...      0\n",
              "354  new york jan 31 2019 prnewswire rosen law firm...      0\n",
              "355  discount retailer freds inc seek court approva...      0\n",
              "356  add thyssenkrupp t mobile petroleo brasileiro ...      2\n",
              "357  sept 9 reuters freds inc say on monday -pron- ...      0\n",
              "358  june 11 reuter the follow be the top story in ...      2\n",
              "359  san francisco reuters amazon com inc be roll o...      1\n",
              "360  for a live blog on the u s stock market click ...      0\n",
              "361  a trader pass by the post where hewlett packar...      2\n",
              "362  reuters del friscos restaurant group inc say o...      1\n",
              "363  reuters del friscos restaurant group inc dfrg ...      1\n",
              "364  reuters del friscos restaurant group inc dfrg ...      1\n",
              "365  reuters del friscos restaurant group inc say o...      1\n",
              "366  reuters freds inc say on thursday -pron- would...      0\n",
              "367  reuters freds inc fred o say on monday -pron- ...      0\n",
              "368  washington reuters the u s commerce department...      1\n",
              "369  reuters a u s government lead group be work wi...      1\n",
              "\n",
              "[370 rows x 2 columns]"
            ]
          },
          "metadata": {
            "tags": []
          },
          "execution_count": 6
        }
      ]
    },
    {
      "cell_type": "code",
      "metadata": {
        "id": "4-pCH8CcOKu4",
        "colab_type": "code",
        "outputId": "3ee687fb-bc79-452b-d0e3-fa705818372e",
        "colab": {
          "base_uri": "https://localhost:8080/",
          "height": 34
        }
      },
      "source": [
        "tdf.dropna(subset=['label'], inplace=True)\n",
        "len(tdf)"
      ],
      "execution_count": 7,
      "outputs": [
        {
          "output_type": "execute_result",
          "data": {
            "text/plain": [
              "370"
            ]
          },
          "metadata": {
            "tags": []
          },
          "execution_count": 7
        }
      ]
    },
    {
      "cell_type": "code",
      "metadata": {
        "id": "DCKRng3FN2BL",
        "colab_type": "code",
        "colab": {}
      },
      "source": [
        "x = df['CONTENT']\n",
        "y = df['label']\n",
        "x_test=tdf['CONTENT']\n",
        "y_test=tdf['label']"
      ],
      "execution_count": 0,
      "outputs": []
    },
    {
      "cell_type": "code",
      "metadata": {
        "id": "g4zZKs8eO0wF",
        "colab_type": "code",
        "colab": {}
      },
      "source": [
        "import sklearn.model_selection\n",
        "from sklearn.model_selection import train_test_split\n",
        "SEED = 42\n",
        "x_train, x_validation, y_train, y_validation = train_test_split(x, y, test_size=0.2, random_state=SEED)\n",
        "\n"
      ],
      "execution_count": 0,
      "outputs": []
    },
    {
      "cell_type": "code",
      "metadata": {
        "id": "D6fNBNZwRHDH",
        "colab_type": "code",
        "colab": {
          "base_uri": "https://localhost:8080/",
          "height": 34
        },
        "outputId": "cdfaa714-79d5-4b16-efea-159a3cbe10d0"
      },
      "source": [
        "len(x_train)"
      ],
      "execution_count": 10,
      "outputs": [
        {
          "output_type": "execute_result",
          "data": {
            "text/plain": [
              "5208"
            ]
          },
          "metadata": {
            "tags": []
          },
          "execution_count": 10
        }
      ]
    },
    {
      "cell_type": "markdown",
      "metadata": {
        "id": "jcErwLjX8V9D",
        "colab_type": "text"
      },
      "source": [
        "#Word vectors extracted from pre-trained GloVe (Average)\n",
        "GloVe is another kind of word representaiton in vectors proposed by Pennington et al. (2014) from the Stanford NLP Group. https://nlp.stanford.edu/pubs/glove.pdf\n",
        "\n",
        "The difference between Word2Vec and Glove is how the two models compute the word vectors. In Word2Vec, the word vectors you are getting is a kind of a by-product of a shallow neural network, when it tries to predict either centre word given surrounding words or vice versa. But with GloVe, the word vectors you are getting is the object matrix of GloVe model, and it calculates this using term co-occurrence matrix and dimensionality reduction.\n",
        "\n",
        "The good news is you can now easily load and use the pre-trained GloVe vectors from Gensim thanks to its latest update (Gensim 3.2.0). In addition to some pre-trained word vectors, new datasets are also added and this also can be easily downloaded using their downloader API. \n",
        "\n",
        "The Stanford NLP Group has made their pre-trained GloVe vectors publicly available, and among them there are GloVe vectors trained specifically with Tweets. This sounds like something definitely worth trying. They have four different versions of Tweet vectors each with different dimensions (25, 50, 100, 200) trained on 2 billion Tweets. \n",
        "\n",
        "For this post, I will use 200 dimesion pre-trrained GloVe vectors."
      ]
    },
    {
      "cell_type": "code",
      "metadata": {
        "id": "7XUDLCkI7vmn",
        "colab_type": "code",
        "colab": {
          "base_uri": "https://localhost:8080/",
          "height": 89
        },
        "outputId": "08a66b87-4560-4374-be5e-6864d5337406"
      },
      "source": [
        "import gensim.downloader as api\n",
        "glove_twitter = api.load(\"glove-twitter-200\")"
      ],
      "execution_count": 11,
      "outputs": [
        {
          "output_type": "stream",
          "text": [
            "[=================================================-] 99.0% 751.1/758.5MB downloaded\n"
          ],
          "name": "stdout"
        },
        {
          "output_type": "stream",
          "text": [
            "/usr/local/lib/python2.7/dist-packages/smart_open/smart_open_lib.py:398: UserWarning: This function is deprecated, use smart_open.open instead. See the migration notes for details: https://github.com/RaRe-Technologies/smart_open/blob/master/README.rst#migrating-to-the-new-open-function\n",
            "  'See the migration notes for details: %s' % _MIGRATION_NOTES_URL\n"
          ],
          "name": "stderr"
        }
      ]
    },
    {
      "cell_type": "code",
      "metadata": {
        "id": "6lHUunbEAG6B",
        "colab_type": "code",
        "colab": {}
      },
      "source": [
        "def get_w2v_general(tweet, size, vectors, aggregation='mean'):\n",
        "    vec = np.zeros(size).reshape((1, size))\n",
        "    count = 0.\n",
        "    for word in tweet.split():\n",
        "        try:\n",
        "            vec += vectors[word].reshape((1, size))\n",
        "            count += 1.\n",
        "        except KeyError:\n",
        "            continue\n",
        "    if aggregation == 'mean':\n",
        "        if count != 0:\n",
        "            vec /= count\n",
        "        return vec\n",
        "    elif aggregation == 'sum':\n",
        "        return vec"
      ],
      "execution_count": 0,
      "outputs": []
    },
    {
      "cell_type": "code",
      "metadata": {
        "id": "TGd7EAvi9GM4",
        "colab_type": "code",
        "colab": {}
      },
      "source": [
        "from sklearn.linear_model import LogisticRegression\n",
        "from sklearn.preprocessing import scale\n",
        "train_vecs_glove_mean = scale(np.concatenate([get_w2v_general(z, 200, glove_twitter,'mean') for z in x_train]))\n",
        "validation_vecs_glove_mean = scale(np.concatenate([get_w2v_general(z, 200, glove_twitter,'mean') for z in x_validation]))\n",
        "test_vecs_glove_mean = scale(np.concatenate([get_w2v_general(z, 200, glove_twitter,'mean') for z in x_test]))"
      ],
      "execution_count": 0,
      "outputs": []
    },
    {
      "cell_type": "code",
      "metadata": {
        "id": "WaPPOPv0AVUT",
        "colab_type": "code",
        "colab": {
          "base_uri": "https://localhost:8080/",
          "height": 51
        },
        "outputId": "c0116ddd-fcf8-4b46-9367-0d1dc4447d07"
      },
      "source": [
        "%%time\n",
        "clf = LogisticRegression()\n",
        "clf.fit(train_vecs_glove_mean, y_train.astype('int'))\n"
      ],
      "execution_count": 29,
      "outputs": [
        {
          "output_type": "stream",
          "text": [
            "CPU times: user 1.09 s, sys: 0 ns, total: 1.09 s\n",
            "Wall time: 1.09 s\n"
          ],
          "name": "stdout"
        }
      ]
    },
    {
      "cell_type": "code",
      "metadata": {
        "id": "pGN53v_UAon_",
        "colab_type": "code",
        "colab": {
          "base_uri": "https://localhost:8080/",
          "height": 34
        },
        "outputId": "e01c903e-8646-4532-c5ec-6fa32758572b"
      },
      "source": [
        "clf.score(validation_vecs_glove_mean, y_validation.astype('int'))"
      ],
      "execution_count": 30,
      "outputs": [
        {
          "output_type": "execute_result",
          "data": {
            "text/plain": [
              "0.4201228878648233"
            ]
          },
          "metadata": {
            "tags": []
          },
          "execution_count": 30
        }
      ]
    },
    {
      "cell_type": "code",
      "metadata": {
        "id": "CnIG0aojXr75",
        "colab_type": "code",
        "colab": {
          "base_uri": "https://localhost:8080/",
          "height": 34
        },
        "outputId": "c274d2a2-1a4c-48dc-d170-836b61dac5c2"
      },
      "source": [
        "clf.score(test_vecs_glove_mean, y_test.astype('int'))"
      ],
      "execution_count": 31,
      "outputs": [
        {
          "output_type": "execute_result",
          "data": {
            "text/plain": [
              "0.3567567567567568"
            ]
          },
          "metadata": {
            "tags": []
          },
          "execution_count": 31
        }
      ]
    },
    {
      "cell_type": "markdown",
      "metadata": {
        "id": "-2wXqsXZA_Tb",
        "colab_type": "text"
      },
      "source": [
        "#Word vectors extracted from pre-trained Google News Word2Vec (Average)¶\n",
        "With new updated Gensim, I can also load the famous pre-trained Google News word vectors. These word vectors are trained using Word2Vec model on Google News dataset (about 100 billion words) and published by Google. The model contains 300-dimensional vectors for 3 million words and phrases. You can find more detail in the Google project archive. https://code.google.com/archive/p/word2vec/"
      ]
    },
    {
      "cell_type": "code",
      "metadata": {
        "id": "xlMFRl9EBMLb",
        "colab_type": "code",
        "colab": {}
      },
      "source": [
        "import gensim.downloader as api\n",
        "googlenews = api.load(\"word2vec-google-news-300\")"
      ],
      "execution_count": 0,
      "outputs": []
    },
    {
      "cell_type": "code",
      "metadata": {
        "id": "ag6ldAwEBUWk",
        "colab_type": "code",
        "colab": {}
      },
      "source": [
        "train_vecs_googlenews_mean = scale(np.concatenate([get_w2v_general(z, 300, googlenews,'mean') for z in x_train]))\n",
        "validation_vecs_googlenews_mean = scale(np.concatenate([get_w2v_general(z, 300, googlenews,'mean') for z in x_validation]))\n",
        "test_vecs_googlenews_mean = scale(np.concatenate([get_w2v_general(z, 300, googlenews,'mean') for z in x_test]))"
      ],
      "execution_count": 0,
      "outputs": []
    },
    {
      "cell_type": "code",
      "metadata": {
        "id": "Nj3H6Fg7Bhg_",
        "colab_type": "code",
        "colab": {
          "base_uri": "https://localhost:8080/",
          "height": 51
        },
        "outputId": "a7d684c4-c137-4eea-a89e-2313feb8081a"
      },
      "source": [
        "%%time\n",
        "clf = LogisticRegression()\n",
        "clf.fit(train_vecs_googlenews_mean, y_train.astype('int'))"
      ],
      "execution_count": 34,
      "outputs": [
        {
          "output_type": "stream",
          "text": [
            "CPU times: user 1.57 s, sys: 0 ns, total: 1.57 s\n",
            "Wall time: 1.57 s\n"
          ],
          "name": "stdout"
        }
      ]
    },
    {
      "cell_type": "code",
      "metadata": {
        "id": "rt_LzUuNByFR",
        "colab_type": "code",
        "colab": {
          "base_uri": "https://localhost:8080/",
          "height": 34
        },
        "outputId": "2f10c6ea-2ef3-4fbb-9b24-2424d4044ec4"
      },
      "source": [
        "clf.score(validation_vecs_googlenews_mean, y_validation.astype('int'))"
      ],
      "execution_count": 35,
      "outputs": [
        {
          "output_type": "execute_result",
          "data": {
            "text/plain": [
              "0.43317972350230416"
            ]
          },
          "metadata": {
            "tags": []
          },
          "execution_count": 35
        }
      ]
    },
    {
      "cell_type": "code",
      "metadata": {
        "id": "gGPMwCGNLCIE",
        "colab_type": "code",
        "colab": {
          "base_uri": "https://localhost:8080/",
          "height": 34
        },
        "outputId": "6564c3b6-6015-44f5-a8ec-7f9da7e1714e"
      },
      "source": [
        "clf.score(test_vecs_googlenews_mean, y_test.astype('int'))"
      ],
      "execution_count": 36,
      "outputs": [
        {
          "output_type": "execute_result",
          "data": {
            "text/plain": [
              "0.3621621621621622"
            ]
          },
          "metadata": {
            "tags": []
          },
          "execution_count": 36
        }
      ]
    },
    {
      "cell_type": "markdown",
      "metadata": {
        "id": "Taa2dwQeDTuK",
        "colab_type": "text"
      },
      "source": [
        "#Neural Networks with Doc2Vec¶\n",
        "There are three different methods used to train Doc2Vec. Distributed Bag of Words, Distributed Memory (Mean), Distributed Memory (Concatenation). These models were trained with 1.5 million tweets through 30 epochs and the output of the models are 200 dimension vectors for each tweet. After I got document vectors from each model, I have tried concatenating these (so the concatenated document vectors have 200 dimensions) in combination: DBOW + DMM, DBOW + DMC, and saw an improvement to the performance when compared with models with one pure method. Using different methods of training and concatenating them to improve the performance has already been demonstrated by Le and Mikolov (2014) in their research paper. https://cs.stanford.edu/~quocle/paragraph_vector.pdf\n",
        "\n",
        "Finally, I have applied phrase modelling to detect bigram phrase and trigram phrase as a pre-step of Doc2Vec training and tried different combination across n-grams. When tested with a logistic regression model, I got the best performance result from 'unigram DBOW + trigram DMM' document vectors.\n",
        "\n",
        "I will first start by loading Gensim's Doc2Vec, and define a function to extract document vectors, then load the doc2vec model I trained."
      ]
    },
    {
      "cell_type": "code",
      "metadata": {
        "id": "0htqxR5dRV0j",
        "colab_type": "code",
        "outputId": "32ab4855-2eff-4140-8d74-95bda81e4c29",
        "colab": {
          "base_uri": "https://localhost:8080/",
          "height": 71
        }
      },
      "source": [
        "from tqdm import tqdm\n",
        "tqdm.pandas(desc=\"progress-bar\")\n",
        "from gensim.models import Doc2Vec\n",
        "from gensim.models.doc2vec import LabeledSentence\n",
        "import multiprocessing\n",
        "from sklearn import utils\n",
        "\n",
        "def labelize_news_ug(news,label):\n",
        "    result = []\n",
        "    prefix = label\n",
        "    for i, t in zip(news.index, news):\n",
        "        result.append(LabeledSentence(t.split(), [prefix + '_%s' % i]))\n",
        "    return result\n",
        "  \n",
        "all_x = pd.concat([x_train,x_validation,x_test])\n",
        "all_x_w2v = labelize_news_ug(all_x, 'all')"
      ],
      "execution_count": 37,
      "outputs": [
        {
          "output_type": "stream",
          "text": [
            "/usr/local/lib/python2.7/dist-packages/ipykernel_launcher.py:12: DeprecationWarning: Call to deprecated `LabeledSentence` (Class will be removed in 4.0.0, use TaggedDocument instead).\n",
            "  if sys.path[0] == '':\n"
          ],
          "name": "stderr"
        }
      ]
    },
    {
      "cell_type": "code",
      "metadata": {
        "id": "7iqqXx7dZw5K",
        "colab_type": "code",
        "outputId": "24131e07-e252-48e5-b725-67188734139b",
        "colab": {
          "base_uri": "https://localhost:8080/",
          "height": 609
        }
      },
      "source": [
        "\n",
        "\n",
        "cores = multiprocessing.cpu_count()\n",
        "model_ug_dbow = Doc2Vec(dm=0, size=200, negative=5, min_count=2, workers=cores, alpha=0.065, min_alpha=0.065)\n",
        "model_ug_dbow.build_vocab([x for x in tqdm(all_x_w2v)])\n",
        "\n",
        "for epoch in range(30):\n",
        "    model_ug_dbow.train(utils.shuffle([x for x in tqdm(all_x_w2v)]), total_examples=len(all_x_w2v), epochs=1)\n",
        "    model_ug_dbow.alpha -= 0.002\n",
        "    model_ug_dbow.min_alpha = model_ug_dbow.alpha\n",
        "    \n",
        "def get_vectors(model, corpus, size):\n",
        "    vecs = np.zeros((len(corpus), size))\n",
        "    # print (vecs)\n",
        "    n = 0\n",
        "    for i in corpus.index:\n",
        "        prefix = 'all_' + str(i)\n",
        "        vecs[n] = model.docvecs[prefix]\n",
        "        n += 1\n",
        "    return vecs\n",
        "  \n",
        "train_vecs_dbow = get_vectors(model_ug_dbow, x_train, 200)\n",
        "validation_vecs_dbow = get_vectors(model_ug_dbow, x_validation, 200)"
      ],
      "execution_count": 38,
      "outputs": [
        {
          "output_type": "stream",
          "text": [
            "/usr/local/lib/python2.7/dist-packages/gensim/models/doc2vec.py:570: UserWarning: The parameter `size` is deprecated, will be removed in 4.0.0, use `vector_size` instead.\n",
            "  warnings.warn(\"The parameter `size` is deprecated, will be removed in 4.0.0, use `vector_size` instead.\")\n",
            "100%|██████████| 6880/6880 [00:00<00:00, 446492.52it/s]\n",
            "100%|██████████| 6880/6880 [00:00<00:00, 1093972.69it/s]\n",
            "100%|██████████| 6880/6880 [00:00<00:00, 1950707.19it/s]\n",
            "100%|██████████| 6880/6880 [00:00<00:00, 910051.14it/s]\n",
            "100%|██████████| 6880/6880 [00:00<00:00, 833746.83it/s]\n",
            "100%|██████████| 6880/6880 [00:00<00:00, 953062.01it/s]\n",
            "100%|██████████| 6880/6880 [00:00<00:00, 864105.75it/s]\n",
            "100%|██████████| 6880/6880 [00:00<00:00, 1131196.06it/s]\n",
            "100%|██████████| 6880/6880 [00:00<00:00, 853499.31it/s]\n",
            "100%|██████████| 6880/6880 [00:00<00:00, 1147068.87it/s]\n",
            "100%|██████████| 6880/6880 [00:00<00:00, 1849439.95it/s]\n",
            "100%|██████████| 6880/6880 [00:00<00:00, 909563.50it/s]\n",
            "100%|██████████| 6880/6880 [00:00<00:00, 482943.02it/s]\n",
            "100%|██████████| 6880/6880 [00:00<00:00, 1026238.90it/s]\n",
            "100%|██████████| 6880/6880 [00:00<00:00, 1030894.95it/s]\n",
            "100%|██████████| 6880/6880 [00:00<00:00, 968186.93it/s]\n",
            "100%|██████████| 6880/6880 [00:00<00:00, 1069285.64it/s]\n",
            "100%|██████████| 6880/6880 [00:00<00:00, 877666.95it/s]\n",
            "100%|██████████| 6880/6880 [00:00<00:00, 1185571.55it/s]\n",
            "100%|██████████| 6880/6880 [00:00<00:00, 1095218.29it/s]\n",
            "100%|██████████| 6880/6880 [00:00<00:00, 1004973.59it/s]\n",
            "100%|██████████| 6880/6880 [00:00<00:00, 1084638.66it/s]\n",
            "100%|██████████| 6880/6880 [00:00<00:00, 2158809.87it/s]\n",
            "100%|██████████| 6880/6880 [00:00<00:00, 1566857.33it/s]\n",
            "100%|██████████| 6880/6880 [00:00<00:00, 1096966.91it/s]\n",
            "100%|██████████| 6880/6880 [00:00<00:00, 864416.37it/s]\n",
            "100%|██████████| 6880/6880 [00:00<00:00, 749294.03it/s]\n",
            "100%|██████████| 6880/6880 [00:00<00:00, 988924.32it/s]\n",
            "100%|██████████| 6880/6880 [00:00<00:00, 1041160.76it/s]\n",
            "100%|██████████| 6880/6880 [00:00<00:00, 873654.60it/s]\n",
            "100%|██████████| 6880/6880 [00:00<00:00, 905510.59it/s]\n"
          ],
          "name": "stderr"
        }
      ]
    },
    {
      "cell_type": "markdown",
      "metadata": {
        "id": "gXE8ozK9xDT4",
        "colab_type": "text"
      },
      "source": [
        "The vectors from Doc2Vec model is of 200 dimensions, sounds quite small compared to 15000 features of Tfidf vectorizer. However, these 200-dimensional vectors are dense matrices with all real numbers, while 15000 features are sparse matrices with lots of zeros. "
      ]
    },
    {
      "cell_type": "code",
      "metadata": {
        "id": "ZoLr4Upx-7o3",
        "colab_type": "code",
        "colab": {}
      },
      "source": [
        "test_vecs_dbow = get_vectors(model_ug_dbow, x_test, 200)"
      ],
      "execution_count": 0,
      "outputs": []
    },
    {
      "cell_type": "code",
      "metadata": {
        "id": "fmDsUL2ha3Tf",
        "colab_type": "code",
        "outputId": "c3077848-dab1-4c22-aa7b-3e751b8c8175",
        "colab": {
          "base_uri": "https://localhost:8080/",
          "height": 554
        }
      },
      "source": [
        "cores = multiprocessing.cpu_count()\n",
        "model_ug_dmm = Doc2Vec(dm=1, dm_mean=1, size=200, window=4, negative=5, min_count=2, workers=cores, alpha=0.065, min_alpha=0.065)\n",
        "model_ug_dmm.build_vocab([x for x in tqdm(all_x_w2v)])\n",
        "\n",
        "for epoch in range(30):\n",
        "    model_ug_dmm.train(utils.shuffle([x for x in tqdm(all_x_w2v)]), total_examples=len(all_x_w2v), epochs=1)\n",
        "    model_ug_dmm.alpha -= 0.002\n",
        "    model_ug_dmm.min_alpha = model_ug_dmm.alpha\n",
        "    \n",
        "train_vecs_dmm = get_vectors(model_ug_dmm, x_train, 200)\n",
        "validation_vecs_dmm = get_vectors(model_ug_dmm, x_validation, 200)\n",
        "test_vecs_dmm = get_vectors(model_ug_dmm, x_test, 200)"
      ],
      "execution_count": 39,
      "outputs": [
        {
          "output_type": "stream",
          "text": [
            "100%|██████████| 6880/6880 [00:00<00:00, 469850.55it/s]\n",
            "100%|██████████| 6880/6880 [00:00<00:00, 988924.32it/s]\n",
            "100%|██████████| 6880/6880 [00:00<00:00, 481588.98it/s]\n",
            "100%|██████████| 6880/6880 [00:00<00:00, 471131.62it/s]\n",
            "100%|██████████| 6880/6880 [00:00<00:00, 874210.41it/s]\n",
            "100%|██████████| 6880/6880 [00:00<00:00, 1833226.07it/s]\n",
            "100%|██████████| 6880/6880 [00:00<00:00, 779513.53it/s]\n",
            "100%|██████████| 6880/6880 [00:00<00:00, 1087581.94it/s]\n",
            "100%|██████████| 6880/6880 [00:00<00:00, 1071151.13it/s]\n",
            "100%|██████████| 6880/6880 [00:00<00:00, 875324.16it/s]\n",
            "100%|██████████| 6880/6880 [00:00<00:00, 941832.68it/s]\n",
            "100%|██████████| 6880/6880 [00:00<00:00, 2084276.74it/s]\n",
            "100%|██████████| 6880/6880 [00:00<00:00, 1054553.85it/s]\n",
            "100%|██████████| 6880/6880 [00:00<00:00, 1070118.35it/s]\n",
            "100%|██████████| 6880/6880 [00:00<00:00, 1060756.19it/s]\n",
            "100%|██████████| 6880/6880 [00:00<00:00, 1016084.91it/s]\n",
            "100%|██████████| 6880/6880 [00:00<00:00, 1970824.44it/s]\n",
            "100%|██████████| 6880/6880 [00:00<00:00, 475627.75it/s]\n",
            "100%|██████████| 6880/6880 [00:00<00:00, 860011.07it/s]\n",
            "100%|██████████| 6880/6880 [00:00<00:00, 1049873.08it/s]\n",
            "100%|██████████| 6880/6880 [00:00<00:00, 925728.59it/s]\n",
            "100%|██████████| 6880/6880 [00:00<00:00, 950268.76it/s]\n",
            "100%|██████████| 6880/6880 [00:00<00:00, 1079203.09it/s]\n",
            "100%|██████████| 6880/6880 [00:00<00:00, 1014584.47it/s]\n",
            "100%|██████████| 6880/6880 [00:00<00:00, 882714.25it/s]\n",
            "100%|██████████| 6880/6880 [00:00<00:00, 1046218.97it/s]\n",
            "100%|██████████| 6880/6880 [00:00<00:00, 972690.58it/s]\n",
            "100%|██████████| 6880/6880 [00:00<00:00, 1206388.44it/s]\n",
            "100%|██████████| 6880/6880 [00:00<00:00, 1062709.42it/s]\n",
            "100%|██████████| 6880/6880 [00:00<00:00, 1744457.23it/s]\n",
            "100%|██████████| 6880/6880 [00:00<00:00, 1041461.37it/s]\n"
          ],
          "name": "stderr"
        }
      ]
    },
    {
      "cell_type": "code",
      "metadata": {
        "id": "ZuP8PyO6bQb8",
        "colab_type": "code",
        "colab": {}
      },
      "source": [
        "def get_concat_vectors(model1,model2, corpus, size):\n",
        "    vecs = np.zeros((len(corpus), size))\n",
        "    n = 0\n",
        "    for i in corpus.index:\n",
        "        prefix = 'all_' + str(i)\n",
        "        vecs[n] = np.append(model1.docvecs[prefix],model2.docvecs[prefix])\n",
        "        n += 1\n",
        "    return vecs\n",
        "train_vecs_dbow_dmm = get_concat_vectors(model_ug_dbow,model_ug_dmm, x_train, 400)\n",
        "validation_vecs_dbow_dmm = get_concat_vectors(model_ug_dbow,model_ug_dmm, x_validation, 400)\n",
        "test_vecs_dbow_dmm = get_concat_vectors(model_ug_dbow,model_ug_dmm, x_test, 400)\n"
      ],
      "execution_count": 0,
      "outputs": []
    },
    {
      "cell_type": "code",
      "metadata": {
        "id": "C945p4aZb5Uy",
        "colab_type": "code",
        "outputId": "f9a2133d-daa9-4806-cac8-fa77a9aefb95",
        "colab": {
          "base_uri": "https://localhost:8080/",
          "height": 34
        }
      },
      "source": [
        "from sklearn.linear_model import LogisticRegression\n",
        "clf = LogisticRegression()\n",
        "clf.fit(train_vecs_dbow_dmm, y_train.astype('int'))\n",
        "\n",
        "#print clf.score(train_vecs_dbow_dmm, y_train.astype('int'))\n",
        "print clf.score(validation_vecs_dbow_dmm, y_validation.astype('int'))"
      ],
      "execution_count": 41,
      "outputs": [
        {
          "output_type": "stream",
          "text": [
            "0.45698924731182794\n"
          ],
          "name": "stdout"
        }
      ]
    },
    {
      "cell_type": "code",
      "metadata": {
        "id": "q-aZ0rp1ipq4",
        "colab_type": "code",
        "colab": {}
      },
      "source": [
        "from gensim.models.phrases import Phrases\n",
        "from gensim.models.phrases import Phraser\n",
        "tokenized_train = [t.split() for t in x_train]\n",
        "phrases = Phrases(tokenized_train)\n",
        "bigram = Phraser(phrases)\n",
        "tg_phrases = Phrases(bigram[tokenized_train])\n",
        "trigram = Phraser(tg_phrases)\n",
        "def labelize_news_tg(news,label):\n",
        "    result = []\n",
        "    prefix = label\n",
        "    for i, t in zip(news.index, news):\n",
        "        result.append(LabeledSentence(trigram[bigram[t.split()]], [prefix + '_%s' % i]))\n",
        "    return result"
      ],
      "execution_count": 0,
      "outputs": []
    },
    {
      "cell_type": "code",
      "metadata": {
        "id": "qBL6A26Npe_u",
        "colab_type": "code",
        "outputId": "65f6104e-a36e-47d6-ff6e-9b0d890cbec6",
        "colab": {
          "base_uri": "https://localhost:8080/",
          "height": 71
        }
      },
      "source": [
        "all_x = pd.concat([x_train,x_validation,x_test])\n",
        "all_x_w2v_tg = labelize_news_tg(all_x, 'all')"
      ],
      "execution_count": 43,
      "outputs": [
        {
          "output_type": "stream",
          "text": [
            "/usr/local/lib/python2.7/dist-packages/ipykernel_launcher.py:12: DeprecationWarning: Call to deprecated `LabeledSentence` (Class will be removed in 4.0.0, use TaggedDocument instead).\n",
            "  if sys.path[0] == '':\n"
          ],
          "name": "stderr"
        }
      ]
    },
    {
      "cell_type": "code",
      "metadata": {
        "id": "p1MBU5d5q9Tv",
        "colab_type": "code",
        "outputId": "4dd04d8c-d6d1-479b-e4a1-0080099e6083",
        "colab": {
          "base_uri": "https://localhost:8080/",
          "height": 34
        }
      },
      "source": [
        "cores = multiprocessing.cpu_count()\n",
        "model_tg_dmm = Doc2Vec(dm=1, dm_mean=1, size=200, window=4, negative=5, min_count=2, workers=cores, alpha=0.065, min_alpha=0.065)\n",
        "model_tg_dmm.build_vocab([x for x in tqdm(all_x_w2v_tg)])"
      ],
      "execution_count": 44,
      "outputs": [
        {
          "output_type": "stream",
          "text": [
            "100%|██████████| 6880/6880 [00:00<00:00, 1005674.06it/s]\n"
          ],
          "name": "stderr"
        }
      ]
    },
    {
      "cell_type": "code",
      "metadata": {
        "id": "iF_KuZqRrVih",
        "colab_type": "code",
        "colab": {}
      },
      "source": [
        "train_vecs_dmm_tg = get_vectors(model_tg_dmm, x_train, 200)\n",
        "validation_vecs_dmm_tg = get_vectors(model_tg_dmm, x_validation, 200)\n",
        "test_vecs_dmm_tg = get_vectors(model_tg_dmm, x_test, 200)"
      ],
      "execution_count": 0,
      "outputs": []
    },
    {
      "cell_type": "code",
      "metadata": {
        "id": "PWykJPS_sQLn",
        "colab_type": "code",
        "colab": {}
      },
      "source": [
        "model_ug_dbow.delete_temporary_training_data(keep_doctags_vectors=True, keep_inference=True)\n",
        "model_tg_dmm.delete_temporary_training_data(keep_doctags_vectors=True, keep_inference=True)\n",
        "train_vecs_ugdbow_tgdmm = get_concat_vectors(model_ug_dbow,model_tg_dmm, x_train, 400)\n",
        "validation_vecs_ugdbow_tgdmm = get_concat_vectors(model_ug_dbow,model_tg_dmm, x_validation, 400)\n",
        "test_vecs_ugdbow_tgdmm = get_concat_vectors(model_ug_dbow,model_tg_dmm, x_test, 400)"
      ],
      "execution_count": 0,
      "outputs": []
    },
    {
      "cell_type": "code",
      "metadata": {
        "id": "zay0CzrqGfVK",
        "colab_type": "code",
        "colab": {
          "base_uri": "https://localhost:8080/",
          "height": 34
        },
        "outputId": "0b6bb02b-c218-4db5-b078-7d6139420982"
      },
      "source": [
        "clf = LogisticRegression()\n",
        "clf.fit(train_vecs_dbow_dmm, y_train.astype('int'))\n",
        "\n",
        "#print clf.score(train_vecs_ugdbow_tgdmm, y_train.astype('int'))\n",
        "print clf.score(validation_vecs_ugdbow_tgdmm, y_validation.astype('int'))"
      ],
      "execution_count": 47,
      "outputs": [
        {
          "output_type": "stream",
          "text": [
            "0.38325652841781876\n"
          ],
          "name": "stdout"
        }
      ]
    },
    {
      "cell_type": "code",
      "metadata": {
        "id": "Ccqt2Vc0N3Jj",
        "colab_type": "code",
        "colab": {
          "base_uri": "https://localhost:8080/",
          "height": 34
        },
        "outputId": "4774d4ce-95ef-4a94-b9de-daf037a8f414"
      },
      "source": [
        "print clf.score(test_vecs_ugdbow_tgdmm, y_test.astype('int'))"
      ],
      "execution_count": 48,
      "outputs": [
        {
          "output_type": "stream",
          "text": [
            "0.3216216216216216\n"
          ],
          "name": "stdout"
        }
      ]
    },
    {
      "cell_type": "markdown",
      "metadata": {
        "id": "f7mKxi2gFpap",
        "colab_type": "text"
      },
      "source": [
        "#Principal Component Analysis (PCA)\n",
        "PCA is a dimension reduction tool that can be used to reduce a large set of variables to a small set that still contains most of the information in the original set. That sounds cool, you can reduce the features of your data but not retaining the most of the information needed.\n",
        "\n"
      ]
    },
    {
      "cell_type": "code",
      "metadata": {
        "id": "-KmpF2cH0bgq",
        "colab_type": "code",
        "colab": {}
      },
      "source": [
        "from sklearn.preprocessing import StandardScaler\n",
        "\n",
        "scaler = StandardScaler()\n",
        "d2v_ugdbow_tgdmm_std = scaler.fit_transform(train_vecs_ugdbow_tgdmm)\n",
        "d2v_ugdbow_tgdmm_std_val = scaler.fit_transform(validation_vecs_ugdbow_tgdmm)\n",
        "d2v_ugdbow_tgdmm_std_test=scaler.fit_transform(test_vecs_ugdbow_tgdmm)"
      ],
      "execution_count": 0,
      "outputs": []
    },
    {
      "cell_type": "code",
      "metadata": {
        "id": "v7cLyZ7C1iTb",
        "colab_type": "code",
        "colab": {}
      },
      "source": [
        "from sklearn.decomposition import PCA\n",
        "\n",
        "d2v_pca = PCA().fit(d2v_ugdbow_tgdmm_std)\n",
        "d2v_pac_val=PCA().fit(d2v_ugdbow_tgdmm_std_val)\n",
        "d2v_pac_test=PCA().fit(d2v_ugdbow_tgdmm_std_test)"
      ],
      "execution_count": 0,
      "outputs": []
    },
    {
      "cell_type": "code",
      "metadata": {
        "id": "C0BanX_52pMP",
        "colab_type": "code",
        "colab": {
          "base_uri": "https://localhost:8080/",
          "height": 403
        },
        "outputId": "8c88b7f2-15ec-4b07-ad8a-a5d419aaf6d8"
      },
      "source": [
        "fig, ax = plt.subplots(figsize=(8,6))\n",
        "\n",
        "x_values = range(1, d2v_pca.n_components_+1)\n",
        "\n",
        "ax.plot(x_values, d2v_pca.explained_variance_ratio_, lw=2, label='explained variance')\n",
        "ax.plot(x_values, np.cumsum(d2v_pca.explained_variance_ratio_), lw=2, label='cumulative explained variance')\n",
        "ax.set_title('Doc2vec (unigram DBOW + trigram DMM) : explained variance of components')\n",
        "ax.set_xlabel('principal component')\n",
        "ax.set_ylabel('explained variance')\n",
        "plt.show()"
      ],
      "execution_count": 51,
      "outputs": [
        {
          "output_type": "display_data",
          "data": {
            "image/png": "[encoded data removed]",
            "text/plain": [
              "<Figure size 576x432 with 1 Axes>"
            ]
          },
          "metadata": {
            "tags": [],
            "image/png": {
              "width": 584,
              "height": 386
            }
          }
        }
      ]
    },
    {
      "cell_type": "markdown",
      "metadata": {
        "id": "_u4esV_w271y",
        "colab_type": "text"
      },
      "source": [
        "***In the above graph, the red line represents cumulative explained variance and the blue line represents explained the variance of each principal component. By looking at the graph above, even though the red line is not perfectly linear, but very close to a straight line. Is this good? No. This means each of the principal components contributes to the variance explanation almost equally, and there’s not much point in reducing the dimensions based on PCA. This can also be seen from the blue line, which is very close to a straight line in the bottom.\n",
        "It is a bit disappointing, that in our case, dimensionality reduction is not very helpful. ***"
      ]
    },
    {
      "cell_type": "markdown",
      "metadata": {
        "id": "RSLXI3h0GD54",
        "colab_type": "text"
      },
      "source": [
        "#Neural Network with best word vectors (D2Vec with unigram)\n",
        "The best performing word vectors with logistic regression was chosen to feed to a neural network model. \n",
        "\n",
        "I will finally fit a neural network with early stopping and checkpoint so that I can save the best performing weights on validation accuracy."
      ]
    },
    {
      "cell_type": "code",
      "metadata": {
        "id": "90AvL_jf4Vgr",
        "colab_type": "code",
        "colab": {}
      },
      "source": [
        "train_w2v_final = train_vecs_dbow_dmm\n",
        "validation_w2v_final = validation_vecs_dbow_dmm\n",
        "test_w2v_final = test_vecs_dbow_dmm"
      ],
      "execution_count": 0,
      "outputs": []
    },
    {
      "cell_type": "code",
      "metadata": {
        "id": "gvK6dsgYONLI",
        "colab_type": "code",
        "colab": {
          "base_uri": "https://localhost:8080/",
          "height": 403
        },
        "outputId": "f21121a1-5e73-4c77-dd13-509f66e2b106"
      },
      "source": [
        "from sklearn.preprocessing import StandardScaler\n",
        "\n",
        "scaler = StandardScaler()\n",
        "d2v_ugdbow_tgdmm_std = scaler.fit_transform(train_w2v_final)\n",
        "d2v_ugdbow_tgdmm_std_val = scaler.fit_transform(validation_w2v_final)\n",
        "d2v_ugdbow_tgdmm_std_test=scaler.fit_transform(test_w2v_final)\n",
        "from sklearn.decomposition import PCA\n",
        "\n",
        "d2v_pca = PCA().fit(d2v_ugdbow_tgdmm_std)\n",
        "d2v_pca_val=PCA().fit(d2v_ugdbow_tgdmm_std_val)\n",
        "d2v_pca_test=PCA().fit(d2v_ugdbow_tgdmm_std_test)\n",
        "fig, ax = plt.subplots(figsize=(8,6))\n",
        "\n",
        "x_values = range(1, d2v_pca.n_components_+1)\n",
        "\n",
        "ax.plot(x_values, d2v_pca.explained_variance_ratio_, lw=2, label='explained variance')\n",
        "ax.plot(x_values, np.cumsum(d2v_pca.explained_variance_ratio_), lw=2, label='cumulative explained variance')\n",
        "ax.set_title('D2Vec with unigram : explained variance of components')\n",
        "ax.set_xlabel('principal component')\n",
        "ax.set_ylabel('explained variance')\n",
        "plt.show()"
      ],
      "execution_count": 55,
      "outputs": [
        {
          "output_type": "display_data",
          "data": {
            "image/png": "[encoded data removed]",
            "text/plain": [
              "<Figure size 576x432 with 1 Axes>"
            ]
          },
          "metadata": {
            "tags": [],
            "image/png": {
              "width": 551,
              "height": 386
            }
          }
        }
      ]
    },
    {
      "cell_type": "code",
      "metadata": {
        "id": "ULYBiLQl4eId",
        "colab_type": "code",
        "outputId": "69e45739-23aa-4423-c01d-bd9ef1196572",
        "colab": {
          "base_uri": "https://localhost:8080/",
          "height": 1000
        }
      },
      "source": [
        "seed=42\n",
        "from keras.callbacks import ModelCheckpoint, EarlyStopping\n",
        "from keras.models import Sequential\n",
        "from keras.layers import Dense, Dropout\n",
        "from keras.layers import Flatten\n",
        "from keras.layers.embeddings import Embedding\n",
        "from keras.preprocessing import sequence\n",
        "filepath=\"w2v_01_best_weights.{epoch:02d}-{val_acc:.4f}.hdf5\"\n",
        "checkpoint = ModelCheckpoint(filepath, monitor='val_acc', verbose=1, save_best_only=True, mode='max')\n",
        "early_stop = EarlyStopping(monitor='val_acc', patience=5, mode='max') \n",
        "callbacks_list = [checkpoint, early_stop]\n",
        "np.random.seed(seed)\n",
        "model_w2v_01 = Sequential()\n",
        "model_w2v_01.add(Dense(256, activation='relu', input_dim=400))\n",
        "model_w2v_01.add(Dense(256, activation='relu'))\n",
        "model_w2v_01.add(Dense(256, activation='relu'))\n",
        "model_w2v_01.add(Dense(1, activation='sigmoid')) # after trying 'softmax', it is found the 'sigmoid' can generate better performance\n",
        "model_w2v_01.compile(optimizer='adam',\n",
        "              loss='binary_crossentropy',\n",
        "              metrics=['accuracy'])\n",
        "\n",
        "model_w2v_01.fit(train_w2v_final, y_train, validation_data=(validation_w2v_final, y_validation), \n",
        "                 epochs=100, batch_size=32, verbose=2, callbacks=callbacks_list)"
      ],
      "execution_count": 57,
      "outputs": [
        {
          "output_type": "stream",
          "text": [
            "W1107 06:07:23.885255 140331018884992 module_wrapper.py:139] From /usr/local/lib/python2.7/dist-packages/keras/backend/tensorflow_backend.py:986: The name tf.assign_add is deprecated. Please use tf.compat.v1.assign_add instead.\n",
            "\n",
            "W1107 06:07:23.990256 140331018884992 module_wrapper.py:139] From /usr/local/lib/python2.7/dist-packages/keras/backend/tensorflow_backend.py:973: The name tf.assign is deprecated. Please use tf.compat.v1.assign instead.\n",
            "\n",
            "W1107 06:07:24.080224 140331018884992 module_wrapper.py:139] From /usr/local/lib/python2.7/dist-packages/keras/backend/tensorflow_backend.py:2741: The name tf.Session is deprecated. Please use tf.compat.v1.Session instead.\n",
            "\n",
            "W1107 06:07:24.087796 140331018884992 module_wrapper.py:139] From /usr/local/lib/python2.7/dist-packages/keras/backend/tensorflow_backend.py:174: The name tf.get_default_session is deprecated. Please use tf.compat.v1.get_default_session instead.\n",
            "\n",
            "W1107 06:07:24.088854 140331018884992 module_wrapper.py:139] From /usr/local/lib/python2.7/dist-packages/keras/backend/tensorflow_backend.py:181: The name tf.ConfigProto is deprecated. Please use tf.compat.v1.ConfigProto instead.\n",
            "\n"
          ],
          "name": "stderr"
        },
        {
          "output_type": "stream",
          "text": [
            "Train on 5208 samples, validate on 1302 samples\n",
            "Epoch 1/100\n"
          ],
          "name": "stdout"
        },
        {
          "output_type": "stream",
          "text": [
            "W1107 06:07:29.051379 140331018884992 module_wrapper.py:139] From /usr/local/lib/python2.7/dist-packages/keras/backend/tensorflow_backend.py:190: The name tf.global_variables is deprecated. Please use tf.compat.v1.global_variables instead.\n",
            "\n",
            "W1107 06:07:29.052872 140331018884992 module_wrapper.py:139] From /usr/local/lib/python2.7/dist-packages/keras/backend/tensorflow_backend.py:199: The name tf.is_variable_initialized is deprecated. Please use tf.compat.v1.is_variable_initialized instead.\n",
            "\n",
            "W1107 06:07:29.199091 140331018884992 module_wrapper.py:139] From /usr/local/lib/python2.7/dist-packages/keras/backend/tensorflow_backend.py:206: The name tf.variables_initializer is deprecated. Please use tf.compat.v1.variables_initializer instead.\n",
            "\n"
          ],
          "name": "stderr"
        },
        {
          "output_type": "stream",
          "text": [
            " - 9s - loss: -7.3355e-01 - acc: 0.3439 - val_loss: -8.6735e-01 - val_acc: 0.3541\n",
            "\n",
            "Epoch 00001: val_acc improved from -inf to 0.35407, saving model to w2v_01_best_weights.01-0.3541.hdf5\n",
            "Epoch 2/100\n",
            " - 1s - loss: -1.7545e+00 - acc: 0.3804 - val_loss: -9.0309e-01 - val_acc: 0.3917\n",
            "\n",
            "Epoch 00002: val_acc improved from 0.35407 to 0.39171, saving model to w2v_01_best_weights.02-0.3917.hdf5\n",
            "Epoch 3/100\n",
            " - 1s - loss: -2.4046e+00 - acc: 0.4274 - val_loss: -8.2013e-01 - val_acc: 0.3372\n",
            "\n",
            "Epoch 00003: val_acc did not improve from 0.39171\n",
            "Epoch 4/100\n",
            " - 1s - loss: -2.9823e+00 - acc: 0.4622 - val_loss: -8.0486e-01 - val_acc: 0.4017\n",
            "\n",
            "Epoch 00004: val_acc improved from 0.39171 to 0.40169, saving model to w2v_01_best_weights.04-0.4017.hdf5\n",
            "Epoch 5/100\n",
            " - 1s - loss: -3.4560e+00 - acc: 0.5021 - val_loss: -8.1120e-01 - val_acc: 0.4032\n",
            "\n",
            "Epoch 00005: val_acc improved from 0.40169 to 0.40323, saving model to w2v_01_best_weights.05-0.4032.hdf5\n",
            "Epoch 6/100\n",
            " - 1s - loss: -3.6897e+00 - acc: 0.5225 - val_loss: -8.2239e-01 - val_acc: 0.4147\n",
            "\n",
            "Epoch 00006: val_acc improved from 0.40323 to 0.41475, saving model to w2v_01_best_weights.06-0.4147.hdf5\n",
            "Epoch 7/100\n",
            " - 1s - loss: -3.8656e+00 - acc: 0.5442 - val_loss: -9.0413e-01 - val_acc: 0.4109\n",
            "\n",
            "Epoch 00007: val_acc did not improve from 0.41475\n",
            "Epoch 8/100\n",
            " - 1s - loss: -4.0318e+00 - acc: 0.5532 - val_loss: -1.0145e+00 - val_acc: 0.4117\n",
            "\n",
            "Epoch 00008: val_acc did not improve from 0.41475\n",
            "Epoch 9/100\n",
            " - 1s - loss: -4.1657e+00 - acc: 0.5691 - val_loss: -9.3341e-01 - val_acc: 0.4155\n",
            "\n",
            "Epoch 00009: val_acc improved from 0.41475 to 0.41551, saving model to w2v_01_best_weights.09-0.4155.hdf5\n",
            "Epoch 10/100\n",
            " - 1s - loss: -4.2065e+00 - acc: 0.5760 - val_loss: -7.6043e-01 - val_acc: 0.4032\n",
            "\n",
            "Epoch 00010: val_acc did not improve from 0.41551\n",
            "Epoch 11/100\n",
            " - 1s - loss: -4.2126e+00 - acc: 0.5718 - val_loss: -9.3541e-01 - val_acc: 0.4201\n",
            "\n",
            "Epoch 00011: val_acc improved from 0.41551 to 0.42012, saving model to w2v_01_best_weights.11-0.4201.hdf5\n",
            "Epoch 12/100\n",
            " - 1s - loss: -4.2801e+00 - acc: 0.5828 - val_loss: -6.9912e-01 - val_acc: 0.4032\n",
            "\n",
            "Epoch 00012: val_acc did not improve from 0.42012\n",
            "Epoch 13/100\n",
            " - 1s - loss: -4.3349e+00 - acc: 0.5862 - val_loss: -7.6770e-01 - val_acc: 0.3971\n",
            "\n",
            "Epoch 00013: val_acc did not improve from 0.42012\n",
            "Epoch 14/100\n",
            " - 1s - loss: -4.3106e+00 - acc: 0.5808 - val_loss: -7.0999e-01 - val_acc: 0.4109\n",
            "\n",
            "Epoch 00014: val_acc did not improve from 0.42012\n",
            "Epoch 15/100\n",
            " - 1s - loss: -4.3364e+00 - acc: 0.5862 - val_loss: -6.0322e-01 - val_acc: 0.4270\n",
            "\n",
            "Epoch 00015: val_acc improved from 0.42012 to 0.42704, saving model to w2v_01_best_weights.15-0.4270.hdf5\n",
            "Epoch 16/100\n",
            " - 1s - loss: -4.2381e+00 - acc: 0.5737 - val_loss: -9.3058e-01 - val_acc: 0.4109\n",
            "\n",
            "Epoch 00016: val_acc did not improve from 0.42704\n",
            "Epoch 17/100\n",
            " - 1s - loss: -4.3226e+00 - acc: 0.5822 - val_loss: -7.8525e-01 - val_acc: 0.4132\n",
            "\n",
            "Epoch 00017: val_acc did not improve from 0.42704\n",
            "Epoch 18/100\n",
            " - 1s - loss: -4.3721e+00 - acc: 0.5893 - val_loss: -7.5827e-01 - val_acc: 0.4263\n",
            "\n",
            "Epoch 00018: val_acc did not improve from 0.42704\n",
            "Epoch 19/100\n",
            " - 1s - loss: -4.4111e+00 - acc: 0.5958 - val_loss: -7.1884e-01 - val_acc: 0.4124\n",
            "\n",
            "Epoch 00019: val_acc did not improve from 0.42704\n",
            "Epoch 20/100\n",
            " - 1s - loss: -4.3845e+00 - acc: 0.5887 - val_loss: -7.3445e-01 - val_acc: 0.4094\n",
            "\n",
            "Epoch 00020: val_acc did not improve from 0.42704\n"
          ],
          "name": "stdout"
        },
        {
          "output_type": "execute_result",
          "data": {
            "text/plain": [
              "<keras.callbacks.History at 0x7f9fdd05ab50>"
            ]
          },
          "metadata": {
            "tags": []
          },
          "execution_count": 57
        }
      ]
    },
    {
      "cell_type": "code",
      "metadata": {
        "id": "se1aERr75xi4",
        "colab_type": "code",
        "colab": {}
      },
      "source": [
        "from keras.models import load_model\n",
        "loaded_w2v_model = load_model('w2v_01_best_weights.15-0.4270.hdf5')"
      ],
      "execution_count": 0,
      "outputs": []
    },
    {
      "cell_type": "code",
      "metadata": {
        "id": "yrst9GDV-B03",
        "colab_type": "code",
        "outputId": "89b0f89a-bd32-4eee-9145-fd23aa6a997e",
        "colab": {
          "base_uri": "https://localhost:8080/",
          "height": 51
        }
      },
      "source": [
        "loaded_w2v_model.evaluate(x=validation_w2v_final, y=y_validation)"
      ],
      "execution_count": 59,
      "outputs": [
        {
          "output_type": "stream",
          "text": [
            "1302/1302 [==============================] - 0s 96us/step\n"
          ],
          "name": "stdout"
        },
        {
          "output_type": "execute_result",
          "data": {
            "text/plain": [
              "[-0.603218752026741, 0.4270353301695781]"
            ]
          },
          "metadata": {
            "tags": []
          },
          "execution_count": 59
        }
      ]
    },
    {
      "cell_type": "code",
      "metadata": {
        "id": "aVODdW9c-NbY",
        "colab_type": "code",
        "outputId": "f8869a72-cbeb-4605-e017-ed49a7855400",
        "colab": {
          "base_uri": "https://localhost:8080/",
          "height": 51
        }
      },
      "source": [
        "loaded_w2v_model.evaluate(x=test_w2v_final, y=y_test)"
      ],
      "execution_count": 60,
      "outputs": [
        {
          "output_type": "stream",
          "text": [
            "370/370 [==============================] - 0s 55us/step\n"
          ],
          "name": "stdout"
        },
        {
          "output_type": "execute_result",
          "data": {
            "text/plain": [
              "[4.339302743447793, 0.34594594626813324]"
            ]
          },
          "metadata": {
            "tags": []
          },
          "execution_count": 60
        }
      ]
    }
  ]
}