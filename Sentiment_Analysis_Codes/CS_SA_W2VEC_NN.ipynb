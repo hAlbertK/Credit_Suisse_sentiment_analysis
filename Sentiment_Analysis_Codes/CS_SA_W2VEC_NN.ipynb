{
  "nbformat": 4,
  "nbformat_minor": 0,
  "metadata": {
    "colab": {
      "name": "CS_SA_DL.ipynb",
      "provenance": []
    },
    "kernelspec": {
      "name": "python2",
      "display_name": "Python 2"
    },
    "accelerator": "GPU"
  },
  "cells": [
    {
      "cell_type": "code",
      "metadata": {
        "id": "RYGuP11n9SUh",
        "colab_type": "code",
        "colab": {
          "base_uri": "https://localhost:8080/",
          "height": 63
        },
        "outputId": "2bba352c-813a-47f3-92b3-995a9d5ca8f4"
      },
      "source": [
        "import pandas as pd  \n",
        "import numpy as np\n",
        "import matplotlib.pyplot as plt\n",
        "plt.style.use('fivethirtyeight')\n",
        "\n",
        "%matplotlib inline\n",
        "%config InlineBackend.figure_format = 'retina'\n",
        "import pandas as pd\n",
        "import numpy as np\n",
        "import scipy\n",
        "import sklearn\n",
        "from sklearn.linear_model import Ridge\n",
        "from sklearn.metrics import mean_squared_error\n",
        "from sklearn.feature_extraction.text import TfidfVectorizer\n",
        "import re\n",
        "\n",
        "from nltk.tokenize import word_tokenize\n",
        "from nltk.corpus import stopwords\n",
        "from pandas import Series, DataFrame\n",
        "import nltk\n",
        "\n",
        "import spacy\n",
        "import string\n",
        "\n",
        "from gensim import corpora, models, similarities\n",
        "\n",
        "import tensorflow as tf\n",
        "import tensorflow_hub as hub\n",
        "\n",
        "from gensim.models import Word2Vec"
      ],
      "execution_count": 3,
      "outputs": [
        {
          "output_type": "display_data",
          "data": {
            "text/plain": [
              "<IPython.core.display.HTML object>"
            ],
            "text/html": [
              "<p style=\"color: red;\">\n",
              "The default version of TensorFlow in Colab will soon switch to TensorFlow 2.x.<br>\n",
              "We recommend you <a href=\"https://www.tensorflow.org/guide/migrate\" target=\"_blank\">upgrade</a> now \n",
              "or ensure your notebook will continue to use TensorFlow 1.x via the <code>%tensorflow_version 1.x</code> magic:\n",
              "<a href=\"https://colab.research.google.com/notebooks/tensorflow_version.ipynb\" target=\"_blank\">more info</a>.</p>\n"
            ]
          },
          "metadata": {
            "tags": []
          }
        }
      ]
    },
    {
      "cell_type": "code",
      "metadata": {
        "id": "QTsjd-469gQJ",
        "colab_type": "code",
        "colab": {
          "resources": {
            "http://localhost:8080/nbextensions/google.colab/files.js": {
              "data": "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",
              "ok": true,
              "headers": [
                [
                  "content-type",
                  "application/javascript"
                ]
              ],
              "status": 200,
              "status_text": ""
            }
          },
          "base_uri": "https://localhost:8080/",
          "height": 74
        },
        "outputId": "6bc010dd-25a1-45b4-d9ed-105fe5a6ddb0"
      },
      "source": [
        "from google.colab import files \n",
        "uploaded = files.upload() "
      ],
      "execution_count": 1,
      "outputs": [
        {
          "output_type": "display_data",
          "data": {
            "text/plain": [
              "<IPython.core.display.HTML object>"
            ],
            "text/html": [
              "\n",
              "     <input type=\"file\" id=\"files-82d624b5-d260-4810-a783-af85a222f858\" name=\"files[]\" multiple disabled />\n",
              "     <output id=\"result-82d624b5-d260-4810-a783-af85a222f858\">\n",
              "      Upload widget is only available when the cell has been executed in the\n",
              "      current browser session. Please rerun this cell to enable.\n",
              "      </output>\n",
              "      <script src=\"/nbextensions/google.colab/files.js\"></script> "
            ]
          },
          "metadata": {
            "tags": []
          }
        },
        {
          "output_type": "stream",
          "text": [
            "Saving train.csv to train (1).csv\n"
          ],
          "name": "stdout"
        }
      ]
    },
    {
      "cell_type": "code",
      "metadata": {
        "id": "7flCIsuJ-izn",
        "colab_type": "code",
        "colab": {
          "base_uri": "https://localhost:8080/",
          "height": 34
        },
        "outputId": "9750e8f1-ddb3-44b3-8e8c-976f82b2c312"
      },
      "source": [
        "df = pd.read_csv('train.csv')\n",
        "len(df)"
      ],
      "execution_count": 4,
      "outputs": [
        {
          "output_type": "execute_result",
          "data": {
            "text/plain": [
              "711"
            ]
          },
          "metadata": {
            "tags": []
          },
          "execution_count": 4
        }
      ]
    },
    {
      "cell_type": "code",
      "metadata": {
        "id": "CmArAsKNEUsr",
        "colab_type": "code",
        "colab": {
          "base_uri": "https://localhost:8080/",
          "height": 34
        },
        "outputId": "e22bc0c2-5738-427b-f1ff-b72315d0e79b"
      },
      "source": [
        "df.dropna(subset=['label'], inplace=True)\n",
        "len(df)"
      ],
      "execution_count": 5,
      "outputs": [
        {
          "output_type": "execute_result",
          "data": {
            "text/plain": [
              "711"
            ]
          },
          "metadata": {
            "tags": []
          },
          "execution_count": 5
        }
      ]
    },
    {
      "cell_type": "code",
      "metadata": {
        "id": "S66pL75AE1_F",
        "colab_type": "code",
        "colab": {
          "base_uri": "https://localhost:8080/",
          "height": 86
        },
        "outputId": "ac567787-6bad-4e1a-f5c6-20390ace4ff2"
      },
      "source": [
        "df['label']=df['label'].map(lambda x:int(x))\n",
        "df['label'].value_counts()"
      ],
      "execution_count": 6,
      "outputs": [
        {
          "output_type": "execute_result",
          "data": {
            "text/plain": [
              "2    237\n",
              "1    237\n",
              "0    237\n",
              "Name: label, dtype: int64"
            ]
          },
          "metadata": {
            "tags": []
          },
          "execution_count": 6
        }
      ]
    },
    {
      "cell_type": "code",
      "metadata": {
        "id": "HN_z8DjCLyLm",
        "colab_type": "code",
        "colab": {
          "base_uri": "https://localhost:8080/",
          "height": 1000
        },
        "outputId": "3d4ab4fe-0850-42f0-9eed-aff2768e1316"
      },
      "source": [
        "df"
      ],
      "execution_count": 7,
      "outputs": [
        {
          "output_type": "execute_result",
          "data": {
            "text/html": [
              "<div>\n",
              "<style scoped>\n",
              "    .dataframe tbody tr th:only-of-type {\n",
              "        vertical-align: middle;\n",
              "    }\n",
              "\n",
              "    .dataframe tbody tr th {\n",
              "        vertical-align: top;\n",
              "    }\n",
              "\n",
              "    .dataframe thead th {\n",
              "        text-align: right;\n",
              "    }\n",
              "</style>\n",
              "<table border=\"1\" class=\"dataframe\">\n",
              "  <thead>\n",
              "    <tr style=\"text-align: right;\">\n",
              "      <th></th>\n",
              "      <th>CONTENT</th>\n",
              "      <th>label</th>\n",
              "    </tr>\n",
              "  </thead>\n",
              "  <tbody>\n",
              "    <tr>\n",
              "      <th>0</th>\n",
              "      <td>welcome to morningstar co uk -pron- have be re...</td>\n",
              "      <td>2</td>\n",
              "    </tr>\n",
              "    <tr>\n",
              "      <th>1</th>\n",
              "      <td>three value invest etf worth consider now offe...</td>\n",
              "      <td>2</td>\n",
              "    </tr>\n",
              "    <tr>\n",
              "      <th>2</th>\n",
              "      <td>the yield curve of u s government bond of diff...</td>\n",
              "      <td>2</td>\n",
              "    </tr>\n",
              "    <tr>\n",
              "      <th>3</th>\n",
              "      <td>adient plc adnt report adjusted earning per sh...</td>\n",
              "      <td>2</td>\n",
              "    </tr>\n",
              "    <tr>\n",
              "      <th>4</th>\n",
              "      <td>wilmington de accesswire september 16 2019 rig...</td>\n",
              "      <td>2</td>\n",
              "    </tr>\n",
              "    <tr>\n",
              "      <th>5</th>\n",
              "      <td>if -pron- want to compound wealth in the stock...</td>\n",
              "      <td>2</td>\n",
              "    </tr>\n",
              "    <tr>\n",
              "      <th>6</th>\n",
              "      <td>houston sept 12 2019 globe newswire the board ...</td>\n",
              "      <td>2</td>\n",
              "    </tr>\n",
              "    <tr>\n",
              "      <th>7</th>\n",
              "      <td>howard marks put -pron- nicely when -pron- say...</td>\n",
              "      <td>2</td>\n",
              "    </tr>\n",
              "    <tr>\n",
              "      <th>8</th>\n",
              "      <td>the woodlands texas sept 18 2019 globe newswir...</td>\n",
              "      <td>2</td>\n",
              "    </tr>\n",
              "    <tr>\n",
              "      <th>9</th>\n",
              "      <td>approval support by two phase 3 trial demonstr...</td>\n",
              "      <td>2</td>\n",
              "    </tr>\n",
              "    <tr>\n",
              "      <th>10</th>\n",
              "      <td>parsippany n j may 01 2019 globe newswire avis...</td>\n",
              "      <td>2</td>\n",
              "    </tr>\n",
              "    <tr>\n",
              "      <th>11</th>\n",
              "      <td>china mobile limited sehk 941 be china s large...</td>\n",
              "      <td>2</td>\n",
              "    </tr>\n",
              "    <tr>\n",
              "      <th>12</th>\n",
              "      <td>follow the legalization of sport bet outside n...</td>\n",
              "      <td>2</td>\n",
              "    </tr>\n",
              "    <tr>\n",
              "      <th>13</th>\n",
              "      <td>cardiovascular systems inc nasdaq csii file -p...</td>\n",
              "      <td>2</td>\n",
              "    </tr>\n",
              "    <tr>\n",
              "      <th>14</th>\n",
              "      <td>miami sept 16 2019 prnewswire carnival corpora...</td>\n",
              "      <td>2</td>\n",
              "    </tr>\n",
              "    <tr>\n",
              "      <th>15</th>\n",
              "      <td>zurich june 21 2019 prnewswire chubb limited c...</td>\n",
              "      <td>2</td>\n",
              "    </tr>\n",
              "    <tr>\n",
              "      <th>16</th>\n",
              "      <td>citigroup c close at 69 32 in the late trading...</td>\n",
              "      <td>2</td>\n",
              "    </tr>\n",
              "    <tr>\n",
              "      <th>17</th>\n",
              "      <td>menlo park calif aug 01 2019 globe newswire co...</td>\n",
              "      <td>2</td>\n",
              "    </tr>\n",
              "    <tr>\n",
              "      <th>18</th>\n",
              "      <td>menlo park calif sept 18 2019 globe newswire c...</td>\n",
              "      <td>2</td>\n",
              "    </tr>\n",
              "    <tr>\n",
              "      <th>19</th>\n",
              "      <td>attractive stock have exceptional fundamental ...</td>\n",
              "      <td>2</td>\n",
              "    </tr>\n",
              "    <tr>\n",
              "      <th>20</th>\n",
              "      <td>bethesda md sept 10 2019 prnewswire diamondroc...</td>\n",
              "      <td>2</td>\n",
              "    </tr>\n",
              "    <tr>\n",
              "      <th>21</th>\n",
              "      <td>want to participate in a short research study ...</td>\n",
              "      <td>2</td>\n",
              "    </tr>\n",
              "    <tr>\n",
              "      <th>22</th>\n",
              "      <td>today -pron- ll look at dana incorporated nyse...</td>\n",
              "      <td>2</td>\n",
              "    </tr>\n",
              "    <tr>\n",
              "      <th>23</th>\n",
              "      <td>investor with an interest in medical outpatien...</td>\n",
              "      <td>2</td>\n",
              "    </tr>\n",
              "    <tr>\n",
              "      <th>24</th>\n",
              "      <td>q4 2019 super micro computer inc earning call ...</td>\n",
              "      <td>2</td>\n",
              "    </tr>\n",
              "    <tr>\n",
              "      <th>25</th>\n",
              "      <td>chicago and vancouver british columbia july 29...</td>\n",
              "      <td>2</td>\n",
              "    </tr>\n",
              "    <tr>\n",
              "      <th>26</th>\n",
              "      <td>moscow sept 16 2019 globe newswire headhunter ...</td>\n",
              "      <td>2</td>\n",
              "    </tr>\n",
              "    <tr>\n",
              "      <th>27</th>\n",
              "      <td>amid an overall bull market many stock that sm...</td>\n",
              "      <td>2</td>\n",
              "    </tr>\n",
              "    <tr>\n",
              "      <th>28</th>\n",
              "      <td>since 2006 value stock ive vs ivw have underpe...</td>\n",
              "      <td>2</td>\n",
              "    </tr>\n",
              "    <tr>\n",
              "      <th>29</th>\n",
              "      <td>like everyone else elite investor make mistake...</td>\n",
              "      <td>2</td>\n",
              "    </tr>\n",
              "    <tr>\n",
              "      <th>...</th>\n",
              "      <td>...</td>\n",
              "      <td>...</td>\n",
              "    </tr>\n",
              "    <tr>\n",
              "      <th>681</th>\n",
              "      <td>semiconductor processing equipment market worl...</td>\n",
              "      <td>1</td>\n",
              "    </tr>\n",
              "    <tr>\n",
              "      <th>682</th>\n",
              "      <td>new york oct 7 2019 prnewswire skin care produ...</td>\n",
              "      <td>1</td>\n",
              "    </tr>\n",
              "    <tr>\n",
              "      <th>683</th>\n",
              "      <td>chicago and vancouver british columbia oct 03 ...</td>\n",
              "      <td>1</td>\n",
              "    </tr>\n",
              "    <tr>\n",
              "      <th>684</th>\n",
              "      <td>open house schedule for september 16 chicago a...</td>\n",
              "      <td>1</td>\n",
              "    </tr>\n",
              "    <tr>\n",
              "      <th>685</th>\n",
              "      <td>pasadena license awarded on same day as gti in...</td>\n",
              "      <td>1</td>\n",
              "    </tr>\n",
              "    <tr>\n",
              "      <th>686</th>\n",
              "      <td>by buy an index fund investor can approximate ...</td>\n",
              "      <td>1</td>\n",
              "    </tr>\n",
              "    <tr>\n",
              "      <th>687</th>\n",
              "      <td>the simple way to invest in stock be to buy ex...</td>\n",
              "      <td>1</td>\n",
              "    </tr>\n",
              "    <tr>\n",
              "      <th>688</th>\n",
              "      <td>-pron- can judge whether pepsico inc nasdaq pe...</td>\n",
              "      <td>1</td>\n",
              "    </tr>\n",
              "    <tr>\n",
              "      <th>689</th>\n",
              "      <td>hedge fund and large money manager usually inv...</td>\n",
              "      <td>1</td>\n",
              "    </tr>\n",
              "    <tr>\n",
              "      <th>690</th>\n",
              "      <td>the insider monkey team have complete process ...</td>\n",
              "      <td>1</td>\n",
              "    </tr>\n",
              "    <tr>\n",
              "      <th>691</th>\n",
              "      <td>-pron- can judge whether consolidated edison i...</td>\n",
              "      <td>1</td>\n",
              "    </tr>\n",
              "    <tr>\n",
              "      <th>692</th>\n",
              "      <td>market volatility have pick up again over the ...</td>\n",
              "      <td>1</td>\n",
              "    </tr>\n",
              "    <tr>\n",
              "      <th>693</th>\n",
              "      <td>value have perform relatively poorly since the...</td>\n",
              "      <td>1</td>\n",
              "    </tr>\n",
              "    <tr>\n",
              "      <th>694</th>\n",
              "      <td>the 700 hedge fund and money manager track by ...</td>\n",
              "      <td>1</td>\n",
              "    </tr>\n",
              "    <tr>\n",
              "      <th>695</th>\n",
              "      <td>-pron- be a rough fourth quarter for many hedg...</td>\n",
              "      <td>1</td>\n",
              "    </tr>\n",
              "    <tr>\n",
              "      <th>696</th>\n",
              "      <td>many investor include paul tudor jones or stan...</td>\n",
              "      <td>1</td>\n",
              "    </tr>\n",
              "    <tr>\n",
              "      <th>697</th>\n",
              "      <td>the late 13f reporting period have come and go...</td>\n",
              "      <td>1</td>\n",
              "    </tr>\n",
              "    <tr>\n",
              "      <th>698</th>\n",
              "      <td>this article be write for those who want to ge...</td>\n",
              "      <td>1</td>\n",
              "    </tr>\n",
              "    <tr>\n",
              "      <th>699</th>\n",
              "      <td>xiaoming hu become the ceo of kandi technologi...</td>\n",
              "      <td>1</td>\n",
              "    </tr>\n",
              "    <tr>\n",
              "      <th>700</th>\n",
              "      <td>american electric power company inc s aep stro...</td>\n",
              "      <td>1</td>\n",
              "    </tr>\n",
              "    <tr>\n",
              "      <th>701</th>\n",
              "      <td>cardiovascular systems inc csii be gain invest...</td>\n",
              "      <td>1</td>\n",
              "    </tr>\n",
              "    <tr>\n",
              "      <th>702</th>\n",
              "      <td>oneok oke be benefit from the acquisition of o...</td>\n",
              "      <td>1</td>\n",
              "    </tr>\n",
              "    <tr>\n",
              "      <th>703</th>\n",
              "      <td>legendary fund manager li lu who charlie munge...</td>\n",
              "      <td>1</td>\n",
              "    </tr>\n",
              "    <tr>\n",
              "      <th>704</th>\n",
              "      <td>david iben put -pron- well when -pron- say vol...</td>\n",
              "      <td>1</td>\n",
              "    </tr>\n",
              "    <tr>\n",
              "      <th>705</th>\n",
              "      <td>automatic data processing inc adp have gain 14...</td>\n",
              "      <td>1</td>\n",
              "    </tr>\n",
              "    <tr>\n",
              "      <th>706</th>\n",
              "      <td>teleflex inc tfx be currently in investor good...</td>\n",
              "      <td>1</td>\n",
              "    </tr>\n",
              "    <tr>\n",
              "      <th>707</th>\n",
              "      <td>red rock resorts inc rrr have be lose the shee...</td>\n",
              "      <td>1</td>\n",
              "    </tr>\n",
              "    <tr>\n",
              "      <th>708</th>\n",
              "      <td>bio rad laboratories inc bio be well poise for...</td>\n",
              "      <td>1</td>\n",
              "    </tr>\n",
              "    <tr>\n",
              "      <th>709</th>\n",
              "      <td>ceco environmental corp cece currently seem to...</td>\n",
              "      <td>1</td>\n",
              "    </tr>\n",
              "    <tr>\n",
              "      <th>710</th>\n",
              "      <td>olympia wash sept 26 2019 prnewswire heritage ...</td>\n",
              "      <td>1</td>\n",
              "    </tr>\n",
              "  </tbody>\n",
              "</table>\n",
              "<p>711 rows × 2 columns</p>\n",
              "</div>"
            ],
            "text/plain": [
              "                                               CONTENT  label\n",
              "0    welcome to morningstar co uk -pron- have be re...      2\n",
              "1    three value invest etf worth consider now offe...      2\n",
              "2    the yield curve of u s government bond of diff...      2\n",
              "3    adient plc adnt report adjusted earning per sh...      2\n",
              "4    wilmington de accesswire september 16 2019 rig...      2\n",
              "5    if -pron- want to compound wealth in the stock...      2\n",
              "6    houston sept 12 2019 globe newswire the board ...      2\n",
              "7    howard marks put -pron- nicely when -pron- say...      2\n",
              "8    the woodlands texas sept 18 2019 globe newswir...      2\n",
              "9    approval support by two phase 3 trial demonstr...      2\n",
              "10   parsippany n j may 01 2019 globe newswire avis...      2\n",
              "11   china mobile limited sehk 941 be china s large...      2\n",
              "12   follow the legalization of sport bet outside n...      2\n",
              "13   cardiovascular systems inc nasdaq csii file -p...      2\n",
              "14   miami sept 16 2019 prnewswire carnival corpora...      2\n",
              "15   zurich june 21 2019 prnewswire chubb limited c...      2\n",
              "16   citigroup c close at 69 32 in the late trading...      2\n",
              "17   menlo park calif aug 01 2019 globe newswire co...      2\n",
              "18   menlo park calif sept 18 2019 globe newswire c...      2\n",
              "19   attractive stock have exceptional fundamental ...      2\n",
              "20   bethesda md sept 10 2019 prnewswire diamondroc...      2\n",
              "21   want to participate in a short research study ...      2\n",
              "22   today -pron- ll look at dana incorporated nyse...      2\n",
              "23   investor with an interest in medical outpatien...      2\n",
              "24   q4 2019 super micro computer inc earning call ...      2\n",
              "25   chicago and vancouver british columbia july 29...      2\n",
              "26   moscow sept 16 2019 globe newswire headhunter ...      2\n",
              "27   amid an overall bull market many stock that sm...      2\n",
              "28   since 2006 value stock ive vs ivw have underpe...      2\n",
              "29   like everyone else elite investor make mistake...      2\n",
              "..                                                 ...    ...\n",
              "681  semiconductor processing equipment market worl...      1\n",
              "682  new york oct 7 2019 prnewswire skin care produ...      1\n",
              "683  chicago and vancouver british columbia oct 03 ...      1\n",
              "684  open house schedule for september 16 chicago a...      1\n",
              "685  pasadena license awarded on same day as gti in...      1\n",
              "686  by buy an index fund investor can approximate ...      1\n",
              "687  the simple way to invest in stock be to buy ex...      1\n",
              "688  -pron- can judge whether pepsico inc nasdaq pe...      1\n",
              "689  hedge fund and large money manager usually inv...      1\n",
              "690  the insider monkey team have complete process ...      1\n",
              "691  -pron- can judge whether consolidated edison i...      1\n",
              "692  market volatility have pick up again over the ...      1\n",
              "693  value have perform relatively poorly since the...      1\n",
              "694  the 700 hedge fund and money manager track by ...      1\n",
              "695  -pron- be a rough fourth quarter for many hedg...      1\n",
              "696  many investor include paul tudor jones or stan...      1\n",
              "697  the late 13f reporting period have come and go...      1\n",
              "698  this article be write for those who want to ge...      1\n",
              "699  xiaoming hu become the ceo of kandi technologi...      1\n",
              "700  american electric power company inc s aep stro...      1\n",
              "701  cardiovascular systems inc csii be gain invest...      1\n",
              "702  oneok oke be benefit from the acquisition of o...      1\n",
              "703  legendary fund manager li lu who charlie munge...      1\n",
              "704  david iben put -pron- well when -pron- say vol...      1\n",
              "705  automatic data processing inc adp have gain 14...      1\n",
              "706  teleflex inc tfx be currently in investor good...      1\n",
              "707  red rock resorts inc rrr have be lose the shee...      1\n",
              "708  bio rad laboratories inc bio be well poise for...      1\n",
              "709  ceco environmental corp cece currently seem to...      1\n",
              "710  olympia wash sept 26 2019 prnewswire heritage ...      1\n",
              "\n",
              "[711 rows x 2 columns]"
            ]
          },
          "metadata": {
            "tags": []
          },
          "execution_count": 7
        }
      ]
    },
    {
      "cell_type": "code",
      "metadata": {
        "id": "KRBxhRc2L1JT",
        "colab_type": "code",
        "colab": {
          "resources": {
            "http://localhost:8080/nbextensions/google.colab/files.js": {
              "data": "Ly8gQ29weXJpZ2h0IDIwMTcgR29vZ2xlIExMQwovLwovLyBMaWNlbnNlZCB1bmRlciB0aGUgQXBhY2hlIExpY2Vuc2UsIFZlcnNpb24gMi4wICh0aGUgIkxpY2Vuc2UiKTsKLy8geW91IG1heSBub3QgdXNlIHRoaXMgZmlsZSBleGNlcHQgaW4gY29tcGxpYW5jZSB3aXRoIHRoZSBMaWNlbnNlLgovLyBZb3UgbWF5IG9idGFpbiBhIGNvcHkgb2YgdGhlIExpY2Vuc2UgYXQKLy8KLy8gICAgICBodHRwOi8vd3d3LmFwYWNoZS5vcmcvbGljZW5zZXMvTElDRU5TRS0yLjAKLy8KLy8gVW5sZXNzIHJlcXVpcmVkIGJ5IGFwcGxpY2FibGUgbGF3IG9yIGFncmVlZCB0byBpbiB3cml0aW5nLCBzb2Z0d2FyZQovLyBkaXN0cmlidXRlZCB1bmRlciB0aGUgTGljZW5zZSBpcyBkaXN0cmlidXRlZCBvbiBhbiAiQVMgSVMiIEJBU0lTLAovLyBXSVRIT1VUIFdBUlJBTlRJRVMgT1IgQ09ORElUSU9OUyBPRiBBTlkgS0lORCwgZWl0aGVyIGV4cHJlc3Mgb3IgaW1wbGllZC4KLy8gU2VlIHRoZSBMaWNlbnNlIGZvciB0aGUgc3BlY2lmaWMgbGFuZ3VhZ2UgZ292ZXJuaW5nIHBlcm1pc3Npb25zIGFuZAovLyBsaW1pdGF0aW9ucyB1bmRlciB0aGUgTGljZW5zZS4KCi8qKgogKiBAZmlsZW92ZXJ2aWV3IEhlbHBlcnMgZm9yIGdvb2dsZS5jb2xhYiBQeXRob24gbW9kdWxlLgogKi8KKGZ1bmN0aW9uKHNjb3BlKSB7CmZ1bmN0aW9uIHNwYW4odGV4dCwgc3R5bGVBdHRyaWJ1dGVzID0ge30pIHsKICBjb25zdCBlbGVtZW50ID0gZG9jdW1lbnQuY3JlYXRlRWxlbWVudCgnc3BhbicpOwogIGVsZW1lbnQudGV4dENvbnRlbnQgPSB0ZXh0OwogIGZvciAoY29uc3Qga2V5IG9mIE9iamVjdC5rZXlzKHN0eWxlQXR0cmlidXRlcykpIHsKICAgIGVsZW1lbnQuc3R5bGVba2V5XSA9IHN0eWxlQXR0cmlidXRlc1trZXldOwogIH0KICByZXR1cm4gZWxlbWVudDsKfQoKLy8gTWF4IG51bWJlciBvZiBieXRlcyB3aGljaCB3aWxsIGJlIHVwbG9hZGVkIGF0IGEgdGltZS4KY29uc3QgTUFYX1BBWUxPQURfU0laRSA9IDEwMCAqIDEwMjQ7Ci8vIE1heCBhbW91bnQgb2YgdGltZSB0byBibG9jayB3YWl0aW5nIGZvciB0aGUgdXNlci4KY29uc3QgRklMRV9DSEFOR0VfVElNRU9VVF9NUyA9IDMwICogMTAwMDsKCmZ1bmN0aW9uIF91cGxvYWRGaWxlcyhpbnB1dElkLCBvdXRwdXRJZCkgewogIGNvbnN0IHN0ZXBzID0gdXBsb2FkRmlsZXNTdGVwKGlucHV0SWQsIG91dHB1dElkKTsKICBjb25zdCBvdXRwdXRFbGVtZW50ID0gZG9jdW1lbnQuZ2V0RWxlbWVudEJ5SWQob3V0cHV0SWQpOwogIC8vIENhY2hlIHN0ZXBzIG9uIHRoZSBvdXRwdXRFbGVtZW50IHRvIG1ha2UgaXQgYXZhaWxhYmxlIGZvciB0aGUgbmV4dCBjYWxsCiAgLy8gdG8gdXBsb2FkRmlsZXNDb250aW51ZSBmcm9tIFB5dGhvbi4KICBvdXRwdXRFbGVtZW50LnN0ZXBzID0gc3RlcHM7CgogIHJldHVybiBfdXBsb2FkRmlsZXNDb250aW51ZShvdXRwdXRJZCk7Cn0KCi8vIFRoaXMgaXMgcm91Z2hseSBhbiBhc3luYyBnZW5lcmF0b3IgKG5vdCBzdXBwb3J0ZWQgaW4gdGhlIGJyb3dzZXIgeWV0KSwKLy8gd2hlcmUgdGhlcmUgYXJlIG11bHRpcGxlIGFzeW5jaHJvbm91cyBzdGVwcyBhbmQgdGhlIFB5dGhvbiBzaWRlIGlzIGdvaW5nCi8vIHRvIHBvbGwgZm9yIGNvbXBsZXRpb24gb2YgZWFjaCBzdGVwLgovLyBUaGlzIHVzZXMgYSBQcm9taXNlIHRvIGJsb2NrIHRoZSBweXRob24gc2lkZSBvbiBjb21wbGV0aW9uIG9mIGVhY2ggc3RlcCwKLy8gdGhlbiBwYXNzZXMgdGhlIHJlc3VsdCBvZiB0aGUgcHJldmlvdXMgc3RlcCBhcyB0aGUgaW5wdXQgdG8gdGhlIG5leHQgc3RlcC4KZnVuY3Rpb24gX3VwbG9hZEZpbGVzQ29udGludWUob3V0cHV0SWQpIHsKICBjb25zdCBvdXRwdXRFbGVtZW50ID0gZG9jdW1lbnQuZ2V0RWxlbWVudEJ5SWQob3V0cHV0SWQpOwogIGNvbnN0IHN0ZXBzID0gb3V0cHV0RWxlbWVudC5zdGVwczsKCiAgY29uc3QgbmV4dCA9IHN0ZXBzLm5leHQob3V0cHV0RWxlbWVudC5sYXN0UHJvbWlzZVZhbHVlKTsKICByZXR1cm4gUHJvbWlzZS5yZXNvbHZlKG5leHQudmFsdWUucHJvbWlzZSkudGhlbigodmFsdWUpID0+IHsKICAgIC8vIENhY2hlIHRoZSBsYXN0IHByb21pc2UgdmFsdWUgdG8gbWFrZSBpdCBhdmFpbGFibGUgdG8gdGhlIG5leHQKICAgIC8vIHN0ZXAgb2YgdGhlIGdlbmVyYXRvci4KICAgIG91dHB1dEVsZW1lbnQubGFzdFByb21pc2VWYWx1ZSA9IHZhbHVlOwogICAgcmV0dXJuIG5leHQudmFsdWUucmVzcG9uc2U7CiAgfSk7Cn0KCi8qKgogKiBHZW5lcmF0b3IgZnVuY3Rpb24gd2hpY2ggaXMgY2FsbGVkIGJldHdlZW4gZWFjaCBhc3luYyBzdGVwIG9mIHRoZSB1cGxvYWQKICogcHJvY2Vzcy4KICogQHBhcmFtIHtzdHJpbmd9IGlucHV0SWQgRWxlbWVudCBJRCBvZiB0aGUgaW5wdXQgZmlsZSBwaWNrZXIgZWxlbWVudC4KICogQHBhcmFtIHtzdHJpbmd9IG91dHB1dElkIEVsZW1lbnQgSUQgb2YgdGhlIG91dHB1dCBkaXNwbGF5LgogKiBAcmV0dXJuIHshSXRlcmFibGU8IU9iamVjdD59IEl0ZXJhYmxlIG9mIG5leHQgc3RlcHMuCiAqLwpmdW5jdGlvbiogdXBsb2FkRmlsZXNTdGVwKGlucHV0SWQsIG91dHB1dElkKSB7CiAgY29uc3QgaW5wdXRFbGVtZW50ID0gZG9jdW1lbnQuZ2V0RWxlbWVudEJ5SWQoaW5wdXRJZCk7CiAgaW5wdXRFbGVtZW50LmRpc2FibGVkID0gZmFsc2U7CgogIGNvbnN0IG91dHB1dEVsZW1lbnQgPSBkb2N1bWVudC5nZXRFbGVtZW50QnlJZChvdXRwdXRJZCk7CiAgb3V0cHV0RWxlbWVudC5pbm5lckhUTUwgPSAnJzsKCiAgY29uc3QgcGlja2VkUHJvbWlzZSA9IG5ldyBQcm9taXNlKChyZXNvbHZlKSA9PiB7CiAgICBpbnB1dEVsZW1lbnQuYWRkRXZlbnRMaXN0ZW5lcignY2hhbmdlJywgKGUpID0+IHsKICAgICAgcmVzb2x2ZShlLnRhcmdldC5maWxlcyk7CiAgICB9KTsKICB9KTsKCiAgY29uc3QgY2FuY2VsID0gZG9jdW1lbnQuY3JlYXRlRWxlbWVudCgnYnV0dG9uJyk7CiAgaW5wdXRFbGVtZW50LnBhcmVudEVsZW1lbnQuYXBwZW5kQ2hpbGQoY2FuY2VsKTsKICBjYW5jZWwudGV4dENvbnRlbnQgPSAnQ2FuY2VsIHVwbG9hZCc7CiAgY29uc3QgY2FuY2VsUHJvbWlzZSA9IG5ldyBQcm9taXNlKChyZXNvbHZlKSA9PiB7CiAgICBjYW5jZWwub25jbGljayA9ICgpID0+IHsKICAgICAgcmVzb2x2ZShudWxsKTsKICAgIH07CiAgfSk7CgogIC8vIENhbmNlbCB1cGxvYWQgaWYgdXNlciBoYXNuJ3QgcGlja2VkIGFueXRoaW5nIGluIHRpbWVvdXQuCiAgY29uc3QgdGltZW91dFByb21pc2UgPSBuZXcgUHJvbWlzZSgocmVzb2x2ZSkgPT4gewogICAgc2V0VGltZW91dCgoKSA9PiB7CiAgICAgIHJlc29sdmUobnVsbCk7CiAgICB9LCBGSUxFX0NIQU5HRV9USU1FT1VUX01TKTsKICB9KTsKCiAgLy8gV2FpdCBmb3IgdGhlIHVzZXIgdG8gcGljayB0aGUgZmlsZXMuCiAgY29uc3QgZmlsZXMgPSB5aWVsZCB7CiAgICBwcm9taXNlOiBQcm9taXNlLnJhY2UoW3BpY2tlZFByb21pc2UsIHRpbWVvdXRQcm9taXNlLCBjYW5jZWxQcm9taXNlXSksCiAgICByZXNwb25zZTogewogICAgICBhY3Rpb246ICdzdGFydGluZycsCiAgICB9CiAgfTsKCiAgaWYgKCFmaWxlcykgewogICAgcmV0dXJuIHsKICAgICAgcmVzcG9uc2U6IHsKICAgICAgICBhY3Rpb246ICdjb21wbGV0ZScsCiAgICAgIH0KICAgIH07CiAgfQoKICBjYW5jZWwucmVtb3ZlKCk7CgogIC8vIERpc2FibGUgdGhlIGlucHV0IGVsZW1lbnQgc2luY2UgZnVydGhlciBwaWNrcyBhcmUgbm90IGFsbG93ZWQuCiAgaW5wdXRFbGVtZW50LmRpc2FibGVkID0gdHJ1ZTsKCiAgZm9yIChjb25zdCBmaWxlIG9mIGZpbGVzKSB7CiAgICBjb25zdCBsaSA9IGRvY3VtZW50LmNyZWF0ZUVsZW1lbnQoJ2xpJyk7CiAgICBsaS5hcHBlbmQoc3BhbihmaWxlLm5hbWUsIHtmb250V2VpZ2h0OiAnYm9sZCd9KSk7CiAgICBsaS5hcHBlbmQoc3BhbigKICAgICAgICBgKCR7ZmlsZS50eXBlIHx8ICduL2EnfSkgLSAke2ZpbGUuc2l6ZX0gYnl0ZXMsIGAgKwogICAgICAgIGBsYXN0IG1vZGlmaWVkOiAkewogICAgICAgICAgICBmaWxlLmxhc3RNb2RpZmllZERhdGUgPyBmaWxlLmxhc3RNb2RpZmllZERhdGUudG9Mb2NhbGVEYXRlU3RyaW5nKCkgOgogICAgICAgICAgICAgICAgICAgICAgICAgICAgICAgICAgICAnbi9hJ30gLSBgKSk7CiAgICBjb25zdCBwZXJjZW50ID0gc3BhbignMCUgZG9uZScpOwogICAgbGkuYXBwZW5kQ2hpbGQocGVyY2VudCk7CgogICAgb3V0cHV0RWxlbWVudC5hcHBlbmRDaGlsZChsaSk7CgogICAgY29uc3QgZmlsZURhdGFQcm9taXNlID0gbmV3IFByb21pc2UoKHJlc29sdmUpID0+IHsKICAgICAgY29uc3QgcmVhZGVyID0gbmV3IEZpbGVSZWFkZXIoKTsKICAgICAgcmVhZGVyLm9ubG9hZCA9IChlKSA9PiB7CiAgICAgICAgcmVzb2x2ZShlLnRhcmdldC5yZXN1bHQpOwogICAgICB9OwogICAgICByZWFkZXIucmVhZEFzQXJyYXlCdWZmZXIoZmlsZSk7CiAgICB9KTsKICAgIC8vIFdhaXQgZm9yIHRoZSBkYXRhIHRvIGJlIHJlYWR5LgogICAgbGV0IGZpbGVEYXRhID0geWllbGQgewogICAgICBwcm9taXNlOiBmaWxlRGF0YVByb21pc2UsCiAgICAgIHJlc3BvbnNlOiB7CiAgICAgICAgYWN0aW9uOiAnY29udGludWUnLAogICAgICB9CiAgICB9OwoKICAgIC8vIFVzZSBhIGNodW5rZWQgc2VuZGluZyB0byBhdm9pZCBtZXNzYWdlIHNpemUgbGltaXRzLiBTZWUgYi82MjExNTY2MC4KICAgIGxldCBwb3NpdGlvbiA9IDA7CiAgICB3aGlsZSAocG9zaXRpb24gPCBmaWxlRGF0YS5ieXRlTGVuZ3RoKSB7CiAgICAgIGNvbnN0IGxlbmd0aCA9IE1hdGgubWluKGZpbGVEYXRhLmJ5dGVMZW5ndGggLSBwb3NpdGlvbiwgTUFYX1BBWUxPQURfU0laRSk7CiAgICAgIGNvbnN0IGNodW5rID0gbmV3IFVpbnQ4QXJyYXkoZmlsZURhdGEsIHBvc2l0aW9uLCBsZW5ndGgpOwogICAgICBwb3NpdGlvbiArPSBsZW5ndGg7CgogICAgICBjb25zdCBiYXNlNjQgPSBidG9hKFN0cmluZy5mcm9tQ2hhckNvZGUuYXBwbHkobnVsbCwgY2h1bmspKTsKICAgICAgeWllbGQgewogICAgICAgIHJlc3BvbnNlOiB7CiAgICAgICAgICBhY3Rpb246ICdhcHBlbmQnLAogICAgICAgICAgZmlsZTogZmlsZS5uYW1lLAogICAgICAgICAgZGF0YTogYmFzZTY0LAogICAgICAgIH0sCiAgICAgIH07CiAgICAgIHBlcmNlbnQudGV4dENvbnRlbnQgPQogICAgICAgICAgYCR7TWF0aC5yb3VuZCgocG9zaXRpb24gLyBmaWxlRGF0YS5ieXRlTGVuZ3RoKSAqIDEwMCl9JSBkb25lYDsKICAgIH0KICB9CgogIC8vIEFsbCBkb25lLgogIHlpZWxkIHsKICAgIHJlc3BvbnNlOiB7CiAgICAgIGFjdGlvbjogJ2NvbXBsZXRlJywKICAgIH0KICB9Owp9CgpzY29wZS5nb29nbGUgPSBzY29wZS5nb29nbGUgfHwge307CnNjb3BlLmdvb2dsZS5jb2xhYiA9IHNjb3BlLmdvb2dsZS5jb2xhYiB8fCB7fTsKc2NvcGUuZ29vZ2xlLmNvbGFiLl9maWxlcyA9IHsKICBfdXBsb2FkRmlsZXMsCiAgX3VwbG9hZEZpbGVzQ29udGludWUsCn07Cn0pKHNlbGYpOwo=",
              "ok": true,
              "headers": [
                [
                  "content-type",
                  "application/javascript"
                ]
              ],
              "status": 200,
              "status_text": ""
            }
          },
          "base_uri": "https://localhost:8080/",
          "height": 74
        },
        "outputId": "60516265-d0e1-45b7-bd05-93389ce70668"
      },
      "source": [
        "from google.colab import files \n",
        "uploaded = files.upload() "
      ],
      "execution_count": 8,
      "outputs": [
        {
          "output_type": "display_data",
          "data": {
            "text/html": [
              "\n",
              "     <input type=\"file\" id=\"files-cd4a124d-1558-4137-b552-11b48534aa84\" name=\"files[]\" multiple disabled />\n",
              "     <output id=\"result-cd4a124d-1558-4137-b552-11b48534aa84\">\n",
              "      Upload widget is only available when the cell has been executed in the\n",
              "      current browser session. Please rerun this cell to enable.\n",
              "      </output>\n",
              "      <script src=\"/nbextensions/google.colab/files.js\"></script> "
            ],
            "text/plain": [
              "<IPython.core.display.HTML object>"
            ]
          },
          "metadata": {
            "tags": []
          }
        },
        {
          "output_type": "stream",
          "text": [
            "Saving test.csv to test.csv\n"
          ],
          "name": "stdout"
        }
      ]
    },
    {
      "cell_type": "code",
      "metadata": {
        "id": "6eX3UdOyNwBw",
        "colab_type": "code",
        "colab": {
          "base_uri": "https://localhost:8080/",
          "height": 1000
        },
        "outputId": "081d2197-67a1-411f-8d87-28ae5bb2619f"
      },
      "source": [
        "tdf = pd.read_csv('test.csv')\n",
        "len(tdf)\n",
        "tdf"
      ],
      "execution_count": 8,
      "outputs": [
        {
          "output_type": "execute_result",
          "data": {
            "text/html": [
              "<div>\n",
              "<style scoped>\n",
              "    .dataframe tbody tr th:only-of-type {\n",
              "        vertical-align: middle;\n",
              "    }\n",
              "\n",
              "    .dataframe tbody tr th {\n",
              "        vertical-align: top;\n",
              "    }\n",
              "\n",
              "    .dataframe thead th {\n",
              "        text-align: right;\n",
              "    }\n",
              "</style>\n",
              "<table border=\"1\" class=\"dataframe\">\n",
              "  <thead>\n",
              "    <tr style=\"text-align: right;\">\n",
              "      <th></th>\n",
              "      <th>CONTENT</th>\n",
              "      <th>label</th>\n",
              "    </tr>\n",
              "  </thead>\n",
              "  <tbody>\n",
              "    <tr>\n",
              "      <th>0</th>\n",
              "      <td>mclean va oct 08 2019 globe newswire gladstone...</td>\n",
              "      <td>1</td>\n",
              "    </tr>\n",
              "    <tr>\n",
              "      <th>1</th>\n",
              "      <td>add detail background share sept 9 reuters fre...</td>\n",
              "      <td>0</td>\n",
              "    </tr>\n",
              "    <tr>\n",
              "      <th>2</th>\n",
              "      <td>acceleron pharma inc xlrn announce the discont...</td>\n",
              "      <td>0</td>\n",
              "    </tr>\n",
              "    <tr>\n",
              "      <th>3</th>\n",
              "      <td>corona ca accesswire october 3 2019 adomani in...</td>\n",
              "      <td>0</td>\n",
              "    </tr>\n",
              "    <tr>\n",
              "      <th>4</th>\n",
              "      <td>corona ca accesswire september 20 2019 adomani...</td>\n",
              "      <td>2</td>\n",
              "    </tr>\n",
              "    <tr>\n",
              "      <th>5</th>\n",
              "      <td>corona ca accesswire september 26 2019 adomani...</td>\n",
              "      <td>2</td>\n",
              "    </tr>\n",
              "    <tr>\n",
              "      <th>6</th>\n",
              "      <td>bloomberg tilman fertitta have to wait to land...</td>\n",
              "      <td>1</td>\n",
              "    </tr>\n",
              "    <tr>\n",
              "      <th>7</th>\n",
              "      <td>plan to resume trade on over the counter marke...</td>\n",
              "      <td>1</td>\n",
              "    </tr>\n",
              "    <tr>\n",
              "      <th>8</th>\n",
              "      <td>beijing may 23 2019 globe newswire chinacache ...</td>\n",
              "      <td>0</td>\n",
              "    </tr>\n",
              "    <tr>\n",
              "      <th>9</th>\n",
              "      <td>beijing aug 28 2019 globe newswire chinacache ...</td>\n",
              "      <td>1</td>\n",
              "    </tr>\n",
              "    <tr>\n",
              "      <th>10</th>\n",
              "      <td>beijing urumqi china and hangzhou china july 1...</td>\n",
              "      <td>1</td>\n",
              "    </tr>\n",
              "    <tr>\n",
              "      <th>11</th>\n",
              "      <td>beijing urumqi china and hangzhou china july 2...</td>\n",
              "      <td>1</td>\n",
              "    </tr>\n",
              "    <tr>\n",
              "      <th>12</th>\n",
              "      <td>beijing urumqi china and hangzhou china july 1...</td>\n",
              "      <td>0</td>\n",
              "    </tr>\n",
              "    <tr>\n",
              "      <th>13</th>\n",
              "      <td>beijing urumqi and hangzhou china aug 12 2019 ...</td>\n",
              "      <td>0</td>\n",
              "    </tr>\n",
              "    <tr>\n",
              "      <th>14</th>\n",
              "      <td>beijing urumqi china and hangzhou china aug 20...</td>\n",
              "      <td>1</td>\n",
              "    </tr>\n",
              "    <tr>\n",
              "      <th>15</th>\n",
              "      <td>share of cellcom israel ltd cel gain 21 3 afte...</td>\n",
              "      <td>1</td>\n",
              "    </tr>\n",
              "    <tr>\n",
              "      <th>16</th>\n",
              "      <td>every enterprise can harness the performance a...</td>\n",
              "      <td>1</td>\n",
              "    </tr>\n",
              "    <tr>\n",
              "      <th>17</th>\n",
              "      <td>seattle aug 02 2019 globe newswire global supe...</td>\n",
              "      <td>1</td>\n",
              "    </tr>\n",
              "    <tr>\n",
              "      <th>18</th>\n",
              "      <td>new york ny accesswire june 24 2019 halper sad...</td>\n",
              "      <td>1</td>\n",
              "    </tr>\n",
              "    <tr>\n",
              "      <th>19</th>\n",
              "      <td>csc s new platform offers more convenience and...</td>\n",
              "      <td>2</td>\n",
              "    </tr>\n",
              "    <tr>\n",
              "      <th>20</th>\n",
              "      <td>stockholder to receive 8 00 in cash per share ...</td>\n",
              "      <td>1</td>\n",
              "    </tr>\n",
              "    <tr>\n",
              "      <th>21</th>\n",
              "      <td>new york sept 20 2019 globe newswire the nasda...</td>\n",
              "      <td>2</td>\n",
              "    </tr>\n",
              "    <tr>\n",
              "      <th>22</th>\n",
              "      <td>new york aug 21 2019 globe newswire the nasdaq...</td>\n",
              "      <td>2</td>\n",
              "    </tr>\n",
              "    <tr>\n",
              "      <th>23</th>\n",
              "      <td>the 700 hedge fund and famous money manager tr...</td>\n",
              "      <td>1</td>\n",
              "    </tr>\n",
              "    <tr>\n",
              "      <th>24</th>\n",
              "      <td>sept 9 reuters fred s inc say on monday -pron-...</td>\n",
              "      <td>0</td>\n",
              "    </tr>\n",
              "    <tr>\n",
              "      <th>25</th>\n",
              "      <td>brentwood tenn may 22 2019 globe newswire dive...</td>\n",
              "      <td>0</td>\n",
              "    </tr>\n",
              "    <tr>\n",
              "      <th>26</th>\n",
              "      <td>brentwood tenn sept 04 2019 globe newswire div...</td>\n",
              "      <td>1</td>\n",
              "    </tr>\n",
              "    <tr>\n",
              "      <th>27</th>\n",
              "      <td>brentwood tenn aug 28 2019 globe newswire dive...</td>\n",
              "      <td>0</td>\n",
              "    </tr>\n",
              "    <tr>\n",
              "      <th>28</th>\n",
              "      <td>finisar corporation fnsr be a big mover last s...</td>\n",
              "      <td>2</td>\n",
              "    </tr>\n",
              "    <tr>\n",
              "      <th>29</th>\n",
              "      <td>sunnvale calif and dublin ireland sept 22 2019...</td>\n",
              "      <td>2</td>\n",
              "    </tr>\n",
              "    <tr>\n",
              "      <th>...</th>\n",
              "      <td>...</td>\n",
              "      <td>...</td>\n",
              "    </tr>\n",
              "    <tr>\n",
              "      <th>340</th>\n",
              "      <td>new york july 22 2019 prnewswire weisslaw llp ...</td>\n",
              "      <td>1</td>\n",
              "    </tr>\n",
              "    <tr>\n",
              "      <th>341</th>\n",
              "      <td>new york june 13 2019 prnewswire weisslaw llp ...</td>\n",
              "      <td>1</td>\n",
              "    </tr>\n",
              "    <tr>\n",
              "      <th>342</th>\n",
              "      <td>felton california june 10 2019 prnewswire in 2...</td>\n",
              "      <td>1</td>\n",
              "    </tr>\n",
              "    <tr>\n",
              "      <th>343</th>\n",
              "      <td>corning n y march 22 2019 prnewswire a couple ...</td>\n",
              "      <td>1</td>\n",
              "    </tr>\n",
              "    <tr>\n",
              "      <th>344</th>\n",
              "      <td>beijing sept 12 2019 prnewswire china techfait...</td>\n",
              "      <td>2</td>\n",
              "    </tr>\n",
              "    <tr>\n",
              "      <th>345</th>\n",
              "      <td>beijing june 14 2019 prnewswire china techfait...</td>\n",
              "      <td>2</td>\n",
              "    </tr>\n",
              "    <tr>\n",
              "      <th>346</th>\n",
              "      <td>memphis tenn may 24 2019 prnewswire as shopper...</td>\n",
              "      <td>0</td>\n",
              "    </tr>\n",
              "    <tr>\n",
              "      <th>347</th>\n",
              "      <td>great falls va may 29 2019 prnewswire thunder ...</td>\n",
              "      <td>1</td>\n",
              "    </tr>\n",
              "    <tr>\n",
              "      <th>348</th>\n",
              "      <td>broomfield colo sept 24 2019 prnewswire vail r...</td>\n",
              "      <td>1</td>\n",
              "    </tr>\n",
              "    <tr>\n",
              "      <th>349</th>\n",
              "      <td>broomfield colo july 22 2019 prnewswire vail r...</td>\n",
              "      <td>1</td>\n",
              "    </tr>\n",
              "    <tr>\n",
              "      <th>350</th>\n",
              "      <td>new york jan 25 2019 prnewswire yangtze river ...</td>\n",
              "      <td>0</td>\n",
              "    </tr>\n",
              "    <tr>\n",
              "      <th>351</th>\n",
              "      <td>the unconstructed part of the project be a pla...</td>\n",
              "      <td>0</td>\n",
              "    </tr>\n",
              "    <tr>\n",
              "      <th>352</th>\n",
              "      <td>new york aug 28 2019 prnewswire on january 23 ...</td>\n",
              "      <td>0</td>\n",
              "    </tr>\n",
              "    <tr>\n",
              "      <th>353</th>\n",
              "      <td>new york feb 8 2019 prnewswire rosen law firm ...</td>\n",
              "      <td>0</td>\n",
              "    </tr>\n",
              "    <tr>\n",
              "      <th>354</th>\n",
              "      <td>new york jan 31 2019 prnewswire rosen law firm...</td>\n",
              "      <td>0</td>\n",
              "    </tr>\n",
              "    <tr>\n",
              "      <th>355</th>\n",
              "      <td>discount retailer freds inc seek court approva...</td>\n",
              "      <td>0</td>\n",
              "    </tr>\n",
              "    <tr>\n",
              "      <th>356</th>\n",
              "      <td>add thyssenkrupp t mobile petroleo brasileiro ...</td>\n",
              "      <td>2</td>\n",
              "    </tr>\n",
              "    <tr>\n",
              "      <th>357</th>\n",
              "      <td>sept 9 reuters freds inc say on monday -pron- ...</td>\n",
              "      <td>0</td>\n",
              "    </tr>\n",
              "    <tr>\n",
              "      <th>358</th>\n",
              "      <td>june 11 reuter the follow be the top story in ...</td>\n",
              "      <td>2</td>\n",
              "    </tr>\n",
              "    <tr>\n",
              "      <th>359</th>\n",
              "      <td>san francisco reuters amazon com inc be roll o...</td>\n",
              "      <td>1</td>\n",
              "    </tr>\n",
              "    <tr>\n",
              "      <th>360</th>\n",
              "      <td>for a live blog on the u s stock market click ...</td>\n",
              "      <td>0</td>\n",
              "    </tr>\n",
              "    <tr>\n",
              "      <th>361</th>\n",
              "      <td>a trader pass by the post where hewlett packar...</td>\n",
              "      <td>2</td>\n",
              "    </tr>\n",
              "    <tr>\n",
              "      <th>362</th>\n",
              "      <td>reuters del friscos restaurant group inc say o...</td>\n",
              "      <td>1</td>\n",
              "    </tr>\n",
              "    <tr>\n",
              "      <th>363</th>\n",
              "      <td>reuters del friscos restaurant group inc dfrg ...</td>\n",
              "      <td>1</td>\n",
              "    </tr>\n",
              "    <tr>\n",
              "      <th>364</th>\n",
              "      <td>reuters del friscos restaurant group inc dfrg ...</td>\n",
              "      <td>1</td>\n",
              "    </tr>\n",
              "    <tr>\n",
              "      <th>365</th>\n",
              "      <td>reuters del friscos restaurant group inc say o...</td>\n",
              "      <td>1</td>\n",
              "    </tr>\n",
              "    <tr>\n",
              "      <th>366</th>\n",
              "      <td>reuters freds inc say on thursday -pron- would...</td>\n",
              "      <td>0</td>\n",
              "    </tr>\n",
              "    <tr>\n",
              "      <th>367</th>\n",
              "      <td>reuters freds inc fred o say on monday -pron- ...</td>\n",
              "      <td>0</td>\n",
              "    </tr>\n",
              "    <tr>\n",
              "      <th>368</th>\n",
              "      <td>washington reuters the u s commerce department...</td>\n",
              "      <td>1</td>\n",
              "    </tr>\n",
              "    <tr>\n",
              "      <th>369</th>\n",
              "      <td>reuters a u s government lead group be work wi...</td>\n",
              "      <td>1</td>\n",
              "    </tr>\n",
              "  </tbody>\n",
              "</table>\n",
              "<p>370 rows × 2 columns</p>\n",
              "</div>"
            ],
            "text/plain": [
              "                                               CONTENT  label\n",
              "0    mclean va oct 08 2019 globe newswire gladstone...      1\n",
              "1    add detail background share sept 9 reuters fre...      0\n",
              "2    acceleron pharma inc xlrn announce the discont...      0\n",
              "3    corona ca accesswire october 3 2019 adomani in...      0\n",
              "4    corona ca accesswire september 20 2019 adomani...      2\n",
              "5    corona ca accesswire september 26 2019 adomani...      2\n",
              "6    bloomberg tilman fertitta have to wait to land...      1\n",
              "7    plan to resume trade on over the counter marke...      1\n",
              "8    beijing may 23 2019 globe newswire chinacache ...      0\n",
              "9    beijing aug 28 2019 globe newswire chinacache ...      1\n",
              "10   beijing urumqi china and hangzhou china july 1...      1\n",
              "11   beijing urumqi china and hangzhou china july 2...      1\n",
              "12   beijing urumqi china and hangzhou china july 1...      0\n",
              "13   beijing urumqi and hangzhou china aug 12 2019 ...      0\n",
              "14   beijing urumqi china and hangzhou china aug 20...      1\n",
              "15   share of cellcom israel ltd cel gain 21 3 afte...      1\n",
              "16   every enterprise can harness the performance a...      1\n",
              "17   seattle aug 02 2019 globe newswire global supe...      1\n",
              "18   new york ny accesswire june 24 2019 halper sad...      1\n",
              "19   csc s new platform offers more convenience and...      2\n",
              "20   stockholder to receive 8 00 in cash per share ...      1\n",
              "21   new york sept 20 2019 globe newswire the nasda...      2\n",
              "22   new york aug 21 2019 globe newswire the nasdaq...      2\n",
              "23   the 700 hedge fund and famous money manager tr...      1\n",
              "24   sept 9 reuters fred s inc say on monday -pron-...      0\n",
              "25   brentwood tenn may 22 2019 globe newswire dive...      0\n",
              "26   brentwood tenn sept 04 2019 globe newswire div...      1\n",
              "27   brentwood tenn aug 28 2019 globe newswire dive...      0\n",
              "28   finisar corporation fnsr be a big mover last s...      2\n",
              "29   sunnvale calif and dublin ireland sept 22 2019...      2\n",
              "..                                                 ...    ...\n",
              "340  new york july 22 2019 prnewswire weisslaw llp ...      1\n",
              "341  new york june 13 2019 prnewswire weisslaw llp ...      1\n",
              "342  felton california june 10 2019 prnewswire in 2...      1\n",
              "343  corning n y march 22 2019 prnewswire a couple ...      1\n",
              "344  beijing sept 12 2019 prnewswire china techfait...      2\n",
              "345  beijing june 14 2019 prnewswire china techfait...      2\n",
              "346  memphis tenn may 24 2019 prnewswire as shopper...      0\n",
              "347  great falls va may 29 2019 prnewswire thunder ...      1\n",
              "348  broomfield colo sept 24 2019 prnewswire vail r...      1\n",
              "349  broomfield colo july 22 2019 prnewswire vail r...      1\n",
              "350  new york jan 25 2019 prnewswire yangtze river ...      0\n",
              "351  the unconstructed part of the project be a pla...      0\n",
              "352  new york aug 28 2019 prnewswire on january 23 ...      0\n",
              "353  new york feb 8 2019 prnewswire rosen law firm ...      0\n",
              "354  new york jan 31 2019 prnewswire rosen law firm...      0\n",
              "355  discount retailer freds inc seek court approva...      0\n",
              "356  add thyssenkrupp t mobile petroleo brasileiro ...      2\n",
              "357  sept 9 reuters freds inc say on monday -pron- ...      0\n",
              "358  june 11 reuter the follow be the top story in ...      2\n",
              "359  san francisco reuters amazon com inc be roll o...      1\n",
              "360  for a live blog on the u s stock market click ...      0\n",
              "361  a trader pass by the post where hewlett packar...      2\n",
              "362  reuters del friscos restaurant group inc say o...      1\n",
              "363  reuters del friscos restaurant group inc dfrg ...      1\n",
              "364  reuters del friscos restaurant group inc dfrg ...      1\n",
              "365  reuters del friscos restaurant group inc say o...      1\n",
              "366  reuters freds inc say on thursday -pron- would...      0\n",
              "367  reuters freds inc fred o say on monday -pron- ...      0\n",
              "368  washington reuters the u s commerce department...      1\n",
              "369  reuters a u s government lead group be work wi...      1\n",
              "\n",
              "[370 rows x 2 columns]"
            ]
          },
          "metadata": {
            "tags": []
          },
          "execution_count": 8
        }
      ]
    },
    {
      "cell_type": "code",
      "metadata": {
        "id": "4-pCH8CcOKu4",
        "colab_type": "code",
        "colab": {
          "base_uri": "https://localhost:8080/",
          "height": 34
        },
        "outputId": "44ea6339-e377-4f1d-ae08-d4ee9df7d942"
      },
      "source": [
        "tdf.dropna(subset=['label'], inplace=True)\n",
        "len(tdf)"
      ],
      "execution_count": 9,
      "outputs": [
        {
          "output_type": "execute_result",
          "data": {
            "text/plain": [
              "370"
            ]
          },
          "metadata": {
            "tags": []
          },
          "execution_count": 9
        }
      ]
    },
    {
      "cell_type": "code",
      "metadata": {
        "id": "DCKRng3FN2BL",
        "colab_type": "code",
        "colab": {}
      },
      "source": [
        "x = df['CONTENT']\n",
        "y = df['label']\n",
        "x_test=tdf['CONTENT']\n",
        "y_test=tdf['label']"
      ],
      "execution_count": 0,
      "outputs": []
    },
    {
      "cell_type": "code",
      "metadata": {
        "id": "g4zZKs8eO0wF",
        "colab_type": "code",
        "colab": {
          "base_uri": "https://localhost:8080/",
          "height": 1000
        },
        "outputId": "02db4493-e2f5-4563-e033-74eecf5014cb"
      },
      "source": [
        "import sklearn.model_selection\n",
        "from sklearn.model_selection import train_test_split\n",
        "SEED = 42\n",
        "x_train, x_validation, y_train, y_validation = train_test_split(x, y, test_size=.02, random_state=SEED)\n",
        "print (x_train)"
      ],
      "execution_count": 11,
      "outputs": [
        {
          "output_type": "stream",
          "text": [
            "611    investor interested in business service stock ...\n",
            "63     atlanta sept 18 2019 prnewswire follow the fed...\n",
            "404    investor in celgene corp symbol celg see new o...\n",
            "314    although wayfair inc nyse w seem well position...\n",
            "333    while merck co and roche holding ag have take ...\n",
            "465    wynyard uk may 14 2019 prnewswire venator mate...\n",
            "208    community solar in minnesota allow business pu...\n",
            "544    howard marks put -pron- nicely when -pron- say...\n",
            "515    emerge market be outperform the u s economy th...\n",
            "81     juul labs inc and other e cigarette maker woul...\n",
            "677    new york oct 9 2019 prnewswire laminate floor ...\n",
            "65     be the ability to time the market more of a da...\n",
            "697    the late 13f reporting period have come and go...\n",
            "291    merit medical systems inc nasdaq mmsi which be...\n",
            "356    good afternoon from los angeles wherever -pron...\n",
            "39     the lovesac company love come out with a quart...\n",
            "148    cleveland cliffs inc clf will begin trade ex d...\n",
            "284    new york sept 26 2019 globe newswire attorney ...\n",
            "665    mastercard inc ma be well poise to benefit fro...\n",
            "196    the lend360 conference be an annual event that...\n",
            "118    jamie dimon say that while -pron- doubt the wa...\n",
            "131    net revenues increase 215 year over year to 40...\n",
            "239    plymouth mich oct 4 2019 prnewswire adient adn...\n",
            "155    accuray incorporated aray be gain prominence i...\n",
            "606    princeton n j business wire clearway energy in...\n",
            "535    investor may want to bet on armada hoffler pro...\n",
            "209    new york feb 8 2019 prnewswire rosen law firm ...\n",
            "643    investor may wish to note that an insider of e...\n",
            "72     for immediate release chicago il september 13 ...\n",
            "434    maumee ohio oct 3 2019 prnewswire dana incorpo...\n",
            "                             ...                        \n",
            "21     want to participate in a short research study ...\n",
            "313    fourth generation family member to take on exp...\n",
            "459    madison n j sept 25 2019 prnewswire sotheby s ...\n",
            "160    -pron- be in the final stretch of a super vola...\n",
            "276    new york oct 2 2019 prnewswire web cameras mar...\n",
            "191    san francisco feb 1 2019 prnewswire schubert j...\n",
            "385    sirius minerals plc lon sxx have decide to sus...\n",
            "413    legendary investor warren buffett advise to be...\n",
            "491    any view express in this opinion piece be thos...\n",
            "343    term of trade be a daily newsletter that untan...\n",
            "308    houston aug 15 2019 prnewswire saexploration h...\n",
            "661    in the late trading session facebook fb close ...\n",
            "130    positive phase 3 data for kx2 391 feature at 2...\n",
            "663    cob and ceo of facebook inc 30 year financial ...\n",
            "99     sanchez energy delist from new york stock exch...\n",
            "372    a wayfair employee work at -pron- desk at the ...\n",
            "87     peoples bank of china governor yi gang say the...\n",
            "458    new york sept 26 2019 prnewswire pomerantz llp...\n",
            "330    for the first time public health official will...\n",
            "214    reuters d r horton inc forecast 2019 revenue b...\n",
            "466    a federal judge on thursday reject a pharmaceu...\n",
            "121    by the number in the news today stocks to watc...\n",
            "614    greenwood village colo ap csg systems internat...\n",
            "20     bethesda md sept 10 2019 prnewswire diamondroc...\n",
            "700    american electric power company inc s aep stro...\n",
            "71     online furniture retailer wayfair inc nyse w h...\n",
            "106    regional bank be on the rise share of the kre ...\n",
            "270    today -pron- ll do a simple run through of a v...\n",
            "435    mbp titan llc will be a standalone subsidiary ...\n",
            "102    cleveland cliffs inc the company s good in sho...\n",
            "Name: CONTENT, Length: 696, dtype: object\n"
          ],
          "name": "stdout"
        }
      ]
    },
    {
      "cell_type": "code",
      "metadata": {
        "id": "0htqxR5dRV0j",
        "colab_type": "code",
        "colab": {
          "base_uri": "https://localhost:8080/",
          "height": 71
        },
        "outputId": "824b8811-7af1-48fb-9eaa-d3a1ba1abdc1"
      },
      "source": [
        "from tqdm import tqdm\n",
        "tqdm.pandas(desc=\"progress-bar\")\n",
        "from gensim.models import Doc2Vec\n",
        "from gensim.models.doc2vec import LabeledSentence\n",
        "import multiprocessing\n",
        "from sklearn import utils\n",
        "\n",
        "def labelize_news_ug(news,label):\n",
        "    result = []\n",
        "    prefix = label\n",
        "    for i, t in zip(news.index, news):\n",
        "        result.append(LabeledSentence(t.split(), [prefix + '_%s' % i]))\n",
        "    return result\n",
        "  \n",
        "all_x = pd.concat([x_train,x_validation,x_test])\n",
        "all_x_w2v = labelize_news_ug(all_x, 'all')"
      ],
      "execution_count": 110,
      "outputs": [
        {
          "output_type": "stream",
          "text": [
            "/usr/local/lib/python2.7/dist-packages/ipykernel_launcher.py:12: DeprecationWarning: Call to deprecated `LabeledSentence` (Class will be removed in 4.0.0, use TaggedDocument instead).\n",
            "  if sys.path[0] == '':\n"
          ],
          "name": "stderr"
        }
      ]
    },
    {
      "cell_type": "code",
      "metadata": {
        "id": "7iqqXx7dZw5K",
        "colab_type": "code",
        "colab": {
          "base_uri": "https://localhost:8080/",
          "height": 554
        },
        "outputId": "884730e3-55c3-4ef4-91f0-89b69b4c426d"
      },
      "source": [
        "\n",
        "\n",
        "cores = multiprocessing.cpu_count()\n",
        "model_ug_dbow = Doc2Vec(dm=0, size=1000, negative=5, min_count=2, workers=cores, alpha=0.065, min_alpha=0.065)\n",
        "model_ug_dbow.build_vocab([x for x in tqdm(all_x_w2v)])\n",
        "\n",
        "for epoch in range(30):\n",
        "    model_ug_dbow.train(utils.shuffle([x for x in tqdm(all_x_w2v)]), total_examples=len(all_x_w2v), epochs=1)\n",
        "    model_ug_dbow.alpha -= 0.002\n",
        "    model_ug_dbow.min_alpha = model_ug_dbow.alpha\n",
        "    \n",
        "def get_vectors(model, corpus, size):\n",
        "    vecs = np.zeros((len(corpus), size))\n",
        "    n = 0\n",
        "    for i in corpus.index:\n",
        "        prefix = 'all_' + str(i)\n",
        "        vecs[n] = model.docvecs[prefix]\n",
        "        n += 1\n",
        "    return vecs\n",
        "  \n",
        "train_vecs_dbow = get_vectors(model_ug_dbow, x_train, 1000)\n",
        "validation_vecs_dbow = get_vectors(model_ug_dbow, x_validation, 1000)"
      ],
      "execution_count": 111,
      "outputs": [
        {
          "output_type": "stream",
          "text": [
            "100%|██████████| 1081/1081 [00:00<00:00, 671411.61it/s]\n",
            "100%|██████████| 1081/1081 [00:00<00:00, 282090.63it/s]\n",
            "100%|██████████| 1081/1081 [00:00<00:00, 438707.56it/s]\n",
            "100%|██████████| 1081/1081 [00:00<00:00, 210435.47it/s]\n",
            "100%|██████████| 1081/1081 [00:00<00:00, 1466378.60it/s]\n",
            "100%|██████████| 1081/1081 [00:00<00:00, 1260156.37it/s]\n",
            "100%|██████████| 1081/1081 [00:00<00:00, 1240843.63it/s]\n",
            "100%|██████████| 1081/1081 [00:00<00:00, 213467.17it/s]\n",
            "100%|██████████| 1081/1081 [00:00<00:00, 292010.22it/s]\n",
            "100%|██████████| 1081/1081 [00:00<00:00, 1259806.23it/s]\n",
            "100%|██████████| 1081/1081 [00:00<00:00, 275558.69it/s]\n",
            "100%|██████████| 1081/1081 [00:00<00:00, 249136.91it/s]\n",
            "100%|██████████| 1081/1081 [00:00<00:00, 669330.18it/s]\n",
            "100%|██████████| 1081/1081 [00:00<00:00, 622039.05it/s]\n",
            "100%|██████████| 1081/1081 [00:00<00:00, 128983.92it/s]\n",
            "100%|██████████| 1081/1081 [00:00<00:00, 1351025.81it/s]\n",
            "100%|██████████| 1081/1081 [00:00<00:00, 394401.76it/s]\n",
            "100%|██████████| 1081/1081 [00:00<00:00, 1456486.55it/s]\n",
            "100%|██████████| 1081/1081 [00:00<00:00, 1233753.09it/s]\n",
            "100%|██████████| 1081/1081 [00:00<00:00, 155333.95it/s]\n",
            "100%|██████████| 1081/1081 [00:00<00:00, 1220140.64it/s]\n",
            "100%|██████████| 1081/1081 [00:00<00:00, 536255.78it/s]\n",
            "100%|██████████| 1081/1081 [00:00<00:00, 200001.88it/s]\n",
            "100%|██████████| 1081/1081 [00:00<00:00, 413539.09it/s]\n",
            "100%|██████████| 1081/1081 [00:00<00:00, 1026730.67it/s]\n",
            "100%|██████████| 1081/1081 [00:00<00:00, 293903.07it/s]\n",
            "100%|██████████| 1081/1081 [00:00<00:00, 1311933.63it/s]\n",
            "100%|██████████| 1081/1081 [00:00<00:00, 277685.12it/s]\n",
            "100%|██████████| 1081/1081 [00:00<00:00, 451373.08it/s]\n",
            "100%|██████████| 1081/1081 [00:00<00:00, 450431.42it/s]\n",
            "100%|██████████| 1081/1081 [00:00<00:00, 823323.52it/s]\n"
          ],
          "name": "stderr"
        }
      ]
    },
    {
      "cell_type": "code",
      "metadata": {
        "id": "ZoLr4Upx-7o3",
        "colab_type": "code",
        "colab": {}
      },
      "source": [
        "test_vecs_dbow = get_vectors(model_ug_dbow, x_test, 1000)"
      ],
      "execution_count": 0,
      "outputs": []
    },
    {
      "cell_type": "code",
      "metadata": {
        "id": "fmDsUL2ha3Tf",
        "colab_type": "code",
        "colab": {
          "base_uri": "https://localhost:8080/",
          "height": 554
        },
        "outputId": "51affdcf-653e-4326-b759-fbcb4fa046f7"
      },
      "source": [
        "cores = multiprocessing.cpu_count()\n",
        "model_ug_dmm = Doc2Vec(dm=1, dm_mean=1, size=1000, window=4, negative=5, min_count=2, workers=cores, alpha=0.065, min_alpha=0.065)\n",
        "model_ug_dmm.build_vocab([x for x in tqdm(all_x_w2v)])\n",
        "\n",
        "for epoch in range(30):\n",
        "    model_ug_dmm.train(utils.shuffle([x for x in tqdm(all_x_w2v)]), total_examples=len(all_x_w2v), epochs=1)\n",
        "    model_ug_dmm.alpha -= 0.002\n",
        "    model_ug_dmm.min_alpha = model_ug_dmm.alpha\n",
        "    \n",
        "train_vecs_dmm = get_vectors(model_ug_dmm, x_train, 1000)\n",
        "validation_vecs_dmm = get_vectors(model_ug_dmm, x_validation, 1000)\n",
        "test_vecs_dmm = get_vectors(model_ug_dmm, x_test, 1000)"
      ],
      "execution_count": 113,
      "outputs": [
        {
          "output_type": "stream",
          "text": [
            "100%|██████████| 1081/1081 [00:00<00:00, 558036.02it/s]\n",
            "100%|██████████| 1081/1081 [00:00<00:00, 238885.28it/s]\n",
            "100%|██████████| 1081/1081 [00:00<00:00, 406713.55it/s]\n",
            "100%|██████████| 1081/1081 [00:00<00:00, 404247.74it/s]\n",
            "100%|██████████| 1081/1081 [00:00<00:00, 1468753.68it/s]\n",
            "100%|██████████| 1081/1081 [00:00<00:00, 1007341.17it/s]\n",
            "100%|██████████| 1081/1081 [00:00<00:00, 925503.70it/s]\n",
            "100%|██████████| 1081/1081 [00:00<00:00, 474768.86it/s]\n",
            "100%|██████████| 1081/1081 [00:00<00:00, 163938.34it/s]\n",
            "100%|██████████| 1081/1081 [00:00<00:00, 1249391.74it/s]\n",
            "100%|██████████| 1081/1081 [00:00<00:00, 409135.77it/s]\n",
            "100%|██████████| 1081/1081 [00:00<00:00, 670617.16it/s]\n",
            "100%|██████████| 1081/1081 [00:00<00:00, 577511.48it/s]\n",
            "100%|██████████| 1081/1081 [00:00<00:00, 660361.58it/s]\n",
            "100%|██████████| 1081/1081 [00:00<00:00, 253284.32it/s]\n",
            "100%|██████████| 1081/1081 [00:00<00:00, 627722.92it/s]\n",
            "100%|██████████| 1081/1081 [00:00<00:00, 1352638.01it/s]\n",
            "100%|██████████| 1081/1081 [00:00<00:00, 431361.68it/s]\n",
            "100%|██████████| 1081/1081 [00:00<00:00, 975482.49it/s]\n",
            "100%|██████████| 1081/1081 [00:00<00:00, 185547.66it/s]\n",
            "100%|██████████| 1081/1081 [00:00<00:00, 1193169.11it/s]\n",
            "100%|██████████| 1081/1081 [00:00<00:00, 730943.52it/s]\n",
            "100%|██████████| 1081/1081 [00:00<00:00, 735329.65it/s]\n",
            "100%|██████████| 1081/1081 [00:00<00:00, 212039.59it/s]\n",
            "100%|██████████| 1081/1081 [00:00<00:00, 270237.37it/s]\n",
            "100%|██████████| 1081/1081 [00:00<00:00, 437479.99it/s]\n",
            "100%|██████████| 1081/1081 [00:00<00:00, 205123.17it/s]\n",
            "100%|██████████| 1081/1081 [00:00<00:00, 216329.15it/s]\n",
            "100%|██████████| 1081/1081 [00:00<00:00, 809795.07it/s]\n",
            "100%|██████████| 1081/1081 [00:00<00:00, 433962.73it/s]\n",
            "100%|██████████| 1081/1081 [00:00<00:00, 439814.01it/s]\n"
          ],
          "name": "stderr"
        }
      ]
    },
    {
      "cell_type": "code",
      "metadata": {
        "id": "ZuP8PyO6bQb8",
        "colab_type": "code",
        "colab": {}
      },
      "source": [
        "def get_concat_vectors(model1,model2, corpus, size):\n",
        "    vecs = np.zeros((len(corpus), size))\n",
        "    n = 0\n",
        "    for i in corpus.index:\n",
        "        prefix = 'all_' + str(i)\n",
        "        vecs[n] = np.append(model1.docvecs[prefix],model2.docvecs[prefix])\n",
        "        n += 1\n",
        "    return vecs\n",
        "train_vecs_dbow_dmm = get_concat_vectors(model_ug_dbow,model_ug_dmm, x_train, 2000)\n",
        "validation_vecs_dbow_dmm = get_concat_vectors(model_ug_dbow,model_ug_dmm, x_validation, 2000)\n",
        "test_vecs_dbow_dmm = get_concat_vectors(model_ug_dbow,model_ug_dmm, x_test, 2000)\n"
      ],
      "execution_count": 0,
      "outputs": []
    },
    {
      "cell_type": "code",
      "metadata": {
        "id": "C945p4aZb5Uy",
        "colab_type": "code",
        "colab": {
          "base_uri": "https://localhost:8080/",
          "height": 51
        },
        "outputId": "81a99cfa-2312-40c8-ad45-0342287d5979"
      },
      "source": [
        "from sklearn.linear_model import LogisticRegression\n",
        "clf = LogisticRegression()\n",
        "clf.fit(train_vecs_dbow_dmm, y_train)\n",
        "\n",
        "print clf.score(train_vecs_dbow_dmm, y_train)\n",
        "print clf.score(validation_vecs_dbow_dmm, y_validation)"
      ],
      "execution_count": 115,
      "outputs": [
        {
          "output_type": "stream",
          "text": [
            "1.0\n",
            "0.5333333333333333\n"
          ],
          "name": "stdout"
        }
      ]
    },
    {
      "cell_type": "code",
      "metadata": {
        "id": "q-aZ0rp1ipq4",
        "colab_type": "code",
        "colab": {}
      },
      "source": [
        "from gensim.models.phrases import Phrases\n",
        "from gensim.models.phrases import Phraser\n",
        "tokenized_train = [t.split() for t in x_train]\n",
        "phrases = Phrases(tokenized_train)\n",
        "bigram = Phraser(phrases)\n",
        "tg_phrases = Phrases(bigram[tokenized_train])\n",
        "trigram = Phraser(tg_phrases)\n",
        "def labelize_news_tg(news,label):\n",
        "    result = []\n",
        "    prefix = label\n",
        "    for i, t in zip(news.index, news):\n",
        "        result.append(LabeledSentence(trigram[bigram[t.split()]], [prefix + '_%s' % i]))\n",
        "    return result"
      ],
      "execution_count": 0,
      "outputs": []
    },
    {
      "cell_type": "code",
      "metadata": {
        "id": "qBL6A26Npe_u",
        "colab_type": "code",
        "colab": {
          "base_uri": "https://localhost:8080/",
          "height": 71
        },
        "outputId": "94236b0d-197e-4c8f-a518-77b227f1562c"
      },
      "source": [
        "all_x = pd.concat([x_train,x_validation,x_test])\n",
        "all_x_w2v_tg = labelize_tweets_tg(all_x, 'all')"
      ],
      "execution_count": 117,
      "outputs": [
        {
          "output_type": "stream",
          "text": [
            "/usr/local/lib/python2.7/dist-packages/ipykernel_launcher.py:5: DeprecationWarning: Call to deprecated `LabeledSentence` (Class will be removed in 4.0.0, use TaggedDocument instead).\n",
            "  \"\"\"\n"
          ],
          "name": "stderr"
        }
      ]
    },
    {
      "cell_type": "code",
      "metadata": {
        "id": "p1MBU5d5q9Tv",
        "colab_type": "code",
        "colab": {
          "base_uri": "https://localhost:8080/",
          "height": 34
        },
        "outputId": "95d660ae-5261-4efb-aefa-9b55f382a60f"
      },
      "source": [
        "cores = multiprocessing.cpu_count()\n",
        "model_tg_dmm = Doc2Vec(dm=1, dm_mean=1, size=1000, window=4, negative=5, min_count=2, workers=cores, alpha=0.065, min_alpha=0.065)\n",
        "model_tg_dmm.build_vocab([x for x in tqdm(all_x_w2v_tg)])"
      ],
      "execution_count": 118,
      "outputs": [
        {
          "output_type": "stream",
          "text": [
            "100%|██████████| 1081/1081 [00:00<00:00, 369944.73it/s]\n"
          ],
          "name": "stderr"
        }
      ]
    },
    {
      "cell_type": "code",
      "metadata": {
        "id": "iF_KuZqRrVih",
        "colab_type": "code",
        "colab": {}
      },
      "source": [
        "train_vecs_dmm_tg = get_vectors(model_tg_dmm, x_train, 1000)\n",
        "validation_vecs_dmm_tg = get_vectors(model_tg_dmm, x_validation, 1000)\n",
        "test_vecs_dmm_tg = get_vectors(model_tg_dmm, x_test, 1000)"
      ],
      "execution_count": 0,
      "outputs": []
    },
    {
      "cell_type": "code",
      "metadata": {
        "id": "PWykJPS_sQLn",
        "colab_type": "code",
        "colab": {}
      },
      "source": [
        "model_ug_dbow.delete_temporary_training_data(keep_doctags_vectors=True, keep_inference=True)\n",
        "model_tg_dmm.delete_temporary_training_data(keep_doctags_vectors=True, keep_inference=True)\n",
        "train_vecs_ugdbow_tgdmm = get_concat_vectors(model_ug_dbow,model_tg_dmm, x_train, 2000)\n",
        "validation_vecs_ugdbow_tgdmm = get_concat_vectors(model_ug_dbow,model_tg_dmm, x_validation, 2000)\n",
        "test_vecs_ugdbow_tgdmm = get_concat_vectors(model_ug_dbow,model_tg_dmm, x_test, 2000)"
      ],
      "execution_count": 0,
      "outputs": []
    },
    {
      "cell_type": "code",
      "metadata": {
        "id": "90AvL_jf4Vgr",
        "colab_type": "code",
        "colab": {}
      },
      "source": [
        "train_w2v_final = train_vecs_ugdbow_tgdmm\n",
        "validation_w2v_final = validation_vecs_ugdbow_tgdmm\n",
        "test_w2v_final = test_vecs_ugdbow_tgdmm"
      ],
      "execution_count": 0,
      "outputs": []
    },
    {
      "cell_type": "code",
      "metadata": {
        "id": "ULYBiLQl4eId",
        "colab_type": "code",
        "colab": {
          "base_uri": "https://localhost:8080/",
          "height": 883
        },
        "outputId": "1e8d0cb6-48ef-41de-a5a9-4f393e22a0a9"
      },
      "source": [
        "seed=42\n",
        "from keras.callbacks import ModelCheckpoint, EarlyStopping\n",
        "from keras.models import Sequential\n",
        "from keras.layers import Dense, Dropout\n",
        "from keras.layers import Flatten\n",
        "from keras.layers.embeddings import Embedding\n",
        "from keras.preprocessing import sequence\n",
        "filepath=\"w2v_01_best_weights.{epoch:02d}-{val_acc:.4f}.hdf5\"\n",
        "checkpoint = ModelCheckpoint(filepath, monitor='val_acc', verbose=1, save_best_only=True, mode='max')\n",
        "early_stop = EarlyStopping(monitor='val_acc', patience=5, mode='max') \n",
        "callbacks_list = [checkpoint, early_stop]\n",
        "np.random.seed(seed)\n",
        "model_w2v_01 = Sequential()\n",
        "model_w2v_01.add(Dense(256, activation='relu', input_dim=2000))\n",
        "model_w2v_01.add(Dense(256, activation='relu'))\n",
        "model_w2v_01.add(Dense(256, activation='relu'))\n",
        "model_w2v_01.add(Dense(1, activation='sigmoid'))\n",
        "model_w2v_01.compile(optimizer='adam',\n",
        "              loss='binary_crossentropy',\n",
        "              metrics=['accuracy'])\n",
        "\n",
        "model_w2v_01.fit(train_w2v_final, y_train, validation_data=(validation_w2v_final, y_validation), \n",
        "                 epochs=100, batch_size=32, verbose=2, callbacks=callbacks_list)"
      ],
      "execution_count": 123,
      "outputs": [
        {
          "output_type": "stream",
          "text": [
            "Train on 696 samples, validate on 15 samples\n",
            "Epoch 1/100\n",
            " - 1s - loss: -9.3296e-02 - acc: 0.3362 - val_loss: -4.0484e+00 - val_acc: 0.2000\n",
            "\n",
            "Epoch 00001: val_acc improved from -inf to 0.20000, saving model to w2v_01_best_weights.01-0.2000.hdf5\n",
            "Epoch 2/100\n",
            " - 0s - loss: -2.4473e+00 - acc: 0.3463 - val_loss: -6.4456e+00 - val_acc: 0.3333\n",
            "\n",
            "Epoch 00002: val_acc improved from 0.20000 to 0.33333, saving model to w2v_01_best_weights.02-0.3333.hdf5\n",
            "Epoch 3/100\n",
            " - 0s - loss: -3.9535e+00 - acc: 0.4885 - val_loss: -5.5211e+00 - val_acc: 0.4000\n",
            "\n",
            "Epoch 00003: val_acc improved from 0.33333 to 0.40000, saving model to w2v_01_best_weights.03-0.4000.hdf5\n",
            "Epoch 4/100\n",
            " - 0s - loss: -4.6843e+00 - acc: 0.5546 - val_loss: -5.2184e+00 - val_acc: 0.4000\n",
            "\n",
            "Epoch 00004: val_acc did not improve from 0.40000\n",
            "Epoch 5/100\n",
            " - 0s - loss: -4.8496e+00 - acc: 0.5920 - val_loss: -5.7232e+00 - val_acc: 0.4000\n",
            "\n",
            "Epoch 00005: val_acc did not improve from 0.40000\n",
            "Epoch 6/100\n",
            " - 0s - loss: -4.9612e+00 - acc: 0.6307 - val_loss: -5.9876e+00 - val_acc: 0.4000\n",
            "\n",
            "Epoch 00006: val_acc did not improve from 0.40000\n",
            "Epoch 7/100\n",
            " - 0s - loss: -5.0205e+00 - acc: 0.6466 - val_loss: -6.2044e+00 - val_acc: 0.4667\n",
            "\n",
            "Epoch 00007: val_acc improved from 0.40000 to 0.46667, saving model to w2v_01_best_weights.07-0.4667.hdf5\n",
            "Epoch 8/100\n",
            " - 0s - loss: -5.0624e+00 - acc: 0.6537 - val_loss: -6.0555e+00 - val_acc: 0.3333\n",
            "\n",
            "Epoch 00008: val_acc did not improve from 0.46667\n",
            "Epoch 9/100\n",
            " - 0s - loss: -5.0505e+00 - acc: 0.6523 - val_loss: -5.5515e+00 - val_acc: 0.3333\n",
            "\n",
            "Epoch 00009: val_acc did not improve from 0.46667\n",
            "Epoch 10/100\n",
            " - 0s - loss: -5.0806e+00 - acc: 0.6552 - val_loss: -6.2016e+00 - val_acc: 0.4000\n",
            "\n",
            "Epoch 00010: val_acc did not improve from 0.46667\n",
            "Epoch 11/100\n",
            " - 0s - loss: -5.0995e+00 - acc: 0.6595 - val_loss: -5.9860e+00 - val_acc: 0.3333\n",
            "\n",
            "Epoch 00011: val_acc did not improve from 0.46667\n",
            "Epoch 12/100\n",
            " - 0s - loss: -5.1072e+00 - acc: 0.6595 - val_loss: -6.0921e+00 - val_acc: 0.3333\n",
            "\n",
            "Epoch 00012: val_acc did not improve from 0.46667\n"
          ],
          "name": "stdout"
        },
        {
          "output_type": "execute_result",
          "data": {
            "text/plain": [
              "<keras.callbacks.History at 0x7f434d14b6d0>"
            ]
          },
          "metadata": {
            "tags": []
          },
          "execution_count": 123
        }
      ]
    },
    {
      "cell_type": "code",
      "metadata": {
        "id": "se1aERr75xi4",
        "colab_type": "code",
        "colab": {}
      },
      "source": [
        "from keras.models import load_model\n",
        "loaded_w2v_model = load_model('w2v_01_best_weights.07-0.4667.hdf5')"
      ],
      "execution_count": 0,
      "outputs": []
    },
    {
      "cell_type": "code",
      "metadata": {
        "id": "yrst9GDV-B03",
        "colab_type": "code",
        "colab": {
          "base_uri": "https://localhost:8080/",
          "height": 51
        },
        "outputId": "f007d8fc-6ea6-4211-ecba-709b6f6315bd"
      },
      "source": [
        "loaded_w2v_model.evaluate(x=validation_w2v_final, y=y_validation)"
      ],
      "execution_count": 125,
      "outputs": [
        {
          "output_type": "stream",
          "text": [
            "\r15/15 [==============================] - 0s 13ms/step\n"
          ],
          "name": "stdout"
        },
        {
          "output_type": "execute_result",
          "data": {
            "text/plain": [
              "[-6.20440149307251, 0.46666666865348816]"
            ]
          },
          "metadata": {
            "tags": []
          },
          "execution_count": 125
        }
      ]
    },
    {
      "cell_type": "code",
      "metadata": {
        "id": "aVODdW9c-NbY",
        "colab_type": "code",
        "colab": {
          "base_uri": "https://localhost:8080/",
          "height": 51
        },
        "outputId": "e59a1782-11df-459f-c304-d7c2eb7488e0"
      },
      "source": [
        "loaded_w2v_model.evaluate(x=test_w2v_final, y=y_test)"
      ],
      "execution_count": 128,
      "outputs": [
        {
          "output_type": "stream",
          "text": [
            "370/370 [==============================] - 0s 109us/step\n"
          ],
          "name": "stdout"
        },
        {
          "output_type": "execute_result",
          "data": {
            "text/plain": [
              "[2.9934623460511904, 0.37567567599786295]"
            ]
          },
          "metadata": {
            "tags": []
          },
          "execution_count": 128
        }
      ]
    }
  ]
}