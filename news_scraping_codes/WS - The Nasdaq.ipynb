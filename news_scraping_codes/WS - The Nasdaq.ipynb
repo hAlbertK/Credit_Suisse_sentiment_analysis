{
 "cells": [
  {
   "cell_type": "markdown",
   "metadata": {},
   "source": [
    "# Web Scraping: The Nasdaq"
   ]
  },
  {
   "cell_type": "code",
   "execution_count": 32,
   "metadata": {},
   "outputs": [],
   "source": [
    "from datetime import datetime\n",
    "import numpy as np\n",
    "import pandas as pd\n",
    "\n",
    "\n",
    "from bs4 import BeautifulSoup\n",
    "from selenium import webdriver\n",
    "import time\n",
    "\n",
    "import requests\n",
    "import re\n",
    "\n"
   ]
  },
  {
   "cell_type": "markdown",
   "metadata": {},
   "source": [
    "### Obtain list of news from the coverpage"
   ]
  },
  {
   "cell_type": "markdown",
   "metadata": {},
   "source": [
    "URL definition:"
   ]
  },
  {
   "cell_type": "code",
   "execution_count": 33,
   "metadata": {},
   "outputs": [],
   "source": [
    "# url definition\n",
    "url = \"https://www.nasdaq.com/news-and-insights\""
   ]
  },
  {
   "cell_type": "markdown",
   "metadata": {},
   "source": [
    "List of news:"
   ]
  },
  {
   "cell_type": "code",
   "execution_count": 34,
   "metadata": {},
   "outputs": [
    {
     "name": "stdout",
     "output_type": "stream",
     "text": [
      "200\n"
     ]
    },
    {
     "data": {
      "text/plain": [
       "32"
      ]
     },
     "execution_count": 34,
     "metadata": {},
     "output_type": "execute_result"
    }
   ],
   "source": [
    "# Request\n",
    "r1 = requests.get(url)\n",
    "print(r1.status_code)\n",
    "\n",
    "# We'll save in coverpage the cover page content\n",
    "coverpage = r1.content\n",
    "\n",
    "# Soup creation\n",
    "soup1 = BeautifulSoup(coverpage, 'html5lib')\n",
    "\n",
    "# News identification\n",
    "coverpage_news = soup1.find_all('a', class_='topic-mini-feed__related-item__link')\n",
    "len(coverpage_news)"
   ]
  },
  {
   "cell_type": "markdown",
   "metadata": {},
   "source": [
    "Now we have a list in which every element is a news article:"
   ]
  },
  {
   "cell_type": "code",
   "execution_count": 35,
   "metadata": {},
   "outputs": [
    {
     "data": {
      "text/plain": [
       "<a alt=\"Soccer-Late goal saves Gremio in Libertadores semis v Flamengo\" aria-label=\"Soccer-Late goal saves Gremio in Libertadores semis v Flamengo\" class=\"topic-mini-feed__related-item__link\" href=\"/articles/soccer-late-goal-saves-gremio-in-libertadores-semis-v-flamengo-2019-10-02\">\n",
       "  <p class=\"topic-mini-feed__related-item__title\">Soccer-Late goal saves Gremio in Libertadores semis v Flamengo</p>\n",
       "</a>"
      ]
     },
     "execution_count": 35,
     "metadata": {},
     "output_type": "execute_result"
    }
   ],
   "source": [
    "coverpage_news[0]"
   ]
  },
  {
   "cell_type": "code",
   "execution_count": 36,
   "metadata": {},
   "outputs": [],
   "source": [
    "n=0\n",
    "link = coverpage_news[n]['href']\n",
    "title = coverpage_news[n].get_text()\n",
    "article = requests.get(url+link)\n",
    "article_content = article.content\n",
    "soup_article = BeautifulSoup(article_content, 'html5lib')\n",
    "\n"
   ]
  },
  {
   "cell_type": "code",
   "execution_count": 37,
   "metadata": {},
   "outputs": [
    {
     "data": {
      "text/plain": [
       "'\\n  Soccer-Late goal saves Gremio in Libertadores semis v Flamengo\\n'"
      ]
     },
     "execution_count": 37,
     "metadata": {},
     "output_type": "execute_result"
    }
   ],
   "source": [
    "title"
   ]
  },
  {
   "cell_type": "code",
   "execution_count": 38,
   "metadata": {},
   "outputs": [],
   "source": [
    "body = soup_article.find_all('p')"
   ]
  },
  {
   "cell_type": "code",
   "execution_count": 39,
   "metadata": {},
   "outputs": [
    {
     "data": {
      "text/plain": [
       "[<p class=\"news-insights__subhead\">While looking at a biotech might seem counter-intuitive, it makes sense in this context.</p>,\n",
       " <p class=\"topic-mini-feed__related-item__title\">Soccer-Late goal saves Gremio in Libertadores semis v Flamengo</p>,\n",
       " <p class=\"topic-mini-feed__related-item__title\">Rugby-Mako Vunipola returns on the bench for England's Argentina clash</p>,\n",
       " <p class=\"topic-mini-feed__related-item__title\">U.S. committee seeks to interview Boeing engineer on safety of 737 MAX</p>,\n",
       " <p class=\"topic-mini-feed__related-item__title\">U.S. committee seeks to interview Boeing engineer on safety of 737 MAX</p>,\n",
       " <p class=\"topic-mini-feed__related-item__title\">Japan services activity grows at slightly slower pace in Sept - PMI</p>,\n",
       " <p class=\"topic-mini-feed__related-item__title\">PREVIEW-India cenbank set to cut rates again as fiscal measures fail to cheer</p>,\n",
       " <p class=\"topic-mini-feed__related-item__title\">Argentine economists forecast deeper recession, hold inflation steady</p>,\n",
       " <p class=\"topic-mini-feed__related-item__title\">ServiceNow (NOW) Stock Moves -1.31%: What You Should Know</p>,\n",
       " <p class=\"topic-mini-feed__related-item__title\">Will Costco (COST) Continue Its Run with Strong Q4 Earnings? </p>,\n",
       " <p class=\"topic-mini-feed__related-item__title\">Will Q3 Earnings Finish Negative This Year?</p>,\n",
       " <p class=\"topic-mini-feed__related-item__title\">Technology Sector Update for 10/02/2019: AYI,VHC,AAPL,ORCL</p>,\n",
       " <p class=\"topic-mini-feed__related-item__title\">How to Double Your Stock Returns for the Rest of 2019</p>,\n",
       " <p class=\"topic-mini-feed__related-item__title\">S.Korea confirms 13th case of African swine fever</p>,\n",
       " <p class=\"topic-mini-feed__related-item__title\">U.S. orders speedy checks for cracks on 165 Boeing 737 NG planes</p>,\n",
       " <p class=\"topic-mini-feed__related-item__title\">U.S. Set to Quickly Widen Trade War With EU Tariffs After WTO Ruling: Sources</p>,\n",
       " <p class=\"topic-mini-feed__related-item__title\">U.S. Set to Quickly Widen Trade War With EU Tariffs After WTO Ruling: Sources</p>,\n",
       " <p class=\"topic-mini-feed__related-item__title\">How Much Does the MOC Imbalance Matter?</p>,\n",
       " <p class=\"topic-mini-feed__related-item__title\">Looking for the Perfect Stock Price</p>,\n",
       " <p class=\"topic-mini-feed__related-item__title\">3 Compelling Reasons for Companies to Split Stocks</p>,\n",
       " <p class=\"topic-mini-feed__related-item__title\">Fact-Checking the Data Debate</p>,\n",
       " <p class=\"topic-mini-feed__related-item__title\">In Risky Environment For Stocks, Diversifying Risk is One Possible Solution</p>,\n",
       " <p class=\"topic-mini-feed__related-item__title\">Should Investors Trust History or Logic as Q4 Begins?</p>,\n",
       " <p class=\"topic-mini-feed__related-item__title\">What The Technical Analysis of Stocks Tells Us To Expect This Week</p>,\n",
       " <p class=\"topic-mini-feed__related-item__title\">Wells Fargo (WFC) Looks Like A Buy Now They Have A New CEO</p>,\n",
       " <p class=\"topic-mini-feed__related-item__title\">PepsiCo (PEP) 3rd Quarter Earnings: What to Expect</p>,\n",
       " <p class=\"topic-mini-feed__related-item__title\">Stitch Fix (SFIX) 4th Quarter Earnings: What to Expect</p>,\n",
       " <p class=\"topic-mini-feed__related-item__title\">Assessing BlackBerry (BB) Stock Post-Earnings</p>,\n",
       " <p class=\"topic-mini-feed__related-item__title\">Weekly Market Preview: Three Stocks To Watch For the Coming Week (COST, PEP, SFI…</p>,\n",
       " <p class=\"topic-mini-feed__related-item__title\">Stocks Fall Sharply on Growth Concerns</p>,\n",
       " <p class=\"topic-mini-feed__related-item__title\">Stocks Slip on Disappointing Manufacturing Data</p>,\n",
       " <p class=\"topic-mini-feed__related-item__title\">Stocks Rise, On Track to End September Higher</p>,\n",
       " <p class=\"topic-mini-feed__related-item__title\">Stocks Slip Following Report U.S. Is Considering Limiting Investment in China</p>,\n",
       " <p class=\"content-grid__card-subhead\">Advanced technologies such as AI and Machine Learning are helping investors turn insight into action. Here's how.  </p>,\n",
       " <p class=\"content-grid__card-subhead\">With more than half of the world’s market cap outside the U.S., investors would be wise to make sure their portfolio reflects this reality.<br/>\n",
       " </p>,\n",
       " <p class=\"content-grid__card-subhead\">Becoming a sophisticated investor doesn’t happen overnight. It requires time, continuous learning and the right tools.</p>,\n",
       " <p class=\"insights-5-up__title\">\n",
       "                   <a href=\"/articles/nasdaq-and-cbe-come-together-to-advance-governance-excellence-2019-10-01\">                    Nasdaq and CBE Come Together to Advance Governance Excellence\n",
       "                   </a>                </p>,\n",
       " <p class=\"insights-5-up__title\">\n",
       "                   <a href=\"/articles/what-sets-nasdaq-100-companies-apart-2019-09-26\">                    What Sets Nasdaq-100 Companies Apart?\n",
       "                   </a>                </p>,\n",
       " <p class=\"insights-5-up__title\">\n",
       "                   <a href=\"/articles/will-adhering-to-climate-risk-disclosures-make-an-impact-on-financial-markets-2019-09-27\">                    Will Adhering to Climate Risk Disclosures Make an Impact on Financial Markets?\n",
       "                   </a>                </p>,\n",
       " <p class=\"insights-5-up__title\">\n",
       "                   <a href=\"/articles/peloton-powers-forward-with-nasdaq-ipo-2019-09-26\">                    Peloton Powers Forward with Nasdaq IPO\n",
       "                   </a>                </p>,\n",
       " <p class=\"insights-5-up__title\">\n",
       "                   <a href=\"/articles/nasdaq-decodes%3A-insiders-view-to-global-regulatory-trends-2019-09-30\">                    Nasdaq Decodes: Insiders View to Global Regulatory Trends\n",
       "                   </a>                </p>,\n",
       " <p><style>\n",
       " <!--/*--><![CDATA[/* ><!--*/\n",
       " \n",
       " <!--/*--><![CDATA[/* ><!--*/\n",
       " #block-survival-2 { display: none; } .symbol-ticker--large-symbol.symbol-ticker--down .symbol-ticker__symbol-data .symbol-ticker__arrow::before { color: #fd6e70; -webkit-transform: scaleY(-1) rotate(180deg); transform: scaleY(-1) rotate(180deg); } .path-frontpage.page-node-type-homepage .header-group { margin-bottom: -10rem; padding-top: 5rem; } .primary-nav__links[aria-hidden=\"true\"] { pointer-events: none; } .primary-nav__mega[aria-hidden=\"true\"] { pointer-events: none; } div.predictWallStreetDiv { display:none; }<style>\n",
       " /*--><!]]]]><![CDATA[>*/\n",
       " \n",
       " /*--><!]]>*/\n",
       " </style></p>,\n",
       " <p class=\"field-p\"><input id=\"field0\" name=\"hiddenField3\" type=\"hidden\" value=\"1783\"/></p>,\n",
       " <p class=\"field-p\"><label class=\"label-position top\" for=\"field1\">Email Address<span class=\"required\">*</span></label><input class=\"field-size-top-large\" id=\"field1\" name=\"emailAddress\" type=\"text\" value=\"\"/></p>,\n",
       " <p class=\"field-p\"><label class=\"label-position top\" for=\"field2\">Country<span class=\"required\">*</span></label><select class=\"field-size-top-large\" data-value=\"\" id=\"field2\" name=\"country\"><option value=\"\">Please select…</option><option value=\"United States\">United States</option><option value=\"Afghanistan\">Afghanistan</option><option value=\"Åland Islands\">Åland Islands</option><option value=\"Albania\">Albania</option><option value=\"Algeria\">Algeria</option><option value=\"American Samoa\">American Samoa</option><option value=\"Andorra\">Andorra</option><option value=\"Angola\">Angola</option><option value=\"Anguilla\">Anguilla</option><option value=\"Antarctica\">Antarctica</option><option value=\"Antigua and Barbuda\">Antigua and Barbuda</option><option value=\"Argentina\">Argentina</option><option value=\"Armenia\">Armenia</option><option value=\"Aruba\">Aruba</option><option value=\"Australia\">Australia</option><option value=\"Austria\">Austria</option><option value=\"Azerbaijan\">Azerbaijan</option><option value=\"Bahamas\">Bahamas</option><option value=\"Bahrain\">Bahrain</option><option value=\"Bangladesh\">Bangladesh</option><option value=\"Barbados\">Barbados</option><option value=\"Belarus\">Belarus</option><option value=\"Belgium\">Belgium</option><option value=\"Belize\">Belize</option><option value=\"Benin\">Benin</option><option value=\"Bermuda\">Bermuda</option><option value=\"Bhutan\">Bhutan</option><option value=\"Bolivia, Plurinational State of\">Bolivia, Plurinational State of</option><option value=\"Bonaire, Sint Eustatius and Saba\">Bonaire, Sint Eustatius and Saba</option><option value=\"Bosnia and Herzegovina\">Bosnia and Herzegovina</option><option value=\"Botswana\">Botswana</option><option value=\"Bouvet Island\">Bouvet Island</option><option value=\"Brazil\">Brazil</option><option value=\"British Indian Ocean Territory\">British Indian Ocean Territory</option><option value=\"Brunei Darussalam\">Brunei Darussalam</option><option value=\"Bulgaria\">Bulgaria</option><option value=\"Burkina Faso\">Burkina Faso</option><option value=\"Burundi\">Burundi</option><option value=\"Cambodia\">Cambodia</option><option value=\"Cameroon\">Cameroon</option><option value=\"Canada\">Canada</option><option value=\"Cape Verde\">Cape Verde</option><option value=\"Cayman Islands\">Cayman Islands</option><option value=\"Central African Republic\">Central African Republic</option><option value=\"Chad\">Chad</option><option value=\"Chile\">Chile</option><option value=\"China\">China</option><option value=\"Christmas Island\">Christmas Island</option><option value=\"Cocos (Keeling) Islands\">Cocos (Keeling) Islands</option><option value=\"Colombia\">Colombia</option><option value=\"Comoros\">Comoros</option><option value=\"Congo\">Congo</option><option value=\"Congo, the Democratic Republic of the\">Congo, the Democratic Republic of the</option><option value=\"Cook Islands\">Cook Islands</option><option value=\"Costa Rica\">Costa Rica</option><option value=\"Côte d'Ivoire\">Côte d'Ivoire</option><option value=\"Croatia\">Croatia</option><option value=\"Cuba\">Cuba</option><option value=\"Curaçao\">Curaçao</option><option value=\"Cyprus\">Cyprus</option><option value=\"Czech Republic\">Czech Republic</option><option value=\"Denmark\">Denmark</option><option value=\"Djibouti\">Djibouti</option><option value=\"Dominica\">Dominica</option><option value=\"Dominican Republic\">Dominican Republic</option><option value=\"Ecuador\">Ecuador</option><option value=\"Egypt\">Egypt</option><option value=\"El Salvador\">El Salvador</option><option value=\"Equatorial Guinea\">Equatorial Guinea</option><option value=\"Eritrea\">Eritrea</option><option value=\"Estonia\">Estonia</option><option value=\"Ethiopia\">Ethiopia</option><option value=\"Falkland Islands (Malvinas)\">Falkland Islands (Malvinas)</option><option value=\"Faroe Islands\">Faroe Islands</option><option value=\"Fiji\">Fiji</option><option value=\"Finland\">Finland</option><option value=\"France\">France</option><option value=\"French Guiana\">French Guiana</option><option value=\"French Polynesia\">French Polynesia</option><option value=\"French Southern Territories\">French Southern Territories</option><option value=\"Gabon\">Gabon</option><option value=\"Gambia\">Gambia</option><option value=\"Georgia\">Georgia</option><option value=\"Germany\">Germany</option><option value=\"Ghana\">Ghana</option><option value=\"Gibraltar\">Gibraltar</option><option value=\"Greece\">Greece</option><option value=\"Greenland\">Greenland</option><option value=\"Grenada\">Grenada</option><option value=\"Guadeloupe\">Guadeloupe</option><option value=\"Guam\">Guam</option><option value=\"Guatemala\">Guatemala</option><option value=\"Guernsey\">Guernsey</option><option value=\"Guinea\">Guinea</option><option value=\"Guinea-Bissau\">Guinea-Bissau</option><option value=\"Guyana\">Guyana</option><option value=\"Haiti\">Haiti</option><option value=\"Heard Island and McDonald Islands\">Heard Island and McDonald Islands</option><option value=\"Holy See (Vatican City State)\">Holy See (Vatican City State)</option><option value=\"Honduras\">Honduras</option><option value=\"Hong Kong\">Hong Kong</option><option value=\"Hungary\">Hungary</option><option value=\"Iceland\">Iceland</option><option value=\"India\">India</option><option value=\"Indonesia\">Indonesia</option><option value=\"Iran, Islamic Republic of\">Iran, Islamic Republic of</option><option value=\"Iraq\">Iraq</option><option value=\"Ireland\">Ireland</option><option value=\"Isle of Man\">Isle of Man</option><option value=\"Israel\">Israel</option><option value=\"Italy\">Italy</option><option value=\"Jamaica\">Jamaica</option><option value=\"Japan\">Japan</option><option value=\"Jersey\">Jersey</option><option value=\"Jordan\">Jordan</option><option value=\"Kazakhstan\">Kazakhstan</option><option value=\"Kenya\">Kenya</option><option value=\"Kiribati\">Kiribati</option><option value=\"Korea, Democratic People's Republic of\">Korea, Democratic People's Republic of</option><option value=\"Korea, Republic of\">Korea, Republic of</option><option value=\"Kuwait\">Kuwait</option><option value=\"Kyrgyzstan\">Kyrgyzstan</option><option value=\"Lao People's Democratic Republic\">Lao People's Democratic Republic</option><option value=\"Latvia\">Latvia</option><option value=\"Lebanon\">Lebanon</option><option value=\"Lesotho\">Lesotho</option><option value=\"Liberia\">Liberia</option><option value=\"Libyan Arab Jamahiriya\">Libyan Arab Jamahiriya</option><option value=\"Liechtenstein\">Liechtenstein</option><option value=\"Lithuania\">Lithuania</option><option value=\"Luxembourg\">Luxembourg</option><option value=\"Macao\">Macao</option><option value=\"Macedonia, the former Yugoslav Republic of\">Macedonia, the former Yugoslav Republic of</option><option value=\"Madagascar\">Madagascar</option><option value=\"Malawi\">Malawi</option><option value=\"Malaysia\">Malaysia</option><option value=\"Maldives\">Maldives</option><option value=\"Mali\">Mali</option><option value=\"Malta\">Malta</option><option value=\"Marshall Islands\">Marshall Islands</option><option value=\"Martinique\">Martinique</option><option value=\"Mauritania\">Mauritania</option><option value=\"Mauritius\">Mauritius</option><option value=\"Mayotte\">Mayotte</option><option value=\"Mexico\">Mexico</option><option value=\"Micronesia, Federated States of\">Micronesia, Federated States of</option><option value=\"Moldova, Republic of\">Moldova, Republic of</option><option value=\"Monaco\">Monaco</option><option value=\"Mongolia\">Mongolia</option><option value=\"Montenegro\">Montenegro</option><option value=\"Montserrat\">Montserrat</option><option value=\"Morocco\">Morocco</option><option value=\"Mozambique\">Mozambique</option><option value=\"Myanmar\">Myanmar</option><option value=\"Namibia\">Namibia</option><option value=\"Nauru\">Nauru</option><option value=\"Nepal\">Nepal</option><option value=\"Netherlands\">Netherlands</option><option value=\"New Caledonia\">New Caledonia</option><option value=\"New Zealand\">New Zealand</option><option value=\"Nicaragua\">Nicaragua</option><option value=\"Niger\">Niger</option><option value=\"Nigeria\">Nigeria</option><option value=\"Niue\">Niue</option><option value=\"Norfolk Island\">Norfolk Island</option><option value=\"Northern Mariana Islands\">Northern Mariana Islands</option><option value=\"Norway\">Norway</option><option value=\"Oman\">Oman</option><option value=\"Pakistan\">Pakistan</option><option value=\"Palau\">Palau</option><option value=\"Palestinian Territory, Occupied\">Palestinian Territory, Occupied</option><option value=\"Panama\">Panama</option><option value=\"Papua New Guinea\">Papua New Guinea</option><option value=\"Paraguay\">Paraguay</option><option value=\"Peru\">Peru</option><option value=\"Philippines\">Philippines</option><option value=\"Pitcairn\">Pitcairn</option><option value=\"Poland\">Poland</option><option value=\"Portugal\">Portugal</option><option value=\"Puerto Rico\">Puerto Rico</option><option value=\"Qatar\">Qatar</option><option value=\"Reunion\">Reunion</option><option value=\"Romania\">Romania</option><option value=\"Russian Federation\">Russian Federation</option><option value=\"Rwanda\">Rwanda</option><option value=\"Saint Barthélemy\">Saint Barthélemy</option><option value=\"Saint Helena, Ascension and Tristan da Cunha\">Saint Helena, Ascension and Tristan da Cunha</option><option value=\"Saint Kitts and Nevis\">Saint Kitts and Nevis</option><option value=\"Saint Lucia\">Saint Lucia</option><option value=\"Saint Martin (French part)\">Saint Martin (French part)</option><option value=\"Saint Pierre and Miquelon\">Saint Pierre and Miquelon</option><option value=\"Saint Vincent and the Grenadines\">Saint Vincent and the Grenadines</option><option value=\"Samoa\">Samoa</option><option value=\"San Marino\">San Marino</option><option value=\"Sao Tome and Principe\">Sao Tome and Principe</option><option value=\"Saudi Arabia\">Saudi Arabia</option><option value=\"Senegal\">Senegal</option><option value=\"Serbia\">Serbia</option><option value=\"Seychelles\">Seychelles</option><option value=\"Sierra Leone\">Sierra Leone</option><option value=\"Singapore\">Singapore</option><option value=\"Sint Maarten (Dutch part)\">Sint Maarten (Dutch part)</option><option value=\"Slovakia\">Slovakia</option><option value=\"Slovenia\">Slovenia</option><option value=\"Solomon Islands\">Solomon Islands</option><option value=\"Somalia\">Somalia</option><option value=\"South Africa\">South Africa</option><option value=\"South Georgia and the South Sandwich Islands\">South Georgia and the South Sandwich Islands</option><option value=\"South Sudan\">South Sudan</option><option value=\"Spain\">Spain</option><option value=\"Sri Lanka\">Sri Lanka</option><option value=\"Sudan\">Sudan</option><option value=\"Suriname\">Suriname</option><option value=\"Svalbard and Jan Mayen\">Svalbard and Jan Mayen</option><option value=\"Swaziland\">Swaziland</option><option value=\"Sweden\">Sweden</option><option value=\"Switzerland\">Switzerland</option><option value=\"Syrian Arab Republic\">Syrian Arab Republic</option><option value=\"Taiwan\">Taiwan</option><option value=\"Tajikistan\">Tajikistan</option><option value=\"Tanzania, United Republic of\">Tanzania, United Republic of</option><option value=\"Thailand\">Thailand</option><option value=\"Timor-Leste\">Timor-Leste</option><option value=\"Togo\">Togo</option><option value=\"Tokelau\">Tokelau</option><option value=\"Tonga\">Tonga</option><option value=\"Trinidad and Tobago\">Trinidad and Tobago</option><option value=\"Tunisia\">Tunisia</option><option value=\"Turkey\">Turkey</option><option value=\"Turkmenistan\">Turkmenistan</option><option value=\"Turks and Caicos Islands\">Turks and Caicos Islands</option><option value=\"Tuvalu\">Tuvalu</option><option value=\"Uganda\">Uganda</option><option value=\"Ukraine\">Ukraine</option><option value=\"United Arab Emirates\">United Arab Emirates</option><option value=\"United Kingdom\">United Kingdom</option><option value=\"United States Minor Outlying Islands\">United States Minor Outlying Islands</option><option value=\"Uruguay\">Uruguay</option><option value=\"Uzbekistan\">Uzbekistan</option><option value=\"Vanuatu\">Vanuatu</option><option value=\"Venezuela, Bolivarian Republic of\">Venezuela, Bolivarian Republic of</option><option value=\"Viet Nam\">Viet Nam</option><option value=\"Virgin Islands (British)\">Virgin Islands (British)</option><option value=\"Virgin Islands, U.S.\">Virgin Islands, U.S.</option><option value=\"Wallis and Futuna\">Wallis and Futuna</option><option value=\"Western Sahara\">Western Sahara</option><option value=\"Yemen\">Yemen</option><option value=\"Zambia\">Zambia</option><option value=\"Zimbabwe\">Zimbabwe</option><option value=\"--------------\"></option></select></p>,\n",
       " <p class=\"field-p\"><span class=\"checkbox-span field-size-top-large\"><span class=\"list-order oneColumn\"><input name=\"elq_optin\" type=\"checkbox\" value=\"on\"/><label class=\"checkbox-label\">Yes!  I would like to receive Nasdaq communications related to Products, Industry News and Events.</label></span></span><label class=\"instructions default other\">You can always change your preferences or unsubscribe and your contact information is covered by our Privacy Policy.</label></p>,\n",
       " <p class=\"field-p\"><input id=\"field5\" name=\"productFamily\" type=\"hidden\" value=\"\"/></p>,\n",
       " <p class=\"field-p\"><input id=\"field6\" name=\"hiddenField\" type=\"hidden\" value=\"\"/></p>,\n",
       " <p class=\"field-p\"><input id=\"field7\" name=\"SFDCCampaignid\" type=\"hidden\" value=\"\"/></p>,\n",
       " <p class=\"field-p\"><input id=\"field8\" name=\"sourcemostrecent\" type=\"hidden\" value=\"\"/></p>,\n",
       " <p class=\"field-p\"><input id=\"field9\" name=\"channelmostrecent\" type=\"hidden\" value=\"\"/></p>,\n",
       " <p class=\"field-p\"><input id=\"field10\" name=\"offermostrecent\" type=\"hidden\" value=\"\"/></p>,\n",
       " <p class=\"field-p\"><label class=\"label-position top\" for=\"field11\">elq_hp<span class=\"required\">*</span></label><input class=\"field-size-top-large\" id=\"field11\" name=\"elq_hp\" type=\"text\" value=\"\"/></p>,\n",
       " <p class=\"field-p\"><input id=\"field12\" name=\"ppc-campaignid\" type=\"hidden\" value=\"\"/></p>,\n",
       " <p class=\"field-p\"><input id=\"field13\" name=\"gclid\" type=\"hidden\" value=\"\"/></p>,\n",
       " <p class=\"field-p\"><input id=\"field14\" name=\"hiddenField2\" type=\"hidden\" value=\"Market Maker Newsletter Sign up\"/></p>,\n",
       " <p class=\"field-p\"><input class=\"submit-button\" style=\"font-size: 100%; height: 24px; width: 100px\" type=\"submit\" value=\"Submit\"/></p>,\n",
       " <p class=\"footer__legal\">© 2019, Nasdaq, Inc. All Rights Reserved.</p>,\n",
       " <p class=\"watchlist__slide-price\"></p>,\n",
       " <p class=\"watchlist__slide-change-container\">\n",
       "                   <span class=\"watchlist__slide-change\"></span>\n",
       "                   <span class=\"watchlist__slide-change-percent\"></span>\n",
       "                 </p>,\n",
       " <p><a class=\"watchlist__slide-link\">\n",
       "               </a>\n",
       "               </p>]"
      ]
     },
     "execution_count": 39,
     "metadata": {},
     "output_type": "execute_result"
    }
   ],
   "source": [
    "body"
   ]
  },
  {
   "cell_type": "code",
   "execution_count": 40,
   "metadata": {},
   "outputs": [
    {
     "data": {
      "text/plain": [
       "61"
      ]
     },
     "execution_count": 40,
     "metadata": {},
     "output_type": "execute_result"
    }
   ],
   "source": [
    "len(body)"
   ]
  },
  {
   "cell_type": "code",
   "execution_count": 41,
   "metadata": {},
   "outputs": [],
   "source": [
    "x = soup_article.find_all('p')"
   ]
  },
  {
   "cell_type": "code",
   "execution_count": 42,
   "metadata": {},
   "outputs": [
    {
     "data": {
      "text/plain": [
       "61"
      ]
     },
     "execution_count": 42,
     "metadata": {},
     "output_type": "execute_result"
    }
   ],
   "source": [
    "len(x)"
   ]
  },
  {
   "cell_type": "code",
   "execution_count": 43,
   "metadata": {},
   "outputs": [
    {
     "data": {
      "text/plain": [
       "'While looking at a biotech might seem counter-intuitive, it makes sense in this context.'"
      ]
     },
     "execution_count": 43,
     "metadata": {},
     "output_type": "execute_result"
    }
   ],
   "source": [
    "x[0].get_text()"
   ]
  },
  {
   "cell_type": "code",
   "execution_count": 44,
   "metadata": {},
   "outputs": [],
   "source": [
    "# options = webdriver.ChromeOptions() \n",
    "# options.add_experimental_option(\"excludeSwitches\", ['enable-automation'])\n",
    "# def Article(url):\n",
    "#     browser = webdriver.Chrome(chrome_options=options, executable_path=r\"/usr/bin/chromedriver\")\n",
    "#     browser.get(url)\n",
    "#     time.sleep(5) # wait for the page to load javascript\n",
    "#     pageSource = browser.page_source\n",
    "#     browser.quit()\n",
    "#     return pageSource"
   ]
  },
  {
   "cell_type": "markdown",
   "metadata": {},
   "source": [
    "### Let's extract the text from the articles:"
   ]
  },
  {
   "cell_type": "markdown",
   "metadata": {},
   "source": [
    "First, we'll define the number of articles we want:"
   ]
  },
  {
   "cell_type": "code",
   "execution_count": 45,
   "metadata": {},
   "outputs": [],
   "source": [
    "number_of_articles = len(coverpage_news)-1\n",
    "now = datetime.now()"
   ]
  },
  {
   "cell_type": "code",
   "execution_count": 47,
   "metadata": {},
   "outputs": [
    {
     "name": "stdout",
     "output_type": "stream",
     "text": [
      "/articles/soccer-late-goal-saves-gremio-in-libertadores-semis-v-flamengo-2019-10-02\n",
      "[]\n",
      "/articles/rugby-mako-vunipola-returns-on-the-bench-for-englands-argentina-clash-2019-10-02\n",
      "[]\n",
      "/articles/u.s.-committee-seeks-to-interview-boeing-engineer-on-safety-of-737-max-2019-10-02\n",
      "[]\n",
      "/articles/u.s.-committee-seeks-to-interview-boeing-engineer-on-safety-of-737-max-2019-10-02\n",
      "[]\n",
      "/articles/japan-services-activity-grows-at-slightly-slower-pace-in-sept-pmi-2019-10-02\n",
      "[]\n",
      "/articles/preview-india-cenbank-set-to-cut-rates-again-as-fiscal-measures-fail-to-cheer-2019-10-02-0\n",
      "[]\n",
      "/articles/argentine-economists-forecast-deeper-recession-hold-inflation-steady-2019-10-02\n",
      "[]\n",
      "/articles/servicenow-now-stock-moves-1.31%3A-what-you-should-know-2019-10-02\n",
      "[]\n",
      "/articles/will-costco-cost-continue-its-run-with-strong-q4-earnings-2019-10-02\n",
      "[]\n",
      "/articles/will-q3-earnings-finish-negative-this-year-2019-10-02\n",
      "[]\n",
      "/articles/technology-sector-update-for-10-02-2019%3A-ayivhcaaplorcl-2019-10-02-0\n",
      "[]\n",
      "/articles/how-to-double-your-stock-returns-for-the-rest-of-2019-2019-10-02\n",
      "[]\n",
      "/articles/s.korea-confirms-13th-case-of-african-swine-fever-2019-10-02\n",
      "[]\n",
      "/articles/u.s.-orders-speedy-checks-for-cracks-on-165-boeing-737-ng-planes-2019-10-02-0\n",
      "[]\n",
      "/articles/u.s.-set-to-quickly-widen-trade-war-with-eu-tariffs-after-wto-ruling-sources-2019-10-02\n",
      "[]\n",
      "/articles/u.s.-set-to-quickly-widen-trade-war-with-eu-tariffs-after-wto-ruling-sources-2019-10-02\n",
      "[]\n",
      "/articles/how-much-does-the-moc-imbalance-matter-2019-09-27\n",
      "[]\n",
      "/articles/looking-for-the-perfect-stock-price-2019-09-19\n",
      "[]\n",
      "/articles/3-compelling-reasons-for-companies-to-split-stocks-2019-09-12\n",
      "[]\n",
      "/articles/fact-checking-the-data-debate-2019-09-05\n",
      "[]\n",
      "/articles/in-risky-environment-for-stocks-diversifying-risk-is-one-possible-solution-2019-10-02\n",
      "[]\n",
      "/articles/should-investors-trust-history-or-logic-as-q4-begins-2019-10-01\n",
      "[]\n",
      "/articles/what-the-technical-analysis-of-stocks-tells-us-to-expect-this-week-2019-09-30\n",
      "[]\n",
      "/articles/wells-fargo-wfc-looks-like-a-buy-now-they-have-a-new-ceo-2019-09-27\n",
      "[]\n",
      "/articles/pepsico-pep-3rd-quarter-earnings%3A-what-to-expect-2019-10-02\n",
      "[]\n",
      "/articles/stitch-fix-sfix-4th-quarter-earnings%3A-what-to-expect-2019-10-01\n",
      "[]\n",
      "/articles/assessing-blackberry-bb-stock-post-earnings-2019-09-30\n",
      "[]\n",
      "/articles/weekly-market-preview%3A-three-stocks-to-watch-for-the-coming-week-cost-pep-sfix-2019-09-29\n",
      "[]\n",
      "/articles/stocks-fall-sharply-on-growth-concerns-2019-10-02\n",
      "[]\n",
      "/articles/stocks-slip-on-disappointing-manufacturing-data-2019-10-01\n",
      "[]\n",
      "/articles/stocks-rise-on-track-to-end-september-higher-2019-09-30\n",
      "[]\n"
     ]
    }
   ],
   "source": [
    "# Empty lists for content, links and titles\n",
    "news_contents = []\n",
    "list_links = []\n",
    "list_titles = []\n",
    "scrapedTime=[]\n",
    "postedDate=[]\n",
    "for n in np.arange(0, number_of_articles):\n",
    "        \n",
    "    # Getting the link of the article\n",
    "    link = coverpage_news[n]['href']\n",
    "    print (link)\n",
    "    list_links.append(link)\n",
    "    posteddate=re.findall(r'/(\\d{4})/(\\d{1,2})/(\\d{1,2})/', link)\n",
    "    #posteddate=str(posteddate)\n",
    "    if posteddate:\n",
    "        posteddate=','.join(posteddate[0]) \n",
    "        posteddate=posteddate.replace(',','/')\n",
    "    print (posteddate)\n",
    "    postedDate.append(posteddate)\n",
    "    \n",
    "    # Getting the title\n",
    "    title = coverpage_news[n].get_text()\n",
    "    list_titles.append(title)\n",
    "    \n",
    "    \n",
    "    # Reading the content (it is divided in paragraphs)\n",
    "    article = requests.get(url+link)\n",
    "    article_content = article.content\n",
    "    soup_article = BeautifulSoup(article_content, 'html5lib')\n",
    "    x = soup_article.find_all('p')\n",
    "    scraped = now.strftime(\"%d/%m/%Y %H:%M:%S\")\n",
    "    scrapedTime.append(scraped)\n",
    "    # Unifying the paragraphs\n",
    "    list_paragraphs = []\n",
    "    for p in np.arange(0, len(x)):\n",
    "        paragraph = x[p].get_text()\n",
    "        list_paragraphs.append(paragraph)\n",
    "        final_article = \" \".join(list_paragraphs)\n",
    "        \n",
    "    news_contents.append(final_article)"
   ]
  },
  {
   "cell_type": "code",
   "execution_count": 48,
   "metadata": {},
   "outputs": [
    {
     "data": {
      "text/plain": [
       "31"
      ]
     },
     "execution_count": 48,
     "metadata": {},
     "output_type": "execute_result"
    }
   ],
   "source": [
    "len(postedDate)\n"
   ]
  },
  {
   "cell_type": "markdown",
   "metadata": {},
   "source": [
    "Let's put them into:\n",
    "* a dataset which will the input of the models (`df_features`)\n",
    "* a dataset with the title and the link (`df_show_info`)"
   ]
  },
  {
   "cell_type": "code",
   "execution_count": 50,
   "metadata": {},
   "outputs": [
    {
     "data": {
      "text/html": [
       "<div>\n",
       "<style scoped>\n",
       "    .dataframe tbody tr th:only-of-type {\n",
       "        vertical-align: middle;\n",
       "    }\n",
       "\n",
       "    .dataframe tbody tr th {\n",
       "        vertical-align: top;\n",
       "    }\n",
       "\n",
       "    .dataframe thead th {\n",
       "        text-align: right;\n",
       "    }\n",
       "</style>\n",
       "<table border=\"1\" class=\"dataframe\">\n",
       "  <thead>\n",
       "    <tr style=\"text-align: right;\">\n",
       "      <th></th>\n",
       "      <th>STOCK ID</th>\n",
       "      <th>URL</th>\n",
       "      <th>PUBLISH TIME</th>\n",
       "      <th>EDITED TIME</th>\n",
       "      <th>SCRAPED TIME</th>\n",
       "      <th>TITLE</th>\n",
       "      <th>CONTENT</th>\n",
       "    </tr>\n",
       "  </thead>\n",
       "  <tbody>\n",
       "    <tr>\n",
       "      <th>0</th>\n",
       "      <td>NaN</td>\n",
       "      <td>/articles/soccer-late-goal-saves-gremio-in-lib...</td>\n",
       "      <td>[]</td>\n",
       "      <td>NaN</td>\n",
       "      <td>02/10/2019 23:59:44</td>\n",
       "      <td>\\n  Soccer-Late goal saves Gremio in Libertado...</td>\n",
       "      <td>While looking at a biotech might seem counter-...</td>\n",
       "    </tr>\n",
       "    <tr>\n",
       "      <th>1</th>\n",
       "      <td>NaN</td>\n",
       "      <td>/articles/rugby-mako-vunipola-returns-on-the-b...</td>\n",
       "      <td>[]</td>\n",
       "      <td>NaN</td>\n",
       "      <td>02/10/2019 23:59:44</td>\n",
       "      <td>\\n  Rugby-Mako Vunipola returns on the bench f...</td>\n",
       "      <td>While looking at a biotech might seem counter-...</td>\n",
       "    </tr>\n",
       "    <tr>\n",
       "      <th>2</th>\n",
       "      <td>NaN</td>\n",
       "      <td>/articles/u.s.-committee-seeks-to-interview-bo...</td>\n",
       "      <td>[]</td>\n",
       "      <td>NaN</td>\n",
       "      <td>02/10/2019 23:59:44</td>\n",
       "      <td>\\n  U.S. committee seeks to interview Boeing e...</td>\n",
       "      <td>While looking at a biotech might seem counter-...</td>\n",
       "    </tr>\n",
       "    <tr>\n",
       "      <th>3</th>\n",
       "      <td>NaN</td>\n",
       "      <td>/articles/u.s.-committee-seeks-to-interview-bo...</td>\n",
       "      <td>[]</td>\n",
       "      <td>NaN</td>\n",
       "      <td>02/10/2019 23:59:44</td>\n",
       "      <td>\\n  U.S. committee seeks to interview Boeing e...</td>\n",
       "      <td>While looking at a biotech might seem counter-...</td>\n",
       "    </tr>\n",
       "    <tr>\n",
       "      <th>4</th>\n",
       "      <td>NaN</td>\n",
       "      <td>/articles/japan-services-activity-grows-at-sli...</td>\n",
       "      <td>[]</td>\n",
       "      <td>NaN</td>\n",
       "      <td>02/10/2019 23:59:44</td>\n",
       "      <td>\\n  Japan services activity grows at slightly ...</td>\n",
       "      <td>While looking at a biotech might seem counter-...</td>\n",
       "    </tr>\n",
       "    <tr>\n",
       "      <th>5</th>\n",
       "      <td>NaN</td>\n",
       "      <td>/articles/preview-india-cenbank-set-to-cut-rat...</td>\n",
       "      <td>[]</td>\n",
       "      <td>NaN</td>\n",
       "      <td>02/10/2019 23:59:44</td>\n",
       "      <td>\\n  PREVIEW-India cenbank set to cut rates aga...</td>\n",
       "      <td>While looking at a biotech might seem counter-...</td>\n",
       "    </tr>\n",
       "    <tr>\n",
       "      <th>6</th>\n",
       "      <td>NaN</td>\n",
       "      <td>/articles/argentine-economists-forecast-deeper...</td>\n",
       "      <td>[]</td>\n",
       "      <td>NaN</td>\n",
       "      <td>02/10/2019 23:59:44</td>\n",
       "      <td>\\n  Argentine economists forecast deeper reces...</td>\n",
       "      <td>While looking at a biotech might seem counter-...</td>\n",
       "    </tr>\n",
       "    <tr>\n",
       "      <th>7</th>\n",
       "      <td>NaN</td>\n",
       "      <td>/articles/servicenow-now-stock-moves-1.31%3A-w...</td>\n",
       "      <td>[]</td>\n",
       "      <td>NaN</td>\n",
       "      <td>02/10/2019 23:59:44</td>\n",
       "      <td>\\n  ServiceNow (NOW) Stock Moves -1.31%: What ...</td>\n",
       "      <td>While looking at a biotech might seem counter-...</td>\n",
       "    </tr>\n",
       "    <tr>\n",
       "      <th>8</th>\n",
       "      <td>NaN</td>\n",
       "      <td>/articles/will-costco-cost-continue-its-run-wi...</td>\n",
       "      <td>[]</td>\n",
       "      <td>NaN</td>\n",
       "      <td>02/10/2019 23:59:44</td>\n",
       "      <td>\\n  Will Costco (COST) Continue Its Run with S...</td>\n",
       "      <td>While looking at a biotech might seem counter-...</td>\n",
       "    </tr>\n",
       "    <tr>\n",
       "      <th>9</th>\n",
       "      <td>NaN</td>\n",
       "      <td>/articles/will-q3-earnings-finish-negative-thi...</td>\n",
       "      <td>[]</td>\n",
       "      <td>NaN</td>\n",
       "      <td>02/10/2019 23:59:44</td>\n",
       "      <td>\\n  Will Q3 Earnings Finish Negative This Year?\\n</td>\n",
       "      <td>While looking at a biotech might seem counter-...</td>\n",
       "    </tr>\n",
       "    <tr>\n",
       "      <th>10</th>\n",
       "      <td>NaN</td>\n",
       "      <td>/articles/technology-sector-update-for-10-02-2...</td>\n",
       "      <td>[]</td>\n",
       "      <td>NaN</td>\n",
       "      <td>02/10/2019 23:59:44</td>\n",
       "      <td>\\n  Technology Sector Update for 10/02/2019: A...</td>\n",
       "      <td>While looking at a biotech might seem counter-...</td>\n",
       "    </tr>\n",
       "    <tr>\n",
       "      <th>11</th>\n",
       "      <td>NaN</td>\n",
       "      <td>/articles/how-to-double-your-stock-returns-for...</td>\n",
       "      <td>[]</td>\n",
       "      <td>NaN</td>\n",
       "      <td>02/10/2019 23:59:44</td>\n",
       "      <td>\\n  How to Double Your Stock Returns for the R...</td>\n",
       "      <td>While looking at a biotech might seem counter-...</td>\n",
       "    </tr>\n",
       "    <tr>\n",
       "      <th>12</th>\n",
       "      <td>NaN</td>\n",
       "      <td>/articles/s.korea-confirms-13th-case-of-africa...</td>\n",
       "      <td>[]</td>\n",
       "      <td>NaN</td>\n",
       "      <td>02/10/2019 23:59:44</td>\n",
       "      <td>\\n  S.Korea confirms 13th case of African swin...</td>\n",
       "      <td>While looking at a biotech might seem counter-...</td>\n",
       "    </tr>\n",
       "    <tr>\n",
       "      <th>13</th>\n",
       "      <td>NaN</td>\n",
       "      <td>/articles/u.s.-orders-speedy-checks-for-cracks...</td>\n",
       "      <td>[]</td>\n",
       "      <td>NaN</td>\n",
       "      <td>02/10/2019 23:59:44</td>\n",
       "      <td>\\n  U.S. orders speedy checks for cracks on 16...</td>\n",
       "      <td>While looking at a biotech might seem counter-...</td>\n",
       "    </tr>\n",
       "    <tr>\n",
       "      <th>14</th>\n",
       "      <td>NaN</td>\n",
       "      <td>/articles/u.s.-set-to-quickly-widen-trade-war-...</td>\n",
       "      <td>[]</td>\n",
       "      <td>NaN</td>\n",
       "      <td>02/10/2019 23:59:44</td>\n",
       "      <td>\\n  U.S. Set to Quickly Widen Trade War With E...</td>\n",
       "      <td>While looking at a biotech might seem counter-...</td>\n",
       "    </tr>\n",
       "    <tr>\n",
       "      <th>15</th>\n",
       "      <td>NaN</td>\n",
       "      <td>/articles/u.s.-set-to-quickly-widen-trade-war-...</td>\n",
       "      <td>[]</td>\n",
       "      <td>NaN</td>\n",
       "      <td>02/10/2019 23:59:44</td>\n",
       "      <td>\\n  U.S. Set to Quickly Widen Trade War With E...</td>\n",
       "      <td>While looking at a biotech might seem counter-...</td>\n",
       "    </tr>\n",
       "    <tr>\n",
       "      <th>16</th>\n",
       "      <td>NaN</td>\n",
       "      <td>/articles/how-much-does-the-moc-imbalance-matt...</td>\n",
       "      <td>[]</td>\n",
       "      <td>NaN</td>\n",
       "      <td>02/10/2019 23:59:44</td>\n",
       "      <td>\\n  How Much Does the MOC Imbalance Matter?\\n</td>\n",
       "      <td>While looking at a biotech might seem counter-...</td>\n",
       "    </tr>\n",
       "    <tr>\n",
       "      <th>17</th>\n",
       "      <td>NaN</td>\n",
       "      <td>/articles/looking-for-the-perfect-stock-price-...</td>\n",
       "      <td>[]</td>\n",
       "      <td>NaN</td>\n",
       "      <td>02/10/2019 23:59:44</td>\n",
       "      <td>\\n  Looking for the Perfect Stock Price\\n</td>\n",
       "      <td>While looking at a biotech might seem counter-...</td>\n",
       "    </tr>\n",
       "    <tr>\n",
       "      <th>18</th>\n",
       "      <td>NaN</td>\n",
       "      <td>/articles/3-compelling-reasons-for-companies-t...</td>\n",
       "      <td>[]</td>\n",
       "      <td>NaN</td>\n",
       "      <td>02/10/2019 23:59:44</td>\n",
       "      <td>\\n  3 Compelling Reasons for Companies to Spli...</td>\n",
       "      <td>While looking at a biotech might seem counter-...</td>\n",
       "    </tr>\n",
       "    <tr>\n",
       "      <th>19</th>\n",
       "      <td>NaN</td>\n",
       "      <td>/articles/fact-checking-the-data-debate-2019-0...</td>\n",
       "      <td>[]</td>\n",
       "      <td>NaN</td>\n",
       "      <td>02/10/2019 23:59:44</td>\n",
       "      <td>\\n  Fact-Checking the Data Debate\\n</td>\n",
       "      <td>While looking at a biotech might seem counter-...</td>\n",
       "    </tr>\n",
       "    <tr>\n",
       "      <th>20</th>\n",
       "      <td>NaN</td>\n",
       "      <td>/articles/in-risky-environment-for-stocks-dive...</td>\n",
       "      <td>[]</td>\n",
       "      <td>NaN</td>\n",
       "      <td>02/10/2019 23:59:44</td>\n",
       "      <td>\\n  In Risky Environment For Stocks, Diversify...</td>\n",
       "      <td>While looking at a biotech might seem counter-...</td>\n",
       "    </tr>\n",
       "    <tr>\n",
       "      <th>21</th>\n",
       "      <td>NaN</td>\n",
       "      <td>/articles/should-investors-trust-history-or-lo...</td>\n",
       "      <td>[]</td>\n",
       "      <td>NaN</td>\n",
       "      <td>02/10/2019 23:59:44</td>\n",
       "      <td>\\n  Should Investors Trust History or Logic as...</td>\n",
       "      <td>While looking at a biotech might seem counter-...</td>\n",
       "    </tr>\n",
       "    <tr>\n",
       "      <th>22</th>\n",
       "      <td>NaN</td>\n",
       "      <td>/articles/what-the-technical-analysis-of-stock...</td>\n",
       "      <td>[]</td>\n",
       "      <td>NaN</td>\n",
       "      <td>02/10/2019 23:59:44</td>\n",
       "      <td>\\n  What The Technical Analysis of Stocks Tell...</td>\n",
       "      <td>While looking at a biotech might seem counter-...</td>\n",
       "    </tr>\n",
       "    <tr>\n",
       "      <th>23</th>\n",
       "      <td>NaN</td>\n",
       "      <td>/articles/wells-fargo-wfc-looks-like-a-buy-now...</td>\n",
       "      <td>[]</td>\n",
       "      <td>NaN</td>\n",
       "      <td>02/10/2019 23:59:44</td>\n",
       "      <td>\\n  Wells Fargo (WFC) Looks Like A Buy Now The...</td>\n",
       "      <td>While looking at a biotech might seem counter-...</td>\n",
       "    </tr>\n",
       "    <tr>\n",
       "      <th>24</th>\n",
       "      <td>NaN</td>\n",
       "      <td>/articles/pepsico-pep-3rd-quarter-earnings%3A-...</td>\n",
       "      <td>[]</td>\n",
       "      <td>NaN</td>\n",
       "      <td>02/10/2019 23:59:44</td>\n",
       "      <td>\\n  PepsiCo (PEP) 3rd Quarter Earnings: What t...</td>\n",
       "      <td>While looking at a biotech might seem counter-...</td>\n",
       "    </tr>\n",
       "    <tr>\n",
       "      <th>25</th>\n",
       "      <td>NaN</td>\n",
       "      <td>/articles/stitch-fix-sfix-4th-quarter-earnings...</td>\n",
       "      <td>[]</td>\n",
       "      <td>NaN</td>\n",
       "      <td>02/10/2019 23:59:44</td>\n",
       "      <td>\\n  Stitch Fix (SFIX) 4th Quarter Earnings: Wh...</td>\n",
       "      <td>While looking at a biotech might seem counter-...</td>\n",
       "    </tr>\n",
       "    <tr>\n",
       "      <th>26</th>\n",
       "      <td>NaN</td>\n",
       "      <td>/articles/assessing-blackberry-bb-stock-post-e...</td>\n",
       "      <td>[]</td>\n",
       "      <td>NaN</td>\n",
       "      <td>02/10/2019 23:59:44</td>\n",
       "      <td>\\n  Assessing BlackBerry (BB) Stock Post-Earni...</td>\n",
       "      <td>While looking at a biotech might seem counter-...</td>\n",
       "    </tr>\n",
       "    <tr>\n",
       "      <th>27</th>\n",
       "      <td>NaN</td>\n",
       "      <td>/articles/weekly-market-preview%3A-three-stock...</td>\n",
       "      <td>[]</td>\n",
       "      <td>NaN</td>\n",
       "      <td>02/10/2019 23:59:44</td>\n",
       "      <td>\\n  Weekly Market Preview: Three Stocks To Wat...</td>\n",
       "      <td>While looking at a biotech might seem counter-...</td>\n",
       "    </tr>\n",
       "    <tr>\n",
       "      <th>28</th>\n",
       "      <td>NaN</td>\n",
       "      <td>/articles/stocks-fall-sharply-on-growth-concer...</td>\n",
       "      <td>[]</td>\n",
       "      <td>NaN</td>\n",
       "      <td>02/10/2019 23:59:44</td>\n",
       "      <td>\\n  Stocks Fall Sharply on Growth Concerns\\n</td>\n",
       "      <td>While looking at a biotech might seem counter-...</td>\n",
       "    </tr>\n",
       "    <tr>\n",
       "      <th>29</th>\n",
       "      <td>NaN</td>\n",
       "      <td>/articles/stocks-slip-on-disappointing-manufac...</td>\n",
       "      <td>[]</td>\n",
       "      <td>NaN</td>\n",
       "      <td>02/10/2019 23:59:44</td>\n",
       "      <td>\\n  Stocks Slip on Disappointing Manufacturing...</td>\n",
       "      <td>While looking at a biotech might seem counter-...</td>\n",
       "    </tr>\n",
       "    <tr>\n",
       "      <th>30</th>\n",
       "      <td>NaN</td>\n",
       "      <td>/articles/stocks-rise-on-track-to-end-septembe...</td>\n",
       "      <td>[]</td>\n",
       "      <td>NaN</td>\n",
       "      <td>02/10/2019 23:59:44</td>\n",
       "      <td>\\n  Stocks Rise, On Track to End September Hig...</td>\n",
       "      <td>While looking at a biotech might seem counter-...</td>\n",
       "    </tr>\n",
       "  </tbody>\n",
       "</table>\n",
       "</div>"
      ],
      "text/plain": [
       "   STOCK ID                                                URL PUBLISH TIME  \\\n",
       "0       NaN  /articles/soccer-late-goal-saves-gremio-in-lib...           []   \n",
       "1       NaN  /articles/rugby-mako-vunipola-returns-on-the-b...           []   \n",
       "2       NaN  /articles/u.s.-committee-seeks-to-interview-bo...           []   \n",
       "3       NaN  /articles/u.s.-committee-seeks-to-interview-bo...           []   \n",
       "4       NaN  /articles/japan-services-activity-grows-at-sli...           []   \n",
       "5       NaN  /articles/preview-india-cenbank-set-to-cut-rat...           []   \n",
       "6       NaN  /articles/argentine-economists-forecast-deeper...           []   \n",
       "7       NaN  /articles/servicenow-now-stock-moves-1.31%3A-w...           []   \n",
       "8       NaN  /articles/will-costco-cost-continue-its-run-wi...           []   \n",
       "9       NaN  /articles/will-q3-earnings-finish-negative-thi...           []   \n",
       "10      NaN  /articles/technology-sector-update-for-10-02-2...           []   \n",
       "11      NaN  /articles/how-to-double-your-stock-returns-for...           []   \n",
       "12      NaN  /articles/s.korea-confirms-13th-case-of-africa...           []   \n",
       "13      NaN  /articles/u.s.-orders-speedy-checks-for-cracks...           []   \n",
       "14      NaN  /articles/u.s.-set-to-quickly-widen-trade-war-...           []   \n",
       "15      NaN  /articles/u.s.-set-to-quickly-widen-trade-war-...           []   \n",
       "16      NaN  /articles/how-much-does-the-moc-imbalance-matt...           []   \n",
       "17      NaN  /articles/looking-for-the-perfect-stock-price-...           []   \n",
       "18      NaN  /articles/3-compelling-reasons-for-companies-t...           []   \n",
       "19      NaN  /articles/fact-checking-the-data-debate-2019-0...           []   \n",
       "20      NaN  /articles/in-risky-environment-for-stocks-dive...           []   \n",
       "21      NaN  /articles/should-investors-trust-history-or-lo...           []   \n",
       "22      NaN  /articles/what-the-technical-analysis-of-stock...           []   \n",
       "23      NaN  /articles/wells-fargo-wfc-looks-like-a-buy-now...           []   \n",
       "24      NaN  /articles/pepsico-pep-3rd-quarter-earnings%3A-...           []   \n",
       "25      NaN  /articles/stitch-fix-sfix-4th-quarter-earnings...           []   \n",
       "26      NaN  /articles/assessing-blackberry-bb-stock-post-e...           []   \n",
       "27      NaN  /articles/weekly-market-preview%3A-three-stock...           []   \n",
       "28      NaN  /articles/stocks-fall-sharply-on-growth-concer...           []   \n",
       "29      NaN  /articles/stocks-slip-on-disappointing-manufac...           []   \n",
       "30      NaN  /articles/stocks-rise-on-track-to-end-septembe...           []   \n",
       "\n",
       "   EDITED TIME         SCRAPED TIME  \\\n",
       "0          NaN  02/10/2019 23:59:44   \n",
       "1          NaN  02/10/2019 23:59:44   \n",
       "2          NaN  02/10/2019 23:59:44   \n",
       "3          NaN  02/10/2019 23:59:44   \n",
       "4          NaN  02/10/2019 23:59:44   \n",
       "5          NaN  02/10/2019 23:59:44   \n",
       "6          NaN  02/10/2019 23:59:44   \n",
       "7          NaN  02/10/2019 23:59:44   \n",
       "8          NaN  02/10/2019 23:59:44   \n",
       "9          NaN  02/10/2019 23:59:44   \n",
       "10         NaN  02/10/2019 23:59:44   \n",
       "11         NaN  02/10/2019 23:59:44   \n",
       "12         NaN  02/10/2019 23:59:44   \n",
       "13         NaN  02/10/2019 23:59:44   \n",
       "14         NaN  02/10/2019 23:59:44   \n",
       "15         NaN  02/10/2019 23:59:44   \n",
       "16         NaN  02/10/2019 23:59:44   \n",
       "17         NaN  02/10/2019 23:59:44   \n",
       "18         NaN  02/10/2019 23:59:44   \n",
       "19         NaN  02/10/2019 23:59:44   \n",
       "20         NaN  02/10/2019 23:59:44   \n",
       "21         NaN  02/10/2019 23:59:44   \n",
       "22         NaN  02/10/2019 23:59:44   \n",
       "23         NaN  02/10/2019 23:59:44   \n",
       "24         NaN  02/10/2019 23:59:44   \n",
       "25         NaN  02/10/2019 23:59:44   \n",
       "26         NaN  02/10/2019 23:59:44   \n",
       "27         NaN  02/10/2019 23:59:44   \n",
       "28         NaN  02/10/2019 23:59:44   \n",
       "29         NaN  02/10/2019 23:59:44   \n",
       "30         NaN  02/10/2019 23:59:44   \n",
       "\n",
       "                                                TITLE  \\\n",
       "0   \\n  Soccer-Late goal saves Gremio in Libertado...   \n",
       "1   \\n  Rugby-Mako Vunipola returns on the bench f...   \n",
       "2   \\n  U.S. committee seeks to interview Boeing e...   \n",
       "3   \\n  U.S. committee seeks to interview Boeing e...   \n",
       "4   \\n  Japan services activity grows at slightly ...   \n",
       "5   \\n  PREVIEW-India cenbank set to cut rates aga...   \n",
       "6   \\n  Argentine economists forecast deeper reces...   \n",
       "7   \\n  ServiceNow (NOW) Stock Moves -1.31%: What ...   \n",
       "8   \\n  Will Costco (COST) Continue Its Run with S...   \n",
       "9   \\n  Will Q3 Earnings Finish Negative This Year?\\n   \n",
       "10  \\n  Technology Sector Update for 10/02/2019: A...   \n",
       "11  \\n  How to Double Your Stock Returns for the R...   \n",
       "12  \\n  S.Korea confirms 13th case of African swin...   \n",
       "13  \\n  U.S. orders speedy checks for cracks on 16...   \n",
       "14  \\n  U.S. Set to Quickly Widen Trade War With E...   \n",
       "15  \\n  U.S. Set to Quickly Widen Trade War With E...   \n",
       "16      \\n  How Much Does the MOC Imbalance Matter?\\n   \n",
       "17          \\n  Looking for the Perfect Stock Price\\n   \n",
       "18  \\n  3 Compelling Reasons for Companies to Spli...   \n",
       "19                \\n  Fact-Checking the Data Debate\\n   \n",
       "20  \\n  In Risky Environment For Stocks, Diversify...   \n",
       "21  \\n  Should Investors Trust History or Logic as...   \n",
       "22  \\n  What The Technical Analysis of Stocks Tell...   \n",
       "23  \\n  Wells Fargo (WFC) Looks Like A Buy Now The...   \n",
       "24  \\n  PepsiCo (PEP) 3rd Quarter Earnings: What t...   \n",
       "25  \\n  Stitch Fix (SFIX) 4th Quarter Earnings: Wh...   \n",
       "26  \\n  Assessing BlackBerry (BB) Stock Post-Earni...   \n",
       "27  \\n  Weekly Market Preview: Three Stocks To Wat...   \n",
       "28       \\n  Stocks Fall Sharply on Growth Concerns\\n   \n",
       "29  \\n  Stocks Slip on Disappointing Manufacturing...   \n",
       "30  \\n  Stocks Rise, On Track to End September Hig...   \n",
       "\n",
       "                                              CONTENT  \n",
       "0   While looking at a biotech might seem counter-...  \n",
       "1   While looking at a biotech might seem counter-...  \n",
       "2   While looking at a biotech might seem counter-...  \n",
       "3   While looking at a biotech might seem counter-...  \n",
       "4   While looking at a biotech might seem counter-...  \n",
       "5   While looking at a biotech might seem counter-...  \n",
       "6   While looking at a biotech might seem counter-...  \n",
       "7   While looking at a biotech might seem counter-...  \n",
       "8   While looking at a biotech might seem counter-...  \n",
       "9   While looking at a biotech might seem counter-...  \n",
       "10  While looking at a biotech might seem counter-...  \n",
       "11  While looking at a biotech might seem counter-...  \n",
       "12  While looking at a biotech might seem counter-...  \n",
       "13  While looking at a biotech might seem counter-...  \n",
       "14  While looking at a biotech might seem counter-...  \n",
       "15  While looking at a biotech might seem counter-...  \n",
       "16  While looking at a biotech might seem counter-...  \n",
       "17  While looking at a biotech might seem counter-...  \n",
       "18  While looking at a biotech might seem counter-...  \n",
       "19  While looking at a biotech might seem counter-...  \n",
       "20  While looking at a biotech might seem counter-...  \n",
       "21  While looking at a biotech might seem counter-...  \n",
       "22  While looking at a biotech might seem counter-...  \n",
       "23  While looking at a biotech might seem counter-...  \n",
       "24  While looking at a biotech might seem counter-...  \n",
       "25  While looking at a biotech might seem counter-...  \n",
       "26  While looking at a biotech might seem counter-...  \n",
       "27  While looking at a biotech might seem counter-...  \n",
       "28  While looking at a biotech might seem counter-...  \n",
       "29  While looking at a biotech might seem counter-...  \n",
       "30  While looking at a biotech might seem counter-...  "
      ]
     },
     "execution_count": 50,
     "metadata": {},
     "output_type": "execute_result"
    }
   ],
   "source": [
    "df=pd.DataFrame(columns= [\"STOCK ID\", \"URL\", \"PUBLISH TIME\", \"EDITED TIME\", \"SCRAPED TIME\", \"TITLE\", \"CONTENT\" ])\n",
    "df['URL']=list_links\n",
    "df['PUBLISH TIME']=postedDate\n",
    "df['SCRAPED TIME']=scrapedTime\n",
    "df['TITLE']=list_titles\n",
    "df['CONTENT']=news_contents\n",
    "df"
   ]
  },
  {
   "cell_type": "code",
   "execution_count": 51,
   "metadata": {},
   "outputs": [
    {
     "name": "stdout",
     "output_type": "stream",
     "text": [
      "['ADOMANI', 'AdvisorShares Trust', 'Allied Esports Entertainment', 'Alta Mesa Resources', 'Alta Mesa Resources', 'BIQI International Holdings Corporation', 'China Lending Corporation', 'China TechFaith Wireless Communication Technology Limited', 'ChinaCache International Holdings Ltd.', 'Cray Inc', \"Del Frisco's Restaurant Group\", 'Diversicare Healthcare Services Inc.', 'Emmaus Life Sciences', 'Emmaus Life Sciences', 'Finisar Corporation', \"Fred's\", 'Gladstone Capital Corporation', 'Hunter Maritime Acquisition Corp.', 'Hunter Maritime Acquisition Corp.', 'Hunter Maritime Acquisition Corp.', 'Ivy NextShares', 'Ivy NextShares', 'Ivy NextShares', 'Peak Resorts', 'Repay Holdings Corporation', 'Shutterfly', 'USA Technologies', 'USA Technologies', 'Xynomic Pharmaceuticals Holdings', 'Xynomic Pharmaceuticals Holdings', 'Xynomic Pharmaceuticals Holdings', 'Yangtze River Port and Logistics Limited ']\n",
      "['ADOM', 'BKCH', 'AESEW', 'AMR', 'AMRWW', 'BIQI', 'CLDC', 'CNTF', 'CCIH', 'CRAY', 'DFRG', 'DVCR', 'EMMA', 'EMMAW', 'FNSR', 'FRED', 'GLADN', 'HUNT', 'HUNTU', 'HUNTW', 'IVENC', 'IVFGC', 'IVFVC', 'SKIS', 'TBRGU', 'SFLY', 'USAT', 'USATP', 'BCACU', 'XYN', 'XYNPW', 'YRIV', 'APPL']\n"
     ]
    }
   ],
   "source": [
    "st=pd.DataFrame(pd.read_csv('c:/data/CS/tickers_list.csv'))\n",
    "st['Issuer Name'][0].split(',')\n",
    "issuerName=[]\n",
    "stockabbre=[]\n",
    "for i in range(len(st['Issuer Name'])):\n",
    "    issuername=st['Issuer Name'][i].split(',')\n",
    "    issuerName.append(issuername[0])\n",
    "print (issuerName)\n",
    "stockabbre=st[\"Symbol\"]\n",
    "stockabbre=list(stockabbre)\n",
    "stockabbre.append('APPL')\n",
    "print (stockabbre)\n",
    "    "
   ]
  },
  {
   "cell_type": "code",
   "execution_count": 52,
   "metadata": {},
   "outputs": [
    {
     "data": {
      "text/plain": [
       "count     0\n",
       "unique    0\n",
       "Name: STOCK ID, dtype: int64"
      ]
     },
     "execution_count": 52,
     "metadata": {},
     "output_type": "execute_result"
    }
   ],
   "source": [
    "for i in range(len(df['CONTENT'])):\n",
    "    for j in range(len(st['Symbol'])):\n",
    "        if st['Symbol'][j] in df['CONTENT'][i] or issuerName[j] in df['CONTENT']:\n",
    "            df['STOCK ID'][i]=st['Symbol'][j]\n",
    "df['STOCK ID'].describe()"
   ]
  },
  {
   "cell_type": "code",
   "execution_count": 53,
   "metadata": {},
   "outputs": [],
   "source": [
    "df.to_csv(\"C:/data/CS/Nasdaq_SCRAPE.csv\")"
   ]
  }
 ],
 "metadata": {
  "kernelspec": {
   "display_name": "Python 3",
   "language": "python",
   "name": "python3"
  },
  "language_info": {
   "codemirror_mode": {
    "name": "ipython",
    "version": 3
   },
   "file_extension": ".py",
   "mimetype": "text/x-python",
   "name": "python",
   "nbconvert_exporter": "python",
   "pygments_lexer": "ipython3",
   "version": "3.6.7"
  }
 },
 "nbformat": 4,
 "nbformat_minor": 2
}
