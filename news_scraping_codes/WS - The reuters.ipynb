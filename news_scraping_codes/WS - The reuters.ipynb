{
 "cells": [
  {
   "cell_type": "markdown",
   "metadata": {},
   "source": [
    "# Web Scraping: The https://www.reuters.com"
   ]
  },
  {
   "cell_type": "code",
   "execution_count": 176,
   "metadata": {},
   "outputs": [],
   "source": [
    "from datetime import datetime\n",
    "import numpy as np\n",
    "import pandas as pd\n",
    "\n",
    "\n",
    "from bs4 import BeautifulSoup\n",
    "from selenium import webdriver\n",
    "import time\n",
    "\n",
    "import requests\n",
    "import re\n"
   ]
  },
  {
   "cell_type": "markdown",
   "metadata": {},
   "source": [
    "### Obtain list of news from the coverpage"
   ]
  },
  {
   "cell_type": "markdown",
   "metadata": {},
   "source": [
    "URL definition:"
   ]
  },
  {
   "cell_type": "code",
   "execution_count": 177,
   "metadata": {},
   "outputs": [],
   "source": [
    "# url definition\n",
    "url = \"https://www.reuters.com\""
   ]
  },
  {
   "cell_type": "markdown",
   "metadata": {},
   "source": [
    "List of news:"
   ]
  },
  {
   "cell_type": "code",
   "execution_count": 178,
   "metadata": {},
   "outputs": [
    {
     "name": "stdout",
     "output_type": "stream",
     "text": [
      "200\n",
      "20\n"
     ]
    },
    {
     "data": {
      "text/plain": [
       "[<h3 class=\"article-heading\"><a href=\"/article/us-yes-bank-stocks/yes-bank-ceo-says-lender-very-stable-shares-surge-idUSKBN1WI07B?il=0\">Yes Bank CEO says lender 'very stable'; shares surge</a>\n",
       " \t</h3>,\n",
       " <h3 class=\"article-heading\"><a href=\"/article/us-thomas-cook-grp-investment-passengers/uk-to-fly-back-another-5000-people-on-thursday-after-thomas-cook-collapse-idUSKBN1WI0FA?il=0\">UK to fly back another 5,000 people on Thursday after Thomas Cook collapse</a>\n",
       " \t</h3>,\n",
       " <h3 class=\"article-heading\"><a href=\"/article/us-southeast-asia-internet/southeast-asias-internet-economy-to-hit-300-billion-by-2025-report-idUSKBN1WI07X?il=0\">Southeast Asia's internet economy to hit $300 billion by 2025: report</a>\n",
       " \t</h3>,\n",
       " <h3 class=\"article-heading\"><a href=\"/article/us-australia-economy-salesfigures/australian-car-sales-slump-again-in-september-as-banks-tighten-lending-idUSKBN1WI0DU?il=0\">Australian car sales slump again in September as banks tighten lending</a>\n",
       " \t</h3>,\n",
       " <h3 class=\"article-heading\"><a href=\"/article/us-hongkong-protest-markets/about-4-billion-hong-kong-deposits-may-have-left-for-singapore-as-protests-rage-goldman-idUSKBN1WI0CR?il=0\">About $4 billion Hong Kong deposits may have left for Singapore as protests rage: Goldman</a>\n",
       " \t</h3>,\n",
       " <h3 class=\"article-heading\"><a href=\"/article/us-hongkong-protests/hong-kong-protesters-rampage-across-city-as-police-call-for-curfew-idUSKBN1WI02F?il=0\">Hong Kong protesters rampage across city as police call for curfew</a>\n",
       " \t</h3>,\n",
       " <h3 class=\"article-heading\"><a href=\"/article/us-northkorea-missiles/north-korea-says-it-successfully-tested-new-submarine-launched-ballistic-missile-idUSKBN1WH2GS?il=0\">North Korea says it successfully tested new submarine-launched ballistic missile</a>\n",
       " \t</h3>,\n",
       " <h3 class=\"article-heading\"><a href=\"/article/us-usa-trump-whistleblower/u-s-diplomat-at-center-of-trump-ukraine-affair-to-meet-with-house-committee-staff-idUSKBN1WI0BC?il=0\">U.S. diplomat at center of Trump-Ukraine affair to meet with House committee staff</a>\n",
       " \t</h3>,\n",
       " <h3 class=\"article-heading\"><a href=\"/article/us-usa-stocks-correction/stocks-on-tenterhooks-as-u-s-recession-signs-build-idUSKBN1WI0BT?il=0\">Stocks on tenterhooks as U.S. recession signs build</a>\n",
       " \t</h3>,\n",
       " <h3 class=\"article-heading\"><a href=\"/article/us-uber-workers-chicago/uber-launches-app-aimed-at-connecting-workers-with-businesses-idUSKBN1WI0BN?il=0\">Uber launches app aimed at connecting workers with businesses</a>\n",
       " \t</h3>,\n",
       " <h3 class=\"article-heading\"><a href=\"/article/us-global-forex/dollar-weakens-vs-yen-as-u-s-economic-worries-trade-frictions-intensify-idUSKBN1WI027?il=0\">Dollar weakens vs yen as U.S. economic worries, trade frictions intensify</a>\n",
       " \t</h3>,\n",
       " <h3 class=\"article-heading\"><a href=\"/article/us-usa-trump-healthcare/trump-to-unveil-order-aiming-to-boost-medicare-health-program-woo-seniors-idUSKBN1WI0AN?il=0\">Trump to unveil order aiming to boost Medicare health program, woo seniors</a>\n",
       " \t</h3>,\n",
       " <h3 class=\"article-heading\"><a href=\"/article/us-ethiopia-airplane-boeing/u-s-committee-seeks-to-interview-boeing-engineer-on-safety-of-737-max-idUSKBN1WI03D?il=0\">U.S. committee seeks to interview Boeing engineer on safety of 737 MAX</a>\n",
       " \t</h3>,\n",
       " <h3 class=\"article-heading\"><a href=\"/article/us-emirates-economy-pmi/uae-private-sector-growth-falls-to-nine-year-low-pmi-idUSKBN1WI09L?il=0\">UAE private sector growth falls to nine-year low: PMI</a>\n",
       " \t</h3>,\n",
       " <h3 class=\"article-heading\"><a href=\"/article/us-chevron-permian-focus/chevrons-shale-allies-are-its-secret-weapon-in-exxon-race-idUSKBN1WI08E?il=0\">Chevron's shale allies are its secret weapon in Exxon race</a>\n",
       " \t</h3>,\n",
       " <h3 class=\"article-heading\"><a href=\"/article/us-saudi-economy-pmi/saudi-private-sector-employment-growth-at-18-month-high-in-september-pmi-idUSKBN1WI09F?il=0\">Saudi private sector employment growth at 18-month high in September: PMI</a>\n",
       " \t</h3>,\n",
       " <h3 class=\"article-heading\"><a href=\"/article/us-walmart-healthcare/walmart-to-test-programs-for-u-s-workers-to-cut-its-healthcare-costs-idUSKBN1WI08C?il=0\">Walmart to test programs for U.S. workers to cut its healthcare costs</a>\n",
       " \t</h3>,\n",
       " <h3 class=\"article-heading\"><a href=\"/article/us-grab-competition-malaysia-fine/malaysia-proposes-20-million-fine-on-grab-for-abusive-practices-idUSKBN1WI06D?il=0\">Malaysia proposes $20 million fine on Grab for abusive practices</a>\n",
       " \t</h3>,\n",
       " <h3 class=\"article-heading\"><a href=\"/article/us-vietnam-trade-china/vietnam-imposes-anti-dumping-tax-on-chinese-aluminum-products-idUSKBN1WI08V?il=0\">Vietnam imposes anti-dumping tax on Chinese aluminum products</a>\n",
       " \t</h3>,\n",
       " <h3 class=\"article-heading\"><a href=\"/article/us-global-markets/asian-stocks-slide-as-u-s-tariffs-on-eu-fan-growth-worries-idUSKBN1WI021?il=0\">Asian stocks slide as U.S. tariffs on EU fan growth worries</a>\n",
       " \t</h3>]"
      ]
     },
     "execution_count": 178,
     "metadata": {},
     "output_type": "execute_result"
    }
   ],
   "source": [
    "# Request\n",
    "r1 = requests.get(url)\n",
    "print(r1.status_code)\n",
    "\n",
    "# We'll save in coverpage the cover page content\n",
    "coverpage = r1.content\n",
    "\n",
    "# Soup creation\n",
    "soup1 = BeautifulSoup(coverpage, 'html5lib')\n",
    "\n",
    "# News identification\n",
    "\n",
    "coverpage_news = soup1.find_all('h3', class_='article-heading')\n",
    "#coverpage_news=coverpage_news+coverpage_news2\n",
    "print (len(coverpage_news))\n",
    "\n",
    "coverpage_news"
   ]
  },
  {
   "cell_type": "markdown",
   "metadata": {},
   "source": [
    "Now we have a list in which every element is a news article:"
   ]
  },
  {
   "cell_type": "code",
   "execution_count": 179,
   "metadata": {},
   "outputs": [
    {
     "data": {
      "text/plain": [
       "<h3 class=\"article-heading\"><a href=\"/article/us-yes-bank-stocks/yes-bank-ceo-says-lender-very-stable-shares-surge-idUSKBN1WI07B?il=0\">Yes Bank CEO says lender 'very stable'; shares surge</a>\n",
       "\t</h3>"
      ]
     },
     "execution_count": 179,
     "metadata": {},
     "output_type": "execute_result"
    }
   ],
   "source": [
    "coverpage_news[0]\n"
   ]
  },
  {
   "cell_type": "code",
   "execution_count": 180,
   "metadata": {},
   "outputs": [],
   "source": [
    "n=0\n",
    "link = coverpage_news[n].find('a')['href']\n",
    "title = coverpage_news[n].get_text()\n",
    "article = requests.get(url+link)\n",
    "article_content = article.content\n",
    "soup_article = BeautifulSoup(article_content, 'html5lib')\n"
   ]
  },
  {
   "cell_type": "code",
   "execution_count": 181,
   "metadata": {},
   "outputs": [
    {
     "data": {
      "text/plain": [
       "\"Yes Bank CEO says lender 'very stable'; shares surge\\n\\t\""
      ]
     },
     "execution_count": 181,
     "metadata": {},
     "output_type": "execute_result"
    }
   ],
   "source": [
    "title"
   ]
  },
  {
   "cell_type": "code",
   "execution_count": 182,
   "metadata": {},
   "outputs": [],
   "source": [
    "body = soup_article.find_all('p')"
   ]
  },
  {
   "cell_type": "code",
   "execution_count": 183,
   "metadata": {},
   "outputs": [
    {
     "data": {
      "text/plain": [
       "[<p class=\"BylineBar_reading-time\" style=\"color:undefined\">3 Min Read</p>,\n",
       " <p>MUMBAI (Reuters) - Private-sector lender Yes Bank’s (<span id=\"”symbol_YESB.NS_0”\"><a href=\"//www.reuters.com/companies/YESB.NS\">YESB.NS</a></span>) Chief Executive Officer Ravneet Gill assured investors on Thursday that the bank remains on solid financial footing, sending its stock as much as 25% higher.  </p>,\n",
       " <p>His remarks come after the stock plunged nearly 23% on Tuesday as fraud allegations against a housing finance company that Yes Bank has exposure to, spooked investors. A stake sale by its promoters also weighed on sentiment. </p>,\n",
       " <p>Two of the bank’s promoter companies, led by former CEO Rana Kapoor and his family, said on Thursday they cut stakes over the last two weeks to reduce debt in their own companies, further seeking to allay investor concerns. </p>,\n",
       " <p>The recent price drop does not reflect the bank’s performance, its CEO said during a conference call, adding the operating metrics and fundamentals of the bank were sound. </p>,\n",
       " <p>“We have enough liquidity, we are very stable and the share price movement of recent days should not become a proxy for how the bank gets perceived.” </p>,\n",
       " <p>Gill also said the bank was in talks with private equity firms, strategic investors and family offices to raise additional capital. </p>,\n",
       " <p>Yes Bank also said that there was no incremental stress building up in its loan book, but a credit squeeze in the broader economy had an impact on the overall asset quality of the bank. </p>,\n",
       " <p>The lender’s management added they have been trying to conserve capital by reducing wholesale lending, while increasing it to government and small and medium enterprises (SMEs). </p>,\n",
       " <p>“The asset quality has held up pretty well, “said Chief Risk Officer Ashish Agarwal speaking about the bank’s bad loan recoveries.  </p>,\n",
       " <p>“We are absolutely 200% confident that we are good.” </p>,\n",
       " <p>Speaking on a dip in the bank’s current and saving account (CASA) share, the management assured that the reduction in deposit was not a result of withdrawal pressure from depositors.  </p>,\n",
       " <p>In the quarter ended June, the bank had reported gross slippages of 62.32 billion rupees ($875.18 million), while recoveries and upgrades were at 16.78 billion rupees. </p>,\n",
       " <p>The bank also confirmed that Rajat Monga, its group president, who earlier also held the position of the chief financial officer, has stepped down due to health reasons. </p>,\n",
       " <p class=\"Attribution_content\">Reporting by Nupur Anand; editing by Uttaresh.V</p>,\n",
       " <p><span>All quotes delayed a minimum of 15 minutes. See </span><a href=\"//www.reuters.com/info/disclaimer\" target=\"_blank\">here for a complete list</a><span> of exchanges and delays.</span></p>,\n",
       " <p><a href=\"//www.thomsonreuters.com/en/policies/copyright.html\" target=\"_blank\"><span>© <!-- -->2019<!-- --> </span><span>Reuters. All Rights Reserved.</span></a></p>]"
      ]
     },
     "execution_count": 183,
     "metadata": {},
     "output_type": "execute_result"
    }
   ],
   "source": [
    "body"
   ]
  },
  {
   "cell_type": "code",
   "execution_count": 184,
   "metadata": {},
   "outputs": [
    {
     "data": {
      "text/plain": [
       "17"
      ]
     },
     "execution_count": 184,
     "metadata": {},
     "output_type": "execute_result"
    }
   ],
   "source": [
    "len(body)"
   ]
  },
  {
   "cell_type": "code",
   "execution_count": 185,
   "metadata": {},
   "outputs": [],
   "source": [
    "x = soup_article.find_all('p')"
   ]
  },
  {
   "cell_type": "code",
   "execution_count": 186,
   "metadata": {},
   "outputs": [
    {
     "data": {
      "text/plain": [
       "17"
      ]
     },
     "execution_count": 186,
     "metadata": {},
     "output_type": "execute_result"
    }
   ],
   "source": [
    "len(x)"
   ]
  },
  {
   "cell_type": "code",
   "execution_count": 187,
   "metadata": {},
   "outputs": [
    {
     "data": {
      "text/plain": [
       "'3 Min Read'"
      ]
     },
     "execution_count": 187,
     "metadata": {},
     "output_type": "execute_result"
    }
   ],
   "source": [
    "x[0].get_text()"
   ]
  },
  {
   "cell_type": "markdown",
   "metadata": {},
   "source": [
    "### Let's extract the text from the articles:"
   ]
  },
  {
   "cell_type": "markdown",
   "metadata": {},
   "source": [
    "First, we'll define the number of articles we want:"
   ]
  },
  {
   "cell_type": "code",
   "execution_count": 188,
   "metadata": {},
   "outputs": [],
   "source": [
    "number_of_articles = len(coverpage_news)-1\n",
    "now = datetime.now()"
   ]
  },
  {
   "cell_type": "code",
   "execution_count": 189,
   "metadata": {},
   "outputs": [
    {
     "name": "stdout",
     "output_type": "stream",
     "text": [
      "/article/us-yes-bank-stocks/yes-bank-ceo-says-lender-very-stable-shares-surge-idUSKBN1WI07B?il=0\n",
      "[]\n",
      "/article/us-thomas-cook-grp-investment-passengers/uk-to-fly-back-another-5000-people-on-thursday-after-thomas-cook-collapse-idUSKBN1WI0FA?il=0\n",
      "[]\n",
      "/article/us-southeast-asia-internet/southeast-asias-internet-economy-to-hit-300-billion-by-2025-report-idUSKBN1WI07X?il=0\n",
      "[]\n",
      "/article/us-australia-economy-salesfigures/australian-car-sales-slump-again-in-september-as-banks-tighten-lending-idUSKBN1WI0DU?il=0\n",
      "[]\n",
      "/article/us-hongkong-protest-markets/about-4-billion-hong-kong-deposits-may-have-left-for-singapore-as-protests-rage-goldman-idUSKBN1WI0CR?il=0\n",
      "[]\n",
      "/article/us-hongkong-protests/hong-kong-protesters-rampage-across-city-as-police-call-for-curfew-idUSKBN1WI02F?il=0\n",
      "[]\n",
      "/article/us-northkorea-missiles/north-korea-says-it-successfully-tested-new-submarine-launched-ballistic-missile-idUSKBN1WH2GS?il=0\n",
      "[]\n",
      "/article/us-usa-trump-whistleblower/u-s-diplomat-at-center-of-trump-ukraine-affair-to-meet-with-house-committee-staff-idUSKBN1WI0BC?il=0\n",
      "[]\n",
      "/article/us-usa-stocks-correction/stocks-on-tenterhooks-as-u-s-recession-signs-build-idUSKBN1WI0BT?il=0\n",
      "[]\n",
      "/article/us-uber-workers-chicago/uber-launches-app-aimed-at-connecting-workers-with-businesses-idUSKBN1WI0BN?il=0\n",
      "[]\n",
      "/article/us-global-forex/dollar-weakens-vs-yen-as-u-s-economic-worries-trade-frictions-intensify-idUSKBN1WI027?il=0\n",
      "[]\n",
      "/article/us-usa-trump-healthcare/trump-to-unveil-order-aiming-to-boost-medicare-health-program-woo-seniors-idUSKBN1WI0AN?il=0\n",
      "[]\n",
      "/article/us-ethiopia-airplane-boeing/u-s-committee-seeks-to-interview-boeing-engineer-on-safety-of-737-max-idUSKBN1WI03D?il=0\n",
      "[]\n",
      "/article/us-emirates-economy-pmi/uae-private-sector-growth-falls-to-nine-year-low-pmi-idUSKBN1WI09L?il=0\n",
      "[]\n",
      "/article/us-chevron-permian-focus/chevrons-shale-allies-are-its-secret-weapon-in-exxon-race-idUSKBN1WI08E?il=0\n",
      "[]\n",
      "/article/us-saudi-economy-pmi/saudi-private-sector-employment-growth-at-18-month-high-in-september-pmi-idUSKBN1WI09F?il=0\n",
      "[]\n",
      "/article/us-walmart-healthcare/walmart-to-test-programs-for-u-s-workers-to-cut-its-healthcare-costs-idUSKBN1WI08C?il=0\n",
      "[]\n",
      "/article/us-grab-competition-malaysia-fine/malaysia-proposes-20-million-fine-on-grab-for-abusive-practices-idUSKBN1WI06D?il=0\n",
      "[]\n",
      "/article/us-vietnam-trade-china/vietnam-imposes-anti-dumping-tax-on-chinese-aluminum-products-idUSKBN1WI08V?il=0\n",
      "[]\n"
     ]
    }
   ],
   "source": [
    "# Empty lists for content, links and titles\n",
    "news_contents = []\n",
    "list_links = []\n",
    "list_titles = []\n",
    "scrapedTime=[]\n",
    "postedDate=[]\n",
    "for n in np.arange(0, number_of_articles):\n",
    "        \n",
    "    # Getting the link of the article\n",
    "    link = coverpage_news[n].find('a')['href']\n",
    "    print (link)\n",
    "    list_links.append(link)\n",
    "    posteddate=re.findall(r'/(\\d{4})/(\\d{1,2})/(\\d{1,2})/', link)\n",
    "    #posteddate=str(posteddate)\n",
    "    if posteddate:\n",
    "        posteddate=','.join(posteddate[0]) \n",
    "        posteddate=posteddate.replace(',','/')\n",
    "    print (posteddate)\n",
    "    postedDate.append(posteddate)\n",
    "    \n",
    "    # Getting the title\n",
    "    title = coverpage_news[n].get_text()\n",
    "    list_titles.append(title)\n",
    "    \n",
    "    \n",
    "    # Reading the content (it is divided in paragraphs)\n",
    "    article = requests.get(url+link)\n",
    "    article_content = article.content\n",
    "    soup_article = BeautifulSoup(article_content, 'html5lib')\n",
    "    x = soup_article.find_all('p')\n",
    "    scraped = now.strftime(\"%d/%m/%Y %H:%M:%S\")\n",
    "    scrapedTime.append(scraped)\n",
    "    # Unifying the paragraphs\n",
    "    list_paragraphs = []\n",
    "    for p in np.arange(0, len(x)):\n",
    "        paragraph = x[p].get_text()\n",
    "        list_paragraphs.append(paragraph)\n",
    "        final_article = \" \".join(list_paragraphs)\n",
    "        \n",
    "    news_contents.append(final_article)"
   ]
  },
  {
   "cell_type": "code",
   "execution_count": 171,
   "metadata": {},
   "outputs": [
    {
     "data": {
      "text/html": [
       "<div>\n",
       "<style scoped>\n",
       "    .dataframe tbody tr th:only-of-type {\n",
       "        vertical-align: middle;\n",
       "    }\n",
       "\n",
       "    .dataframe tbody tr th {\n",
       "        vertical-align: top;\n",
       "    }\n",
       "\n",
       "    .dataframe thead th {\n",
       "        text-align: right;\n",
       "    }\n",
       "</style>\n",
       "<table border=\"1\" class=\"dataframe\">\n",
       "  <thead>\n",
       "    <tr style=\"text-align: right;\">\n",
       "      <th></th>\n",
       "      <th>STOCK ID</th>\n",
       "      <th>URL</th>\n",
       "      <th>PUBLISH TIME</th>\n",
       "      <th>EDITED TIME</th>\n",
       "      <th>SCRAPED TIME</th>\n",
       "      <th>TITLE</th>\n",
       "      <th>CONTENT</th>\n",
       "    </tr>\n",
       "  </thead>\n",
       "  <tbody>\n",
       "    <tr>\n",
       "      <th>0</th>\n",
       "      <td>NaN</td>\n",
       "      <td>/article/us-northkorea-missiles/north-korea-sa...</td>\n",
       "      <td>[]</td>\n",
       "      <td>NaN</td>\n",
       "      <td>02/10/2019 18:09:00</td>\n",
       "      <td>North Korea says successfully tested new subma...</td>\n",
       "      <td>2 Min Read SEOUL (Reuters) - North Korea said ...</td>\n",
       "    </tr>\n",
       "    <tr>\n",
       "      <th>1</th>\n",
       "      <td>NaN</td>\n",
       "      <td>/article/us-tesla-safety-nhtsa/troubles-with-t...</td>\n",
       "      <td>[]</td>\n",
       "      <td>NaN</td>\n",
       "      <td>02/10/2019 18:09:00</td>\n",
       "      <td>Troubles with Tesla's automated parking summon...</td>\n",
       "      <td>4 Min Read WASHINGTON/BENGALURU (Reuters) - U....</td>\n",
       "    </tr>\n",
       "    <tr>\n",
       "      <th>2</th>\n",
       "      <td>NaN</td>\n",
       "      <td>/article/us-usa-election-guns/sensing-shift-de...</td>\n",
       "      <td>[]</td>\n",
       "      <td>NaN</td>\n",
       "      <td>02/10/2019 18:09:00</td>\n",
       "      <td>Sensing shift, Democratic presidential candida...</td>\n",
       "      <td>6 Min Read LAS VEGAS (Reuters) - Democratic pr...</td>\n",
       "    </tr>\n",
       "    <tr>\n",
       "      <th>3</th>\n",
       "      <td>NaN</td>\n",
       "      <td>/article/us-wto-aircraft-drink-food/u-s-hits-s...</td>\n",
       "      <td>[]</td>\n",
       "      <td>NaN</td>\n",
       "      <td>02/10/2019 18:09:00</td>\n",
       "      <td>U.S. hits Scotch whisky, Italian cheese, Frenc...</td>\n",
       "      <td>2 Min Read WASHINGTON (Reuters) - The Trump ad...</td>\n",
       "    </tr>\n",
       "    <tr>\n",
       "      <th>4</th>\n",
       "      <td>NaN</td>\n",
       "      <td>/article/us-wto-aircraft/u-s-set-to-widen-trad...</td>\n",
       "      <td>[]</td>\n",
       "      <td>NaN</td>\n",
       "      <td>02/10/2019 18:09:00</td>\n",
       "      <td>U.S. set to widen trade war with new tariffs o...</td>\n",
       "      <td>6 Min Read LONDON/BRUSSELS/WASHINGTON (Reuters...</td>\n",
       "    </tr>\n",
       "    <tr>\n",
       "      <th>5</th>\n",
       "      <td>NaN</td>\n",
       "      <td>/article/us-usa-trump-whistleblower-pompeo/tru...</td>\n",
       "      <td>[]</td>\n",
       "      <td>NaN</td>\n",
       "      <td>02/10/2019 18:09:00</td>\n",
       "      <td>Trump slams impeachment probe as hoax as Democ...</td>\n",
       "      <td>7 Min Read WASHINGTON (Reuters) - President Do...</td>\n",
       "    </tr>\n",
       "    <tr>\n",
       "      <th>6</th>\n",
       "      <td>NaN</td>\n",
       "      <td>/article/us-usa-election-sanders-medicare/sand...</td>\n",
       "      <td>[]</td>\n",
       "      <td>NaN</td>\n",
       "      <td>02/10/2019 18:09:00</td>\n",
       "      <td>Sanders presidential campaign pivots health sc...</td>\n",
       "      <td>3 Min Read WASHINGTON (Reuters) - Bernie Sande...</td>\n",
       "    </tr>\n",
       "    <tr>\n",
       "      <th>7</th>\n",
       "      <td>NaN</td>\n",
       "      <td>/article/us-wto-aircraft-usa-tariffs/u-s-to-hi...</td>\n",
       "      <td>[]</td>\n",
       "      <td>NaN</td>\n",
       "      <td>02/10/2019 18:09:00</td>\n",
       "      <td>U.S. to hit EU with tariffs of 10% on aircraft...</td>\n",
       "      <td>1 Min Read WASHINGTON (Reuters) - The United S...</td>\n",
       "    </tr>\n",
       "    <tr>\n",
       "      <th>8</th>\n",
       "      <td>NaN</td>\n",
       "      <td>/article/us-usa-stocks/wall-street-tumbles-as-...</td>\n",
       "      <td>[]</td>\n",
       "      <td>NaN</td>\n",
       "      <td>02/10/2019 18:09:00</td>\n",
       "      <td>Wall Street tumbles as trade war threatens U.S...</td>\n",
       "      <td>5 Min Read (Reuters) - Wall Street’s main inde...</td>\n",
       "    </tr>\n",
       "    <tr>\n",
       "      <th>9</th>\n",
       "      <td>NaN</td>\n",
       "      <td>/article/us-saudi-khashoggi-un/saudi-prince-se...</td>\n",
       "      <td>[]</td>\n",
       "      <td>NaN</td>\n",
       "      <td>02/10/2019 18:09:00</td>\n",
       "      <td>Saudi prince seeks to dodge blame for Khashogg...</td>\n",
       "      <td>4 Min Read GENEVA (Reuters) - Saudi Arabia’s c...</td>\n",
       "    </tr>\n",
       "    <tr>\n",
       "      <th>10</th>\n",
       "      <td>NaN</td>\n",
       "      <td>/article/us-tesla-deliveries/tesla-deliveries-...</td>\n",
       "      <td>[]</td>\n",
       "      <td>NaN</td>\n",
       "      <td>02/10/2019 18:09:00</td>\n",
       "      <td>Tesla deliveries miss Wall Street target; shar...</td>\n",
       "      <td>2 Min Read (Reuters) - Tesla Inc delivered few...</td>\n",
       "    </tr>\n",
       "    <tr>\n",
       "      <th>11</th>\n",
       "      <td>NaN</td>\n",
       "      <td>/article/us-usa-boeing/u-s-orders-speedy-check...</td>\n",
       "      <td>[]</td>\n",
       "      <td>NaN</td>\n",
       "      <td>02/10/2019 18:09:00</td>\n",
       "      <td>U.S. orders speedy checks for cracks on 165 Bo...</td>\n",
       "      <td>3 Min Read WASHINGTON (Reuters) - The U.S. Fed...</td>\n",
       "    </tr>\n",
       "    <tr>\n",
       "      <th>12</th>\n",
       "      <td>NaN</td>\n",
       "      <td>/article/us-brazil-politics-pensions/brazil-se...</td>\n",
       "      <td>[]</td>\n",
       "      <td>NaN</td>\n",
       "      <td>02/10/2019 18:09:00</td>\n",
       "      <td>Brazil senate approves pension reform in first...</td>\n",
       "      <td>3 Min Read BRASILIA (Reuters) - Brazil’s Senat...</td>\n",
       "    </tr>\n",
       "    <tr>\n",
       "      <th>13</th>\n",
       "      <td>NaN</td>\n",
       "      <td>/article/us-mali-security/malian-army-families...</td>\n",
       "      <td>[]</td>\n",
       "      <td>NaN</td>\n",
       "      <td>02/10/2019 18:09:00</td>\n",
       "      <td>Malian army families demand answers after dead...</td>\n",
       "      <td>2 Min Read BAMAKO (Reuters) - Hundreds of wive...</td>\n",
       "    </tr>\n",
       "    <tr>\n",
       "      <th>14</th>\n",
       "      <td>NaN</td>\n",
       "      <td>/article/us-usa-trump-whistleblower-lawsuit/tr...</td>\n",
       "      <td>[]</td>\n",
       "      <td>NaN</td>\n",
       "      <td>02/10/2019 18:09:00</td>\n",
       "      <td>Trump says he will likely sue some people who ...</td>\n",
       "      <td>1 Min Read WASHINGTON (Reuters) - U.S Presiden...</td>\n",
       "    </tr>\n",
       "    <tr>\n",
       "      <th>15</th>\n",
       "      <td>NaN</td>\n",
       "      <td>/article/us-global-markets/global-stocks-fall-...</td>\n",
       "      <td>[]</td>\n",
       "      <td>NaN</td>\n",
       "      <td>02/10/2019 18:09:00</td>\n",
       "      <td>Global stocks fall to lowest in month on U.S. ...</td>\n",
       "      <td>4 Min Read NEW YORK (Reuters) - World equity b...</td>\n",
       "    </tr>\n",
       "    <tr>\n",
       "      <th>16</th>\n",
       "      <td>NaN</td>\n",
       "      <td>/article/us-usa-court-apple/apple-ceo-cook-opp...</td>\n",
       "      <td>[]</td>\n",
       "      <td>NaN</td>\n",
       "      <td>02/10/2019 18:09:00</td>\n",
       "      <td>Apple CEO Cook opposes Trump, backs 'dreamer' ...</td>\n",
       "      <td>4 Min Read WASHINGTON (Reuters) - Apple Inc CE...</td>\n",
       "    </tr>\n",
       "    <tr>\n",
       "      <th>17</th>\n",
       "      <td>NaN</td>\n",
       "      <td>/article/us-refinery29-m-a-vice-media/vice-med...</td>\n",
       "      <td>[]</td>\n",
       "      <td>NaN</td>\n",
       "      <td>02/10/2019 18:09:00</td>\n",
       "      <td>Vice Media to buy digital publisher Refinery29...</td>\n",
       "      <td>1 Min Read (Reuters) - Vice Media LLC said on ...</td>\n",
       "    </tr>\n",
       "    <tr>\n",
       "      <th>18</th>\n",
       "      <td>NaN</td>\n",
       "      <td>/article/us-brazil-environment-wildfire-health...</td>\n",
       "      <td>[]</td>\n",
       "      <td>NaN</td>\n",
       "      <td>02/10/2019 18:09:00</td>\n",
       "      <td>Amazon fires drive spike in child breathing pr...</td>\n",
       "      <td>2 Min Read RIO DE JANEIRO/BRASILIA (Reuters) -...</td>\n",
       "    </tr>\n",
       "  </tbody>\n",
       "</table>\n",
       "</div>"
      ],
      "text/plain": [
       "   STOCK ID                                                URL PUBLISH TIME  \\\n",
       "0       NaN  /article/us-northkorea-missiles/north-korea-sa...           []   \n",
       "1       NaN  /article/us-tesla-safety-nhtsa/troubles-with-t...           []   \n",
       "2       NaN  /article/us-usa-election-guns/sensing-shift-de...           []   \n",
       "3       NaN  /article/us-wto-aircraft-drink-food/u-s-hits-s...           []   \n",
       "4       NaN  /article/us-wto-aircraft/u-s-set-to-widen-trad...           []   \n",
       "5       NaN  /article/us-usa-trump-whistleblower-pompeo/tru...           []   \n",
       "6       NaN  /article/us-usa-election-sanders-medicare/sand...           []   \n",
       "7       NaN  /article/us-wto-aircraft-usa-tariffs/u-s-to-hi...           []   \n",
       "8       NaN  /article/us-usa-stocks/wall-street-tumbles-as-...           []   \n",
       "9       NaN  /article/us-saudi-khashoggi-un/saudi-prince-se...           []   \n",
       "10      NaN  /article/us-tesla-deliveries/tesla-deliveries-...           []   \n",
       "11      NaN  /article/us-usa-boeing/u-s-orders-speedy-check...           []   \n",
       "12      NaN  /article/us-brazil-politics-pensions/brazil-se...           []   \n",
       "13      NaN  /article/us-mali-security/malian-army-families...           []   \n",
       "14      NaN  /article/us-usa-trump-whistleblower-lawsuit/tr...           []   \n",
       "15      NaN  /article/us-global-markets/global-stocks-fall-...           []   \n",
       "16      NaN  /article/us-usa-court-apple/apple-ceo-cook-opp...           []   \n",
       "17      NaN  /article/us-refinery29-m-a-vice-media/vice-med...           []   \n",
       "18      NaN  /article/us-brazil-environment-wildfire-health...           []   \n",
       "\n",
       "   EDITED TIME         SCRAPED TIME  \\\n",
       "0          NaN  02/10/2019 18:09:00   \n",
       "1          NaN  02/10/2019 18:09:00   \n",
       "2          NaN  02/10/2019 18:09:00   \n",
       "3          NaN  02/10/2019 18:09:00   \n",
       "4          NaN  02/10/2019 18:09:00   \n",
       "5          NaN  02/10/2019 18:09:00   \n",
       "6          NaN  02/10/2019 18:09:00   \n",
       "7          NaN  02/10/2019 18:09:00   \n",
       "8          NaN  02/10/2019 18:09:00   \n",
       "9          NaN  02/10/2019 18:09:00   \n",
       "10         NaN  02/10/2019 18:09:00   \n",
       "11         NaN  02/10/2019 18:09:00   \n",
       "12         NaN  02/10/2019 18:09:00   \n",
       "13         NaN  02/10/2019 18:09:00   \n",
       "14         NaN  02/10/2019 18:09:00   \n",
       "15         NaN  02/10/2019 18:09:00   \n",
       "16         NaN  02/10/2019 18:09:00   \n",
       "17         NaN  02/10/2019 18:09:00   \n",
       "18         NaN  02/10/2019 18:09:00   \n",
       "\n",
       "                                                TITLE  \\\n",
       "0   North Korea says successfully tested new subma...   \n",
       "1   Troubles with Tesla's automated parking summon...   \n",
       "2   Sensing shift, Democratic presidential candida...   \n",
       "3   U.S. hits Scotch whisky, Italian cheese, Frenc...   \n",
       "4   U.S. set to widen trade war with new tariffs o...   \n",
       "5   Trump slams impeachment probe as hoax as Democ...   \n",
       "6   Sanders presidential campaign pivots health sc...   \n",
       "7   U.S. to hit EU with tariffs of 10% on aircraft...   \n",
       "8   Wall Street tumbles as trade war threatens U.S...   \n",
       "9   Saudi prince seeks to dodge blame for Khashogg...   \n",
       "10  Tesla deliveries miss Wall Street target; shar...   \n",
       "11  U.S. orders speedy checks for cracks on 165 Bo...   \n",
       "12  Brazil senate approves pension reform in first...   \n",
       "13  Malian army families demand answers after dead...   \n",
       "14  Trump says he will likely sue some people who ...   \n",
       "15  Global stocks fall to lowest in month on U.S. ...   \n",
       "16  Apple CEO Cook opposes Trump, backs 'dreamer' ...   \n",
       "17  Vice Media to buy digital publisher Refinery29...   \n",
       "18  Amazon fires drive spike in child breathing pr...   \n",
       "\n",
       "                                              CONTENT  \n",
       "0   2 Min Read SEOUL (Reuters) - North Korea said ...  \n",
       "1   4 Min Read WASHINGTON/BENGALURU (Reuters) - U....  \n",
       "2   6 Min Read LAS VEGAS (Reuters) - Democratic pr...  \n",
       "3   2 Min Read WASHINGTON (Reuters) - The Trump ad...  \n",
       "4   6 Min Read LONDON/BRUSSELS/WASHINGTON (Reuters...  \n",
       "5   7 Min Read WASHINGTON (Reuters) - President Do...  \n",
       "6   3 Min Read WASHINGTON (Reuters) - Bernie Sande...  \n",
       "7   1 Min Read WASHINGTON (Reuters) - The United S...  \n",
       "8   5 Min Read (Reuters) - Wall Street’s main inde...  \n",
       "9   4 Min Read GENEVA (Reuters) - Saudi Arabia’s c...  \n",
       "10  2 Min Read (Reuters) - Tesla Inc delivered few...  \n",
       "11  3 Min Read WASHINGTON (Reuters) - The U.S. Fed...  \n",
       "12  3 Min Read BRASILIA (Reuters) - Brazil’s Senat...  \n",
       "13  2 Min Read BAMAKO (Reuters) - Hundreds of wive...  \n",
       "14  1 Min Read WASHINGTON (Reuters) - U.S Presiden...  \n",
       "15  4 Min Read NEW YORK (Reuters) - World equity b...  \n",
       "16  4 Min Read WASHINGTON (Reuters) - Apple Inc CE...  \n",
       "17  1 Min Read (Reuters) - Vice Media LLC said on ...  \n",
       "18  2 Min Read RIO DE JANEIRO/BRASILIA (Reuters) -...  "
      ]
     },
     "execution_count": 171,
     "metadata": {},
     "output_type": "execute_result"
    }
   ],
   "source": [
    "df=pd.DataFrame(columns= [\"STOCK ID\", \"URL\", \"PUBLISH TIME\", \"EDITED TIME\", \"SCRAPED TIME\", \"TITLE\", \"CONTENT\" ])\n",
    "df['URL']=list_links\n",
    "df['PUBLISH TIME']=postedDate\n",
    "df['SCRAPED TIME']=scrapedTime\n",
    "df['TITLE']=list_titles\n",
    "df['CONTENT']=news_contents\n",
    "df"
   ]
  },
  {
   "cell_type": "code",
   "execution_count": 172,
   "metadata": {},
   "outputs": [
    {
     "name": "stdout",
     "output_type": "stream",
     "text": [
      "['ADOMANI', 'AdvisorShares Trust', 'Allied Esports Entertainment', 'Alta Mesa Resources', 'Alta Mesa Resources', 'BIQI International Holdings Corporation', 'China Lending Corporation', 'China TechFaith Wireless Communication Technology Limited', 'ChinaCache International Holdings Ltd.', 'Cray Inc', \"Del Frisco's Restaurant Group\", 'Diversicare Healthcare Services Inc.', 'Emmaus Life Sciences', 'Emmaus Life Sciences', 'Finisar Corporation', \"Fred's\", 'Gladstone Capital Corporation', 'Hunter Maritime Acquisition Corp.', 'Hunter Maritime Acquisition Corp.', 'Hunter Maritime Acquisition Corp.', 'Ivy NextShares', 'Ivy NextShares', 'Ivy NextShares', 'Peak Resorts', 'Repay Holdings Corporation', 'Shutterfly', 'USA Technologies', 'USA Technologies', 'Xynomic Pharmaceuticals Holdings', 'Xynomic Pharmaceuticals Holdings', 'Xynomic Pharmaceuticals Holdings', 'Yangtze River Port and Logistics Limited ']\n",
      "['ADOM', 'BKCH', 'AESEW', 'AMR', 'AMRWW', 'BIQI', 'CLDC', 'CNTF', 'CCIH', 'CRAY', 'DFRG', 'DVCR', 'EMMA', 'EMMAW', 'FNSR', 'FRED', 'GLADN', 'HUNT', 'HUNTU', 'HUNTW', 'IVENC', 'IVFGC', 'IVFVC', 'SKIS', 'TBRGU', 'SFLY', 'USAT', 'USATP', 'BCACU', 'XYN', 'XYNPW', 'YRIV', 'APPL']\n"
     ]
    }
   ],
   "source": [
    "st=pd.DataFrame(pd.read_csv('c:/data/CS/tickers_list.csv'))\n",
    "st['Issuer Name'][0].split(',')\n",
    "issuerName=[]\n",
    "stockabbre=[]\n",
    "for i in range(len(st['Issuer Name'])):\n",
    "    issuername=st['Issuer Name'][i].split(',')\n",
    "    issuerName.append(issuername[0])\n",
    "print (issuerName)\n",
    "stockabbre=st[\"Symbol\"]\n",
    "stockabbre=list(stockabbre)\n",
    "stockabbre.append('APPL')\n",
    "print (stockabbre)\n",
    "    "
   ]
  },
  {
   "cell_type": "code",
   "execution_count": 173,
   "metadata": {},
   "outputs": [
    {
     "data": {
      "text/plain": [
       "count     0\n",
       "unique    0\n",
       "Name: STOCK ID, dtype: int64"
      ]
     },
     "execution_count": 173,
     "metadata": {},
     "output_type": "execute_result"
    }
   ],
   "source": [
    "for i in range(len(df['CONTENT'])):\n",
    "    for j in range(len(st['Symbol'])):\n",
    "        if st['Symbol'][j] in df['CONTENT'][i] or issuerName[j] in df['CONTENT']:\n",
    "            df['STOCK ID'][i]=st['Symbol'][j]\n",
    "df['STOCK ID'].describe()"
   ]
  },
  {
   "cell_type": "code",
   "execution_count": 175,
   "metadata": {},
   "outputs": [],
   "source": [
    "df.to_csv(\"C:/data/CS/reuters_SCRAPE.csv\")"
   ]
  }
 ],
 "metadata": {
  "kernelspec": {
   "display_name": "Python 3",
   "language": "python",
   "name": "python3"
  },
  "language_info": {
   "codemirror_mode": {
    "name": "ipython",
    "version": 3
   },
   "file_extension": ".py",
   "mimetype": "text/x-python",
   "name": "python",
   "nbconvert_exporter": "python",
   "pygments_lexer": "ipython3",
   "version": "3.6.7"
  }
 },
 "nbformat": 4,
 "nbformat_minor": 2
}
