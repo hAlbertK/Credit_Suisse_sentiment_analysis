{
 "cells": [
  {
   "cell_type": "markdown",
   "metadata": {},
   "source": [
    "# Web Scraping: The https://www.reuters.com/finance"
   ]
  },
  {
   "cell_type": "code",
   "execution_count": 2,
   "metadata": {},
   "outputs": [],
   "source": [
    "import requests\n",
    "from bs4 import BeautifulSoup\n",
    "import numpy as np\n",
    "import pandas as pd\n",
    "import time"
   ]
  },
  {
   "cell_type": "markdown",
   "metadata": {},
   "source": [
    "### Obtain list of news from the coverpage"
   ]
  },
  {
   "cell_type": "markdown",
   "metadata": {},
   "source": [
    "URL definition:"
   ]
  },
  {
   "cell_type": "code",
   "execution_count": 33,
   "metadata": {},
   "outputs": [],
   "source": [
    "# url definition\n",
    "url = \"https://www.reuters.com/finance\""
   ]
  },
  {
   "cell_type": "markdown",
   "metadata": {},
   "source": [
    "List of news:"
   ]
  },
  {
   "cell_type": "code",
   "execution_count": 34,
   "metadata": {},
   "outputs": [
    {
     "name": "stdout",
     "output_type": "stream",
     "text": [
      "200\n",
      "25\n"
     ]
    },
    {
     "data": {
      "text/plain": [
       "[<div class=\"story-content\">\n",
       " \t\t\t\t\t<a href=\"/article/us-tesla-deliveries/tesla-deliveries-miss-wall-street-estimates-shares-fall-6-idUSKBN1WH2EB\">\n",
       " \t\t\t\t\t\t\t<h3 class=\"story-title\">\n",
       " \t\t\t\t\t\t\t\tTesla deliveries miss Wall Street estimates; shares fall 6%</h3>\n",
       " \t\t\t\t\t\t\t</a>\n",
       " \t\t\t        <div class=\"contributor\"></div>\n",
       " \t\t\t        <p>Tesla Inc said on Wednesday its deliveries rose less than 2% in the third quarter, missing Wall Street estimates and sending its shares down nearly 6% in trading after the bell.</p>\n",
       " \t\t\t\t\t<time class=\"article-time\">\n",
       " \t\t\t\t\t\t\t<span class=\"timestamp\">6:07pm EDT</span>\n",
       " \t\t\t\t\t\t</time>\n",
       " \t\t\t\t\t</div>, <div class=\"story-content\">\n",
       " \t\t\t\t\t<a href=\"/article/us-airbnb-listing-exclusive/exclusive-morgan-stanley-goldman-sachs-poised-to-lead-airbnbs-listing-sources-idUSKBN1WH2JM\">\n",
       " \t\t\t\t\t\t\t<h3 class=\"story-title\">\n",
       " \t\t\t\t\t\t\t\tExclusive: Morgan Stanley, Goldman Sachs poised to lead Airbnb's listing - sources</h3>\n",
       " \t\t\t\t\t\t\t</a>\n",
       " \t\t\t        <div class=\"contributor\"></div>\n",
       " \t\t\t        <time class=\"article-time\">\n",
       " \t\t\t\t\t\t\t<span class=\"timestamp\">6:11pm EDT</span>\n",
       " \t\t\t\t\t\t</time>\n",
       " \t\t\t\t\t</div>, <div class=\"story-content\">\n",
       " \t\t\t\t\t<a href=\"/article/us-sprint-m-a-tmobile/florida-joins-justice-department-settlement-with-sprint-t-mobile-idUSKBN1WH29X\">\n",
       " \t\t\t\t\t\t\t<h3 class=\"story-title\">\n",
       " \t\t\t\t\t\t\t\tFlorida joins Justice Department settlement with Sprint, T-Mobile</h3>\n",
       " \t\t\t\t\t\t\t</a>\n",
       " \t\t\t        <div class=\"contributor\"></div>\n",
       " \t\t\t        <time class=\"article-time\">\n",
       " \t\t\t\t\t\t\t<span class=\"timestamp\">3:11pm EDT</span>\n",
       " \t\t\t\t\t\t</time>\n",
       " \t\t\t\t\t</div>, <div class=\"story-content\">\n",
       " \t\t\t\t\t<a href=\"/article/us-kroger-redundancies/kroger-to-layoff-several-store-employees-idUSKBN1WH2JT\">\n",
       " \t\t\t\t\t\t\t<h3 class=\"story-title\">\n",
       " \t\t\t\t\t\t\t\tKroger to layoff several store employees</h3>\n",
       " \t\t\t\t\t\t\t</a>\n",
       " \t\t\t        <div class=\"contributor\"></div>\n",
       " \t\t\t        <time class=\"article-time\">\n",
       " \t\t\t\t\t\t\t<span class=\"timestamp\">6:13pm EDT</span>\n",
       " \t\t\t\t\t\t</time>\n",
       " \t\t\t\t\t</div>, <div class=\"story-content\">\n",
       " \t\t\t\t\t<a href=\"/article/us-tesla-safety-nhtsa/troubles-with-teslas-automated-parking-summon-safety-regulators-idUSKBN1WH280\">\n",
       " \t\t\t\t\t\t\t<h3 class=\"story-title\">\n",
       " \t\t\t\t\t\t\t\tTroubles with Tesla's automated parking summon safety regulators</h3>\n",
       " \t\t\t\t\t\t\t</a>\n",
       " \t\t\t        <div class=\"contributor\"></div>\n",
       " \t\t\t        <p>U.S. regulators are looking into parking lot crashes involving Tesla Inc  cars driving themselves to their owners using the company's Smart Summon feature, the National Highway Traffic Safety Administration (NHTSA) said on Wednesday.</p>\n",
       " \t\t\t\t\t<time class=\"article-time\">\n",
       " \t\t\t\t\t\t\t<span class=\"timestamp\">5:59pm EDT</span>\n",
       " \t\t\t\t\t\t</time>\n",
       " \t\t\t\t\t</div>, <div class=\"story-content\">\n",
       " \t\t\t\t\t<a href=\"/article/us-wto-aircraft/u-s-set-to-widen-trade-war-with-new-tariffs-on-eu-aircraft-other-goods-idUSKBN1WH0SI\">\n",
       " \t\t\t\t\t\t\t<h3 class=\"story-title\">\n",
       " \t\t\t\t\t\t\t\tU.S. set to widen trade war with new tariffs on EU aircraft, other goods</h3>\n",
       " \t\t\t\t\t\t\t</a>\n",
       " \t\t\t        <div class=\"contributor\"></div>\n",
       " \t\t\t        <p>The United States won approval on Wednesday to impose import tariffs on $7.5 billion worth of European goods over illegal EU subsidies handed to Airbus, threatening to trigger a tit-for-tat transatlantic trade war as the global economy falters.</p>\n",
       " \t\t\t\t\t<time class=\"article-time\">\n",
       " \t\t\t\t\t\t\t<span class=\"timestamp\">5:45pm EDT</span>\n",
       " \t\t\t\t\t\t</time>\n",
       " \t\t\t\t\t</div>, <div class=\"story-content\">\n",
       " \t\t\t\t\t<a href=\"/article/us-usa-stocks/wall-street-tumbles-as-trade-war-threatens-u-s-economy-idUSKBN1WH1A0\">\n",
       " \t\t\t\t\t\t\t<h3 class=\"story-title\">\n",
       " \t\t\t\t\t\t\t\tWall Street tumbles as trade war threatens U.S. economy</h3>\n",
       " \t\t\t\t\t\t\t</a>\n",
       " \t\t\t        <div class=\"contributor\"></div>\n",
       " \t\t\t        <p>Wall Street's main indexes suffered their sharpest one-day declines in nearly six weeks on Wednesday after employment and manufacturing data suggested that the U.S.-China trade war is taking an increasing toll on the U.S. economy.</p>\n",
       " \t\t\t\t\t<time class=\"article-time\">\n",
       " \t\t\t\t\t\t\t<span class=\"timestamp\">5:04pm EDT</span>\n",
       " \t\t\t\t\t\t</time>\n",
       " \t\t\t\t\t</div>, <div class=\"story-content\">\n",
       " \t\t\t\t\t<a href=\"/article/us-gopro-outlook/gopro-cuts-second-half-profit-outlook-citing-hero8-production-delay-idUSKBN1WH2IJ\">\n",
       " \t\t\t\t\t\t\t<h3 class=\"story-title\">\n",
       " \t\t\t\t\t\t\t\tGoPro cuts second-half profit outlook citing Hero8 production delay</h3>\n",
       " \t\t\t\t\t\t\t</a>\n",
       " \t\t\t        <div class=\"contributor\"></div>\n",
       " \t\t\t        <p>GoPro Inc  cut its profit outlook for the second half of the year citing a delay in production of its latest Hero8 Black cameras, sending its shares down 18% in extended trading.</p>\n",
       " \t\t\t\t\t<time class=\"article-time\">\n",
       " \t\t\t\t\t\t\t<span class=\"timestamp\">6:05pm EDT</span>\n",
       " \t\t\t\t\t\t</time>\n",
       " \t\t\t\t\t</div>, <div class=\"story-content\">\n",
       " \t\t\t\t\t<a href=\"/article/us-usa-boeing/u-s-orders-speedy-checks-for-cracks-on-165-boeing-737-ng-planes-idUSKBN1WH1JR\">\n",
       " \t\t\t\t\t\t\t<h3 class=\"story-title\">\n",
       " \t\t\t\t\t\t\t\tU.S. orders speedy checks for cracks on 165 Boeing 737 NG planes</h3>\n",
       " \t\t\t\t\t\t\t</a>\n",
       " \t\t\t        <div class=\"contributor\"></div>\n",
       " \t\t\t        <p>The U.S. Federal Aviation Administration said on Wednesday that aircraft operators must inspect 165 Boeing 737 NG airliners for structural cracks within seven days after the issue was found on a small number of planes.</p>\n",
       " \t\t\t\t\t<time class=\"article-time\">\n",
       " \t\t\t\t\t\t\t<span class=\"timestamp\">4:58pm EDT</span>\n",
       " \t\t\t\t\t\t</time>\n",
       " \t\t\t\t\t</div>, <div class=\"story-content\">\n",
       " \t\t\t\t\t<a href=\"/article/us-usa-huawei-tech-canada/any-errors-in-arrest-of-huawei-cfo-were-technical-canadian-government-tells-court-idUSKBN1WH20O\">\n",
       " \t\t\t\t\t\t\t<h3 class=\"story-title\">\n",
       " \t\t\t\t\t\t\t\tAny errors in arrest of Huawei CFO were technical, Canadian government tells court</h3>\n",
       " \t\t\t\t\t\t\t</a>\n",
       " \t\t\t        <div class=\"contributor\"></div>\n",
       " \t\t\t        <p>Any errors in the arrest of Huawei Technologies Co Ltd's Chief Financial Officer Meng Wanzhou in Canada last December were technical in nature and do not meet the requirements to suspend her extradition proceedings to the United States, government lawyers said in court on Wednesday.</p>\n",
       " \t\t\t\t\t<time class=\"article-time\">\n",
       " \t\t\t\t\t\t\t<span class=\"timestamp\">5:40pm EDT</span>\n",
       " \t\t\t\t\t\t</time>\n",
       " \t\t\t\t\t</div>, <div class=\"story-content\">\n",
       " \t\t\t\t\t<a href=\"/article/us-refinery29-m-a-vice-media/vice-media-to-buy-digital-publisher-refinery29-idUSKBN1WH29I\">\n",
       " \t\t\t\t\t\t\t<h3 class=\"story-title\">\n",
       " \t\t\t\t\t\t\t\tVice Media to buy digital publisher Refinery29</h3>\n",
       " \t\t\t\t\t\t\t</a>\n",
       " \t\t\t        <div class=\"contributor\"></div>\n",
       " \t\t\t        <time class=\"article-time\">\n",
       " \t\t\t\t\t\t\t<span class=\"timestamp\">4:30pm EDT</span>\n",
       " \t\t\t\t\t\t</time>\n",
       " \t\t\t\t\t</div>, <div class=\"story-content\">\n",
       " \t\t\t\t\t<a href=\"/article/us-eu-carbon-bordertax/eu-leaders-risk-trade-tension-with-carbon-border-tax-to-protect-industry-idUSKBN1WH1XO\">\n",
       " \t\t\t\t\t\t\t<h3 class=\"story-title\">\n",
       " \t\t\t\t\t\t\t\tEU leaders risk trade tension with carbon border tax to protect industry</h3>\n",
       " \t\t\t\t\t\t\t</a>\n",
       " \t\t\t        <div class=\"contributor\"></div>\n",
       " \t\t\t        <time class=\"article-time\">\n",
       " \t\t\t\t\t\t\t<span class=\"timestamp\">12:18pm EDT</span>\n",
       " \t\t\t\t\t\t</time>\n",
       " \t\t\t\t\t</div>, <div class=\"story-content\">\n",
       " \t\t\t\t\t<a href=\"/article/us-sport-california-education/womens-sports-may-reap-big-gains-from-california-law-on-college-endorsement-deals-idUSKBN1WH0C2\">\n",
       " \t\t\t\t\t\t\t<h3 class=\"story-title\">\n",
       " \t\t\t\t\t\t\t\tWomen's sports may reap big gains from California law on college endorsement deals</h3>\n",
       " \t\t\t\t\t\t\t</a>\n",
       " \t\t\t        <div class=\"contributor\"></div>\n",
       " \t\t\t        <time class=\"article-time\">\n",
       " \t\t\t\t\t\t\t<span class=\"timestamp\">10:06am EDT</span>\n",
       " \t\t\t\t\t\t</time>\n",
       " \t\t\t\t\t</div>, <div class=\"story-content\">\n",
       " \t\t\t\t\t<a href=\"/article/us-climate-change-germany/german-ministries-fail-to-agree-details-of-climate-deal-sources-idUSKBN1WH0SJ\">\n",
       " \t\t\t\t\t\t\t<h3 class=\"story-title\">\n",
       " \t\t\t\t\t\t\t\tGerman ministries fail to agree details of climate deal: sources</h3>\n",
       " \t\t\t\t\t\t\t</a>\n",
       " \t\t\t        <div class=\"contributor\"></div>\n",
       " \t\t\t        <time class=\"article-time\">\n",
       " \t\t\t\t\t\t\t<span class=\"timestamp\">6:28am EDT</span>\n",
       " \t\t\t\t\t\t</time>\n",
       " \t\t\t\t\t</div>, <div class=\"story-content\">\n",
       " \t\t\t\t\t<a href=\"/article/us-usa-fed-environment/u-s-fed-charts-its-own-course-on-climate-change-too-idUSKBN1WH0ZS\">\n",
       " \t\t\t\t\t\t\t<h3 class=\"story-title\">\n",
       " \t\t\t\t\t\t\t\tU.S. Fed charts its own course on climate change, too</h3>\n",
       " \t\t\t\t\t\t\t</a>\n",
       " \t\t\t        <div class=\"contributor\"></div>\n",
       " \t\t\t        <time class=\"article-time\">\n",
       " \t\t\t\t\t\t\t<span class=\"timestamp\">6:21am EDT</span>\n",
       " \t\t\t\t\t\t</time>\n",
       " \t\t\t\t\t</div>, <div class=\"story-content\">\n",
       " \t\t\t\t\t<a href=\"/article/us-netherlands-floating-farm/moo-ving-to-the-future-cows-try-floating-farm-in-rotterdam-idUSKBN1WG3OV\">\n",
       " \t\t\t\t\t\t\t<h3 class=\"story-title\">\n",
       " \t\t\t\t\t\t\t\tMoo-ving to the future? Cows try 'Floating Farm' in Rotterdam</h3>\n",
       " \t\t\t\t\t\t\t</a>\n",
       " \t\t\t        <div class=\"contributor\"></div>\n",
       " \t\t\t        <time class=\"article-time\">\n",
       " \t\t\t\t\t\t\t<span class=\"timestamp\">Oct 01 2019</span>\n",
       " \t\t\t\t\t\t</time>\n",
       " \t\t\t\t\t</div>, <div class=\"story-content\">\n",
       " \t\t\t\t\t<a href=\"/article/us-trade-wto-fish/as-ocean-fears-gather-pace-wto-fishing-talks-stall-idUSKBN1WG42V\">\n",
       " \t\t\t\t\t\t\t<h3 class=\"story-title\">\n",
       " \t\t\t\t\t\t\t\tAs ocean fears gather pace, WTO fishing talks stall</h3>\n",
       " \t\t\t\t\t\t\t</a>\n",
       " \t\t\t        <div class=\"contributor\"></div>\n",
       " \t\t\t        <time class=\"article-time\">\n",
       " \t\t\t\t\t\t\t<span class=\"timestamp\">Oct 01 2019</span>\n",
       " \t\t\t\t\t\t</time>\n",
       " \t\t\t\t\t</div>, <div class=\"story-content\">\n",
       " \t\t\t\t\t<a href=\"/article/us-poland-energy/poland-needs-700-900-billion-euros-to-reach-zero-emissions-minister-idUSKBN1WG3LO\">\n",
       " \t\t\t\t\t\t\t<h3 class=\"story-title\">\n",
       " \t\t\t\t\t\t\t\tPoland needs 700-900 billion euros to reach zero emissions - minister</h3>\n",
       " \t\t\t\t\t\t\t</a>\n",
       " \t\t\t        <div class=\"contributor\"></div>\n",
       " \t\t\t        <time class=\"article-time\">\n",
       " \t\t\t\t\t\t\t<span class=\"timestamp\">Oct 01 2019</span>\n",
       " \t\t\t\t\t\t</time>\n",
       " \t\t\t\t\t</div>, <div class=\"story-content\">\n",
       " \t\t\t\t\t<a href=\"/article/us-ge-renewable-turbines/ge-to-provide-worlds-most-powerful-turbines-for-british-wind-project-idUSKBN1WG3K1\">\n",
       " \t\t\t\t\t\t\t<h3 class=\"story-title\">\n",
       " \t\t\t\t\t\t\t\tGE to provide world's most powerful turbines for British wind project</h3>\n",
       " \t\t\t\t\t\t\t</a>\n",
       " \t\t\t        <div class=\"contributor\"></div>\n",
       " \t\t\t        <time class=\"article-time\">\n",
       " \t\t\t\t\t\t\t<span class=\"timestamp\">Oct 01 2019</span>\n",
       " \t\t\t\t\t\t</time>\n",
       " \t\t\t\t\t</div>, <div class=\"story-content\">\n",
       " \t\t\t\t\t<a href=\"/article/us-usa-naturalgas-group/u-s-group-forms-to-defend-natural-gas-against-anti-fossil-fuel-measures-idUSKBN1WF2CD\">\n",
       " \t\t\t\t\t\t\t<h3 class=\"story-title\">\n",
       " \t\t\t\t\t\t\t\tU.S. group forms to defend natural gas against anti-fossil fuel measures</h3>\n",
       " \t\t\t\t\t\t\t</a>\n",
       " \t\t\t        <div class=\"contributor\"></div>\n",
       " \t\t\t        <time class=\"article-time\">\n",
       " \t\t\t\t\t\t\t<span class=\"timestamp\">Sep 30 2019</span>\n",
       " \t\t\t\t\t\t</time>\n",
       " \t\t\t\t\t</div>, <div class=\"story-content\">\n",
       " \t\t\t\t\t<a href=\"/article/us-swf-markets-environment/socially-responsible-investing-catching-on-among-sovereign-funds-study-idUSKBN1WF1DJ\">\n",
       " \t\t\t\t\t\t\t<h3 class=\"story-title\">\n",
       " \t\t\t\t\t\t\t\tSocially responsible investing catching on among sovereign funds: study</h3>\n",
       " \t\t\t\t\t\t\t</a>\n",
       " \t\t\t        <div class=\"contributor\"></div>\n",
       " \t\t\t        <time class=\"article-time\">\n",
       " \t\t\t\t\t\t\t<span class=\"timestamp\">Sep 30 2019</span>\n",
       " \t\t\t\t\t\t</time>\n",
       " \t\t\t\t\t</div>, <div class=\"story-content\">\n",
       " \t\t\t\t\t<a href=\"/article/us-southkorea-pollution-coal/more-south-korean-coal-power-plant-curbs-needed-to-tackle-pollution-advisory-group-idUSKBN1WF04Y\">\n",
       " \t\t\t\t\t\t\t<h3 class=\"story-title\">\n",
       " \t\t\t\t\t\t\t\tMore South Korean coal power plant curbs needed to tackle pollution: advisory group</h3>\n",
       " \t\t\t\t\t\t\t</a>\n",
       " \t\t\t        <div class=\"contributor\"></div>\n",
       " \t\t\t        <time class=\"article-time\">\n",
       " \t\t\t\t\t\t\t<span class=\"timestamp\">Sep 29 2019</span>\n",
       " \t\t\t\t\t\t</time>\n",
       " \t\t\t\t\t</div>, <div class=\"story-content\">\n",
       " \t\t\t\t\t<a href=\"/article/us-consumer-goods-deforestation/nestle-pg-say-they-will-miss-2020-deforestation-goals-idUSKBN1WC1WC\">\n",
       " \t\t\t\t\t\t\t<h3 class=\"story-title\">\n",
       " \t\t\t\t\t\t\t\tNestle, P&amp;G say they will miss 2020 deforestation goals</h3>\n",
       " \t\t\t\t\t\t\t</a>\n",
       " \t\t\t        <div class=\"contributor\"></div>\n",
       " \t\t\t        <time class=\"article-time\">\n",
       " \t\t\t\t\t\t\t<span class=\"timestamp\">Sep 27 2019</span>\n",
       " \t\t\t\t\t\t</time>\n",
       " \t\t\t\t\t</div>, <div class=\"story-content\">\n",
       " \t\t\t\t\t<a href=\"/article/us-chile-mining-dominga/chile-court-sends-2-5-billion-dominga-copper-project-for-environmental-review-idUSKBN1WB32R\">\n",
       " \t\t\t\t\t\t\t<h3 class=\"story-title\">\n",
       " \t\t\t\t\t\t\t\tChile court sends $2.5 billion Dominga copper project for environmental review</h3>\n",
       " \t\t\t\t\t\t\t</a>\n",
       " \t\t\t        <div class=\"contributor\"></div>\n",
       " \t\t\t        <time class=\"article-time\">\n",
       " \t\t\t\t\t\t\t<span class=\"timestamp\">Sep 26 2019</span>\n",
       " \t\t\t\t\t\t</time>\n",
       " \t\t\t\t\t</div>, <div class=\"story-content\">\n",
       " \t\t\t\t\t<a href=\"/article/us-climate-change-germany-plan/german-climate-plan-envisages-more-investment-renewables-growth-idUSKBN1WB1TW\">\n",
       " \t\t\t\t\t\t\t<h3 class=\"story-title\">\n",
       " \t\t\t\t\t\t\t\tGerman climate plan envisages more investment, renewables growth</h3>\n",
       " \t\t\t\t\t\t\t</a>\n",
       " \t\t\t        <div class=\"contributor\"></div>\n",
       " \t\t\t        <time class=\"article-time\">\n",
       " \t\t\t\t\t\t\t<span class=\"timestamp\">Sep 26 2019</span>\n",
       " \t\t\t\t\t\t</time>\n",
       " \t\t\t\t\t</div>]"
      ]
     },
     "execution_count": 34,
     "metadata": {},
     "output_type": "execute_result"
    }
   ],
   "source": [
    "# Request\n",
    "r1 = requests.get(url)\n",
    "print(r1.status_code)\n",
    "\n",
    "# We'll save in coverpage the cover page content\n",
    "coverpage = r1.content\n",
    "\n",
    "# Soup creation\n",
    "soup1 = BeautifulSoup(coverpage, 'html5lib')\n",
    "\n",
    "# News identification\n",
    "\n",
    "coverpage_news = soup1.find_all('div', class_='story-content')\n",
    "#coverpage_news=coverpage_news+coverpage_news2\n",
    "print (len(coverpage_news))\n",
    "\n",
    "coverpage_news"
   ]
  },
  {
   "cell_type": "markdown",
   "metadata": {},
   "source": [
    "Now we have a list in which every element is a news article:"
   ]
  },
  {
   "cell_type": "code",
   "execution_count": 35,
   "metadata": {},
   "outputs": [
    {
     "data": {
      "text/plain": [
       "<div class=\"story-content\">\n",
       "\t\t\t\t\t<a href=\"/article/us-tesla-deliveries/tesla-deliveries-miss-wall-street-estimates-shares-fall-6-idUSKBN1WH2EB\">\n",
       "\t\t\t\t\t\t\t<h3 class=\"story-title\">\n",
       "\t\t\t\t\t\t\t\tTesla deliveries miss Wall Street estimates; shares fall 6%</h3>\n",
       "\t\t\t\t\t\t\t</a>\n",
       "\t\t\t        <div class=\"contributor\"></div>\n",
       "\t\t\t        <p>Tesla Inc said on Wednesday its deliveries rose less than 2% in the third quarter, missing Wall Street estimates and sending its shares down nearly 6% in trading after the bell.</p>\n",
       "\t\t\t\t\t<time class=\"article-time\">\n",
       "\t\t\t\t\t\t\t<span class=\"timestamp\">6:07pm EDT</span>\n",
       "\t\t\t\t\t\t</time>\n",
       "\t\t\t\t\t</div>"
      ]
     },
     "execution_count": 35,
     "metadata": {},
     "output_type": "execute_result"
    }
   ],
   "source": [
    "coverpage_news[0]\n"
   ]
  },
  {
   "cell_type": "code",
   "execution_count": 36,
   "metadata": {},
   "outputs": [],
   "source": [
    "n=0\n",
    "link = coverpage_news[n].find('a')['href']\n",
    "title = coverpage_news[n].get_text()\n",
    "article = requests.get(url+link)\n",
    "article_content = article.content\n",
    "soup_article = BeautifulSoup(article_content, 'html5lib')\n"
   ]
  },
  {
   "cell_type": "code",
   "execution_count": 37,
   "metadata": {},
   "outputs": [
    {
     "data": {
      "text/plain": [
       "'\\n\\t\\t\\t\\t\\t\\n\\t\\t\\t\\t\\t\\t\\t\\n\\t\\t\\t\\t\\t\\t\\t\\tTesla deliveries miss Wall Street estimates; shares fall 6%\\n\\t\\t\\t\\t\\t\\t\\t\\n\\t\\t\\t        \\n\\t\\t\\t        Tesla Inc said on Wednesday its deliveries rose less than 2% in the third quarter, missing Wall Street estimates and sending its shares down nearly 6% in trading after the bell.\\n\\t\\t\\t\\t\\t\\n\\t\\t\\t\\t\\t\\t\\t6:07pm EDT\\n\\t\\t\\t\\t\\t\\t\\n\\t\\t\\t\\t\\t'"
      ]
     },
     "execution_count": 37,
     "metadata": {},
     "output_type": "execute_result"
    }
   ],
   "source": [
    "title"
   ]
  },
  {
   "cell_type": "code",
   "execution_count": 39,
   "metadata": {},
   "outputs": [],
   "source": [
    "body = soup_article.find_all('p')"
   ]
  },
  {
   "cell_type": "code",
   "execution_count": 40,
   "metadata": {},
   "outputs": [
    {
     "data": {
      "text/plain": [
       "[<p class=\"BylineBar_reading-time\" style=\"color:undefined\">3 Min Read</p>,\n",
       " <p>(Reuters) - Tesla Inc said on Wednesday its deliveries rose less than 2% in the third quarter, missing Wall Street estimates and sending its shares down nearly 6% in trading after the bell. </p>,\n",
       " <p>Total deliveries came in at 97,000 units for the quarter, below analysts’ estimates of 97,477 vehicles, according to IBES data from Refinitiv. </p>,\n",
       " <p>The California-based electric car company led by billionaire Elon Musk is under pressure to increase production and prove that there is sustainable demand for its vehicles, as well as show it can make a profit, even as traditional luxury car makers begin to roll out their own electric models. </p>,\n",
       " <p>Recently introduced all-electric SUVs from Audi and Jaguar Land Rover have challenged the company’s S and X models, deliveries of which fell 1.4% to 17,400 from the second quarter and came below analysts’ estimates of 18,829 vehicles. </p>,\n",
       " <p>Although third-quarter deliveries of 79,600 Model 3 sedans beat estimates of 79,470, the pace of growth was just 2.6% from the previous quarter.  </p>,\n",
       " <p>Tesla said its orders in the third quarter exceeded deliveries and that it was therefore entering the fourth quarter with a backlog. </p>,\n",
       " <p>The company has forecast deliveries of 360,000 to 400,000 vehicles for 2019. Based on Reuters calculations, this would mean that Tesla wold need to deliver more than 100,000 vehicles in its final quarter of the year.  </p>,\n",
       " <p>The Model 3 is the linchpin of Tesla’s growth strategy and Musk is under pressure to deliver the vehicle to new international markets efficiently, while guarding working capital.  </p>,\n",
       " <p>As the company strives to improve margins and post profit for the second half of 2019, Musk has been trying to cut spending.  </p>,\n",
       " <p>Musk had previously said that Tesla aims to be profitable in the fourth quarter, with the third quarter to be break-even. The company said it was focusing less on profit and more on volume growth, capacity expansion and cash generation. </p>,\n",
       " <p>Under pressure to meet his repeated promises to make Tesla sustainably profitable, Musk is trying to contain costs while still spending on major initiatives from a Shanghai factory and assembly-line to upcoming models such as the Model Y SUV and a Semi commercial truck. </p>,\n",
       " <p>Separately, Tesla announced that it had entered into a facility agreement valued at about $700 million to finance vehicles in-transit to China.  </p>,\n",
       " <p class=\"Attribution_content\">Reporting by Vibhuti Sharma and Neha Malara in Bengaluru; Editing by Anil D'Silva</p>,\n",
       " <p><span>All quotes delayed a minimum of 15 minutes. See </span><a href=\"//www.reuters.com/info/disclaimer\" target=\"_blank\">here for a complete list</a><span> of exchanges and delays.</span></p>,\n",
       " <p><a href=\"//www.thomsonreuters.com/en/policies/copyright.html\" target=\"_blank\"><span>© <!-- -->2019<!-- --> </span><span>Reuters. All Rights Reserved.</span></a></p>]"
      ]
     },
     "execution_count": 40,
     "metadata": {},
     "output_type": "execute_result"
    }
   ],
   "source": [
    "body"
   ]
  },
  {
   "cell_type": "code",
   "execution_count": 41,
   "metadata": {},
   "outputs": [
    {
     "data": {
      "text/plain": [
       "16"
      ]
     },
     "execution_count": 41,
     "metadata": {},
     "output_type": "execute_result"
    }
   ],
   "source": [
    "len(body)"
   ]
  },
  {
   "cell_type": "code",
   "execution_count": 42,
   "metadata": {},
   "outputs": [],
   "source": [
    "x = soup_article.find_all('p')"
   ]
  },
  {
   "cell_type": "code",
   "execution_count": 43,
   "metadata": {},
   "outputs": [
    {
     "data": {
      "text/plain": [
       "16"
      ]
     },
     "execution_count": 43,
     "metadata": {},
     "output_type": "execute_result"
    }
   ],
   "source": [
    "len(x)"
   ]
  },
  {
   "cell_type": "code",
   "execution_count": 44,
   "metadata": {},
   "outputs": [
    {
     "data": {
      "text/plain": [
       "'3 Min Read'"
      ]
     },
     "execution_count": 44,
     "metadata": {},
     "output_type": "execute_result"
    }
   ],
   "source": [
    "x[0].get_text()"
   ]
  },
  {
   "cell_type": "markdown",
   "metadata": {},
   "source": [
    "### Let's extract the text from the articles:"
   ]
  },
  {
   "cell_type": "markdown",
   "metadata": {},
   "source": [
    "First, we'll define the number of articles we want:"
   ]
  },
  {
   "cell_type": "code",
   "execution_count": 23,
   "metadata": {},
   "outputs": [],
   "source": [
    "number_of_articles = 25"
   ]
  },
  {
   "cell_type": "code",
   "execution_count": 24,
   "metadata": {},
   "outputs": [],
   "source": [
    "# Empty lists for content, links and titles\n",
    "news_contents = []\n",
    "list_links = []\n",
    "list_titles = []\n",
    "\n",
    "for n in np.arange(0, number_of_articles):\n",
    "        \n",
    "#     # We need to ignore \"live\" pages since they are not articles\n",
    "#     if \"live\" in coverpage_news[n].find('a')['href']:  \n",
    "#         continue\n",
    "    \n",
    "    # Getting the link of the article\n",
    "    link = url+coverpage_news[n].find('a')['href']\n",
    "    list_links.append(link)\n",
    "    \n",
    "    # Getting the title\n",
    "    title = coverpage_news[n].find('a').get_text()\n",
    "    list_titles.append(title)\n",
    "    \n",
    "    # Reading the content (it is divided in paragraphs)\n",
    "    article = requests.get(link)\n",
    "    article_content = article.content\n",
    "    soup_article = BeautifulSoup(article_content, 'html5lib')\n",
    "    body = soup_article.find_all('div', class_='content__article-body from-content-api js-article__body')\n",
    "    #x = body[0].find_all('p')\n",
    "    \n",
    "    # Unifying the paragraphs\n",
    "    list_paragraphs = []\n",
    "    for p in np.arange(0, len(x)):\n",
    "        paragraph = x[p].get_text()\n",
    "        list_paragraphs.append(paragraph)\n",
    "        final_article = \" \".join(list_paragraphs)\n",
    "        \n",
    "    news_contents.append(final_article)"
   ]
  },
  {
   "cell_type": "code",
   "execution_count": 29,
   "metadata": {},
   "outputs": [
    {
     "data": {
      "text/plain": [
       "25"
      ]
     },
     "execution_count": 29,
     "metadata": {},
     "output_type": "execute_result"
    }
   ],
   "source": [
    "len(news_contents)"
   ]
  },
  {
   "cell_type": "markdown",
   "metadata": {},
   "source": [
    "Let's put them into:\n",
    "* a dataset which will the input of the models (`df_features`)\n",
    "* a dataset with the title and the link (`df_show_info`)"
   ]
  },
  {
   "cell_type": "code",
   "execution_count": 26,
   "metadata": {},
   "outputs": [],
   "source": [
    "# df_features\n",
    "df_features = pd.DataFrame(\n",
    "     {'Article Content': news_contents \n",
    "    })\n",
    "\n",
    "# df_show_info\n",
    "df_show_info = pd.DataFrame(\n",
    "    {'Article Title': list_titles,\n",
    "     'Article Link': list_links})"
   ]
  },
  {
   "cell_type": "code",
   "execution_count": 28,
   "metadata": {},
   "outputs": [
    {
     "data": {
      "text/plain": [
       "'3 Min Read (Reuters) - The United Auto Workers union said on Tuesday it rejected a new comprehensive offer from General Motors Co to end a two-week-old strike, saying the automaker came up short on several fronts including wages, healthcare and temporary workers.  The union said it made a counterproposal and warned “there are still many important issues that remain unresolved.” Also on Tuesday, GM said the strike by U.S. workers forced it to halt production at its pickup and transmission plants in Silao, Mexico, resulting in temporary layoffs of 6,000 workers.  About 48,000 UAW members went on strike on Sept. 16 seeking higher pay, greater job security, a bigger share of the leading U.S. automaker’s profit and protection of healthcare benefits.  UAW Vice President Terry Dittes told members in a letter the GM offer “came up short” on issues like healthcare, wages, temporary workers and job security, “to name a few.” The union said it is committed “to exploring all options in order to reach an agreement.”  GM said in a statement it continues “to negotiate and exchange proposals, and remain committed to reaching an agreement that builds a stronger future for our employees and our company.”  The statements on “comprehensive proposals” indicate the talks have shifted into a higher gear as the dispute is taking a toll on both the automaker and striking UAW workers, whose $250 a week from the union strike fund is a fraction of their normal pay. Analysts estimate the strike could cost GM over $1 billion.   Both sides face broader risks should the U.S. economy slow down. Data released on Tuesday showed the U.S. manufacturing sector contracted in September to its weakest level in more than a decade. Stocks fell broadly on the report, and GM’s share price was down more than 3%.  The strike had previously forced GM to lay off at least 2,000 Canadian workers and temporarily close an engine plant in Mexico. Many suppliers have halted or scaled back some operations.  JP Morgan auto analyst Ryan Brinkman estimated in a research note that the strike has cost GM over $1 billion but it may be able to recover some lost profit in the fourth quarter. He said GM has $82 million a day in lost profit.   GM in Mexico said that “for the moment” its three other Mexican plants – Ramos Arizpe, San Luis Potosi and Toluca – are working normally. A spokesman in Mexico said the plants still had parts available but the company could not say how many more days the plants would remain open. The spokesman declined to estimate the daily cost of suspending operations at the Silao complex.   The 6,000 affected workers are being paid a percentage of their salary, the spokesman said, with some workers using vacation time to continue receiving their full salaries.   Reporting by David Shepardson in Washington and Joe White in Detroit; Additional reporting by Sharay Angulo in Mexico City; Editing by Franklin Paul and Matthew Lewis All quotes delayed a minimum of 15 minutes. See here for a complete list of exchanges and delays. © 2019 Reuters. All Rights Reserved.'"
      ]
     },
     "execution_count": 28,
     "metadata": {},
     "output_type": "execute_result"
    }
   ],
   "source": [
    "df_features['Article Content'][24]"
   ]
  },
  {
   "cell_type": "code",
   "execution_count": 30,
   "metadata": {},
   "outputs": [
    {
     "data": {
      "text/html": [
       "<div>\n",
       "<style scoped>\n",
       "    .dataframe tbody tr th:only-of-type {\n",
       "        vertical-align: middle;\n",
       "    }\n",
       "\n",
       "    .dataframe tbody tr th {\n",
       "        vertical-align: top;\n",
       "    }\n",
       "\n",
       "    .dataframe thead th {\n",
       "        text-align: right;\n",
       "    }\n",
       "</style>\n",
       "<table border=\"1\" class=\"dataframe\">\n",
       "  <thead>\n",
       "    <tr style=\"text-align: right;\">\n",
       "      <th></th>\n",
       "      <th>Article Title</th>\n",
       "      <th>Article Link</th>\n",
       "    </tr>\n",
       "  </thead>\n",
       "  <tbody>\n",
       "    <tr>\n",
       "      <th>0</th>\n",
       "      <td>\\n\\t\\t\\t\\t\\t\\t\\t\\n\\t\\t\\t\\t\\t\\t\\t\\tUAW rejects ...</td>\n",
       "      <td>https://www.reuters.com/finance/article/us-usa...</td>\n",
       "    </tr>\n",
       "    <tr>\n",
       "      <th>1</th>\n",
       "      <td>\\n\\t\\t\\t\\t\\t\\t\\t\\n\\t\\t\\t\\t\\t\\t\\t\\tFitch downgr...</td>\n",
       "      <td>https://www.reuters.com/finance/article/us-wew...</td>\n",
       "    </tr>\n",
       "    <tr>\n",
       "      <th>2</th>\n",
       "      <td>\\n\\t\\t\\t\\t\\t\\t\\t\\n\\t\\t\\t\\t\\t\\t\\t\\tJuul hires A...</td>\n",
       "      <td>https://www.reuters.com/finance/article/us-juu...</td>\n",
       "    </tr>\n",
       "    <tr>\n",
       "      <th>3</th>\n",
       "      <td>\\n\\t\\t\\t\\t\\t\\t\\t\\n\\t\\t\\t\\t\\t\\t\\t\\tJohnson &amp; Jo...</td>\n",
       "      <td>https://www.reuters.com/finance/article/us-joh...</td>\n",
       "    </tr>\n",
       "    <tr>\n",
       "      <th>4</th>\n",
       "      <td>\\n\\t\\t\\t\\t\\t\\t\\t\\n\\t\\t\\t\\t\\t\\t\\t\\tU.S. SEC pro...</td>\n",
       "      <td>https://www.reuters.com/finance/article/us-usa...</td>\n",
       "    </tr>\n",
       "    <tr>\n",
       "      <th>5</th>\n",
       "      <td>\\n\\t\\t\\t\\t\\t\\t\\t\\n\\t\\t\\t\\t\\t\\t\\t\\tVisa, Master...</td>\n",
       "      <td>https://www.reuters.com/finance/article/us-fac...</td>\n",
       "    </tr>\n",
       "    <tr>\n",
       "      <th>6</th>\n",
       "      <td>\\n\\t\\t\\t\\t\\t\\t\\t\\n\\t\\t\\t\\t\\t\\t\\t\\tGlobal share...</td>\n",
       "      <td>https://www.reuters.com/finance/article/us-glo...</td>\n",
       "    </tr>\n",
       "    <tr>\n",
       "      <th>7</th>\n",
       "      <td>\\n\\t\\t\\t\\t\\t\\t\\t\\n\\t\\t\\t\\t\\t\\t\\t\\tCredit Suiss...</td>\n",
       "      <td>https://www.reuters.com/finance/article/us-cre...</td>\n",
       "    </tr>\n",
       "    <tr>\n",
       "      <th>8</th>\n",
       "      <td>\\n\\t\\t\\t\\t\\t\\t\\t\\n\\t\\t\\t\\t\\t\\t\\t\\tOil prices r...</td>\n",
       "      <td>https://www.reuters.com/finance/article/us-glo...</td>\n",
       "    </tr>\n",
       "    <tr>\n",
       "      <th>9</th>\n",
       "      <td>\\n\\t\\t\\t\\t\\t\\t\\t\\n\\t\\t\\t\\t\\t\\t\\t\\tToo big to l...</td>\n",
       "      <td>https://www.reuters.com/finance/article/us-usa...</td>\n",
       "    </tr>\n",
       "    <tr>\n",
       "      <th>10</th>\n",
       "      <td>\\n\\t\\t\\t\\t\\t\\t\\t\\n\\t\\t\\t\\t\\t\\t\\t\\tWomen's spor...</td>\n",
       "      <td>https://www.reuters.com/finance/article/us-spo...</td>\n",
       "    </tr>\n",
       "    <tr>\n",
       "      <th>11</th>\n",
       "      <td>\\n\\t\\t\\t\\t\\t\\t\\t\\n\\t\\t\\t\\t\\t\\t\\t\\tMoo-ving to ...</td>\n",
       "      <td>https://www.reuters.com/finance/article/us-net...</td>\n",
       "    </tr>\n",
       "    <tr>\n",
       "      <th>12</th>\n",
       "      <td>\\n\\t\\t\\t\\t\\t\\t\\t\\n\\t\\t\\t\\t\\t\\t\\t\\tAs ocean fea...</td>\n",
       "      <td>https://www.reuters.com/finance/article/us-tra...</td>\n",
       "    </tr>\n",
       "    <tr>\n",
       "      <th>13</th>\n",
       "      <td>\\n\\t\\t\\t\\t\\t\\t\\t\\n\\t\\t\\t\\t\\t\\t\\t\\tPoland needs...</td>\n",
       "      <td>https://www.reuters.com/finance/article/us-pol...</td>\n",
       "    </tr>\n",
       "    <tr>\n",
       "      <th>14</th>\n",
       "      <td>\\n\\t\\t\\t\\t\\t\\t\\t\\n\\t\\t\\t\\t\\t\\t\\t\\tGE to provid...</td>\n",
       "      <td>https://www.reuters.com/finance/article/us-ge-...</td>\n",
       "    </tr>\n",
       "    <tr>\n",
       "      <th>15</th>\n",
       "      <td>\\n\\t\\t\\t\\t\\t\\t\\t\\n\\t\\t\\t\\t\\t\\t\\t\\tU.S. group f...</td>\n",
       "      <td>https://www.reuters.com/finance/article/us-usa...</td>\n",
       "    </tr>\n",
       "    <tr>\n",
       "      <th>16</th>\n",
       "      <td>\\n\\t\\t\\t\\t\\t\\t\\t\\n\\t\\t\\t\\t\\t\\t\\t\\tSocially res...</td>\n",
       "      <td>https://www.reuters.com/finance/article/us-swf...</td>\n",
       "    </tr>\n",
       "    <tr>\n",
       "      <th>17</th>\n",
       "      <td>\\n\\t\\t\\t\\t\\t\\t\\t\\n\\t\\t\\t\\t\\t\\t\\t\\tMore South K...</td>\n",
       "      <td>https://www.reuters.com/finance/article/us-sou...</td>\n",
       "    </tr>\n",
       "    <tr>\n",
       "      <th>18</th>\n",
       "      <td>\\n\\t\\t\\t\\t\\t\\t\\t\\n\\t\\t\\t\\t\\t\\t\\t\\tNestle, P&amp;G ...</td>\n",
       "      <td>https://www.reuters.com/finance/article/us-con...</td>\n",
       "    </tr>\n",
       "    <tr>\n",
       "      <th>19</th>\n",
       "      <td>\\n\\t\\t\\t\\t\\t\\t\\t\\n\\t\\t\\t\\t\\t\\t\\t\\tChile court ...</td>\n",
       "      <td>https://www.reuters.com/finance/article/us-chi...</td>\n",
       "    </tr>\n",
       "    <tr>\n",
       "      <th>20</th>\n",
       "      <td>\\n\\t\\t\\t\\t\\t\\t\\t\\n\\t\\t\\t\\t\\t\\t\\t\\tGerman clima...</td>\n",
       "      <td>https://www.reuters.com/finance/article/us-cli...</td>\n",
       "    </tr>\n",
       "    <tr>\n",
       "      <th>21</th>\n",
       "      <td>\\n\\t\\t\\t\\t\\t\\t\\t\\n\\t\\t\\t\\t\\t\\t\\t\\tOil CEOs pus...</td>\n",
       "      <td>https://www.reuters.com/finance/article/us-cli...</td>\n",
       "    </tr>\n",
       "    <tr>\n",
       "      <th>22</th>\n",
       "      <td>\\n\\t\\t\\t\\t\\t\\t\\t\\n\\t\\t\\t\\t\\t\\t\\t\\tBOE's Carney...</td>\n",
       "      <td>https://www.reuters.com/finance/article/us-cli...</td>\n",
       "    </tr>\n",
       "    <tr>\n",
       "      <th>23</th>\n",
       "      <td>\\n\\t\\t\\t\\t\\t\\t\\t\\n\\t\\t\\t\\t\\t\\t\\t\\tAustralian b...</td>\n",
       "      <td>https://www.reuters.com/finance/article/us-aus...</td>\n",
       "    </tr>\n",
       "    <tr>\n",
       "      <th>24</th>\n",
       "      <td>\\n\\t\\t\\t\\t\\t\\t\\t\\n\\t\\t\\t\\t\\t\\t\\t\\tChina denoun...</td>\n",
       "      <td>https://www.reuters.com/finance/article/us-un-...</td>\n",
       "    </tr>\n",
       "  </tbody>\n",
       "</table>\n",
       "</div>"
      ],
      "text/plain": [
       "                                        Article Title  \\\n",
       "0   \\n\\t\\t\\t\\t\\t\\t\\t\\n\\t\\t\\t\\t\\t\\t\\t\\tUAW rejects ...   \n",
       "1   \\n\\t\\t\\t\\t\\t\\t\\t\\n\\t\\t\\t\\t\\t\\t\\t\\tFitch downgr...   \n",
       "2   \\n\\t\\t\\t\\t\\t\\t\\t\\n\\t\\t\\t\\t\\t\\t\\t\\tJuul hires A...   \n",
       "3   \\n\\t\\t\\t\\t\\t\\t\\t\\n\\t\\t\\t\\t\\t\\t\\t\\tJohnson & Jo...   \n",
       "4   \\n\\t\\t\\t\\t\\t\\t\\t\\n\\t\\t\\t\\t\\t\\t\\t\\tU.S. SEC pro...   \n",
       "5   \\n\\t\\t\\t\\t\\t\\t\\t\\n\\t\\t\\t\\t\\t\\t\\t\\tVisa, Master...   \n",
       "6   \\n\\t\\t\\t\\t\\t\\t\\t\\n\\t\\t\\t\\t\\t\\t\\t\\tGlobal share...   \n",
       "7   \\n\\t\\t\\t\\t\\t\\t\\t\\n\\t\\t\\t\\t\\t\\t\\t\\tCredit Suiss...   \n",
       "8   \\n\\t\\t\\t\\t\\t\\t\\t\\n\\t\\t\\t\\t\\t\\t\\t\\tOil prices r...   \n",
       "9   \\n\\t\\t\\t\\t\\t\\t\\t\\n\\t\\t\\t\\t\\t\\t\\t\\tToo big to l...   \n",
       "10  \\n\\t\\t\\t\\t\\t\\t\\t\\n\\t\\t\\t\\t\\t\\t\\t\\tWomen's spor...   \n",
       "11  \\n\\t\\t\\t\\t\\t\\t\\t\\n\\t\\t\\t\\t\\t\\t\\t\\tMoo-ving to ...   \n",
       "12  \\n\\t\\t\\t\\t\\t\\t\\t\\n\\t\\t\\t\\t\\t\\t\\t\\tAs ocean fea...   \n",
       "13  \\n\\t\\t\\t\\t\\t\\t\\t\\n\\t\\t\\t\\t\\t\\t\\t\\tPoland needs...   \n",
       "14  \\n\\t\\t\\t\\t\\t\\t\\t\\n\\t\\t\\t\\t\\t\\t\\t\\tGE to provid...   \n",
       "15  \\n\\t\\t\\t\\t\\t\\t\\t\\n\\t\\t\\t\\t\\t\\t\\t\\tU.S. group f...   \n",
       "16  \\n\\t\\t\\t\\t\\t\\t\\t\\n\\t\\t\\t\\t\\t\\t\\t\\tSocially res...   \n",
       "17  \\n\\t\\t\\t\\t\\t\\t\\t\\n\\t\\t\\t\\t\\t\\t\\t\\tMore South K...   \n",
       "18  \\n\\t\\t\\t\\t\\t\\t\\t\\n\\t\\t\\t\\t\\t\\t\\t\\tNestle, P&G ...   \n",
       "19  \\n\\t\\t\\t\\t\\t\\t\\t\\n\\t\\t\\t\\t\\t\\t\\t\\tChile court ...   \n",
       "20  \\n\\t\\t\\t\\t\\t\\t\\t\\n\\t\\t\\t\\t\\t\\t\\t\\tGerman clima...   \n",
       "21  \\n\\t\\t\\t\\t\\t\\t\\t\\n\\t\\t\\t\\t\\t\\t\\t\\tOil CEOs pus...   \n",
       "22  \\n\\t\\t\\t\\t\\t\\t\\t\\n\\t\\t\\t\\t\\t\\t\\t\\tBOE's Carney...   \n",
       "23  \\n\\t\\t\\t\\t\\t\\t\\t\\n\\t\\t\\t\\t\\t\\t\\t\\tAustralian b...   \n",
       "24  \\n\\t\\t\\t\\t\\t\\t\\t\\n\\t\\t\\t\\t\\t\\t\\t\\tChina denoun...   \n",
       "\n",
       "                                         Article Link  \n",
       "0   https://www.reuters.com/finance/article/us-usa...  \n",
       "1   https://www.reuters.com/finance/article/us-wew...  \n",
       "2   https://www.reuters.com/finance/article/us-juu...  \n",
       "3   https://www.reuters.com/finance/article/us-joh...  \n",
       "4   https://www.reuters.com/finance/article/us-usa...  \n",
       "5   https://www.reuters.com/finance/article/us-fac...  \n",
       "6   https://www.reuters.com/finance/article/us-glo...  \n",
       "7   https://www.reuters.com/finance/article/us-cre...  \n",
       "8   https://www.reuters.com/finance/article/us-glo...  \n",
       "9   https://www.reuters.com/finance/article/us-usa...  \n",
       "10  https://www.reuters.com/finance/article/us-spo...  \n",
       "11  https://www.reuters.com/finance/article/us-net...  \n",
       "12  https://www.reuters.com/finance/article/us-tra...  \n",
       "13  https://www.reuters.com/finance/article/us-pol...  \n",
       "14  https://www.reuters.com/finance/article/us-ge-...  \n",
       "15  https://www.reuters.com/finance/article/us-usa...  \n",
       "16  https://www.reuters.com/finance/article/us-swf...  \n",
       "17  https://www.reuters.com/finance/article/us-sou...  \n",
       "18  https://www.reuters.com/finance/article/us-con...  \n",
       "19  https://www.reuters.com/finance/article/us-chi...  \n",
       "20  https://www.reuters.com/finance/article/us-cli...  \n",
       "21  https://www.reuters.com/finance/article/us-cli...  \n",
       "22  https://www.reuters.com/finance/article/us-cli...  \n",
       "23  https://www.reuters.com/finance/article/us-aus...  \n",
       "24  https://www.reuters.com/finance/article/us-un-...  "
      ]
     },
     "execution_count": 30,
     "metadata": {},
     "output_type": "execute_result"
    }
   ],
   "source": [
    "df_show_info"
   ]
  },
  {
   "cell_type": "markdown",
   "metadata": {},
   "source": [
    "### Time Elapsed"
   ]
  },
  {
   "cell_type": "markdown",
   "metadata": {},
   "source": [
    "We are interested in how much time the script takes to get the news because this will impact directly on user experience. For this, we'll put it all into a single function and then call it:"
   ]
  },
  {
   "cell_type": "code",
   "execution_count": 30,
   "metadata": {},
   "outputs": [],
   "source": [
    "def get_news_themirror():\n",
    "    \n",
    "    # url definition\n",
    "    url = \"https://www.mirror.co.uk/\"\n",
    "    \n",
    "    # Request\n",
    "    r1 = requests.get(url)\n",
    "    r1.status_code\n",
    "\n",
    "    # We'll save in coverpage the cover page content\n",
    "    coverpage = r1.content\n",
    "\n",
    "    # Soup creation\n",
    "    soup1 = BeautifulSoup(coverpage, 'html5lib')\n",
    "\n",
    "    # News identification\n",
    "    coverpage_news = soup1.find_all('a', class_='headline publication-font')\n",
    "    len(coverpage_news)\n",
    "    \n",
    "    number_of_articles = 5\n",
    "\n",
    "    # Empty lists for content, links and titles\n",
    "    news_contents = []\n",
    "    list_links = []\n",
    "    list_titles = []\n",
    "\n",
    "    for n in np.arange(0, number_of_articles):\n",
    "\n",
    "        # Getting the link of the article\n",
    "        link = coverpage_news[n]['href']\n",
    "        list_links.append(link)\n",
    "\n",
    "        # Getting the title\n",
    "        title = coverpage_news[n].get_text()\n",
    "        list_titles.append(title)\n",
    "\n",
    "        # Reading the content (it is divided in paragraphs)\n",
    "        article = requests.get(link)\n",
    "        article_content = article.content\n",
    "        soup_article = BeautifulSoup(article_content, 'html5lib')\n",
    "        body = soup_article.find_all('div', class_='articulo-cuerpo')\n",
    "        x = soup_article.find_all('p')\n",
    "\n",
    "        # Unifying the paragraphs\n",
    "        list_paragraphs = []\n",
    "        for p in np.arange(0, len(x)):\n",
    "            paragraph = x[p].get_text()\n",
    "            list_paragraphs.append(paragraph)\n",
    "            final_article = \" \".join(list_paragraphs)\n",
    "\n",
    "        news_contents.append(final_article)\n",
    "\n",
    "    # df_features\n",
    "    df_features = pd.DataFrame(\n",
    "         {'Content': news_contents \n",
    "        })\n",
    "\n",
    "    # df_show_info\n",
    "    df_show_info = pd.DataFrame(\n",
    "        {'Article Title': list_titles,\n",
    "         'Article Link': list_links,\n",
    "         'Newspaper': 'El Pais English'})\n",
    "    \n",
    "    return (df_features, df_show_info)"
   ]
  },
  {
   "cell_type": "code",
   "execution_count": 31,
   "metadata": {},
   "outputs": [
    {
     "ename": "UnboundLocalError",
     "evalue": "local variable 'final_article' referenced before assignment",
     "output_type": "error",
     "traceback": [
      "\u001b[1;31m---------------------------------------------------------------------------\u001b[0m",
      "\u001b[1;31mUnboundLocalError\u001b[0m                         Traceback (most recent call last)",
      "\u001b[1;32m<ipython-input-31-6d8a8401fa9d>\u001b[0m in \u001b[0;36m<module>\u001b[1;34m\u001b[0m\n\u001b[0;32m      1\u001b[0m \u001b[0mstart\u001b[0m \u001b[1;33m=\u001b[0m \u001b[0mtime\u001b[0m\u001b[1;33m.\u001b[0m\u001b[0mtime\u001b[0m\u001b[1;33m(\u001b[0m\u001b[1;33m)\u001b[0m\u001b[1;33m\u001b[0m\u001b[1;33m\u001b[0m\u001b[0m\n\u001b[1;32m----> 2\u001b[1;33m \u001b[0mx\u001b[0m\u001b[1;33m,\u001b[0m \u001b[0my\u001b[0m \u001b[1;33m=\u001b[0m \u001b[0mget_news_themirror\u001b[0m\u001b[1;33m(\u001b[0m\u001b[1;33m)\u001b[0m\u001b[1;33m\u001b[0m\u001b[1;33m\u001b[0m\u001b[0m\n\u001b[0m\u001b[0;32m      3\u001b[0m \u001b[0mend\u001b[0m \u001b[1;33m=\u001b[0m\u001b[0mtime\u001b[0m\u001b[1;33m.\u001b[0m\u001b[0mtime\u001b[0m\u001b[1;33m(\u001b[0m\u001b[1;33m)\u001b[0m\u001b[1;33m\u001b[0m\u001b[1;33m\u001b[0m\u001b[0m\n\u001b[0;32m      4\u001b[0m \u001b[0mte\u001b[0m \u001b[1;33m=\u001b[0m \u001b[0mend\u001b[0m\u001b[1;33m-\u001b[0m\u001b[0mstart\u001b[0m\u001b[1;33m\u001b[0m\u001b[1;33m\u001b[0m\u001b[0m\n\u001b[0;32m      5\u001b[0m \u001b[0mprint\u001b[0m\u001b[1;33m(\u001b[0m\u001b[1;34m\"The time elapsed is %f seconds\"\u001b[0m \u001b[1;33m%\u001b[0m\u001b[1;33m(\u001b[0m\u001b[0mte\u001b[0m\u001b[1;33m)\u001b[0m\u001b[1;33m)\u001b[0m\u001b[1;33m\u001b[0m\u001b[1;33m\u001b[0m\u001b[0m\n",
      "\u001b[1;32m<ipython-input-30-7481b0642f75>\u001b[0m in \u001b[0;36mget_news_themirror\u001b[1;34m()\u001b[0m\n\u001b[0;32m     49\u001b[0m             \u001b[0mfinal_article\u001b[0m \u001b[1;33m=\u001b[0m \u001b[1;34m\" \"\u001b[0m\u001b[1;33m.\u001b[0m\u001b[0mjoin\u001b[0m\u001b[1;33m(\u001b[0m\u001b[0mlist_paragraphs\u001b[0m\u001b[1;33m)\u001b[0m\u001b[1;33m\u001b[0m\u001b[1;33m\u001b[0m\u001b[0m\n\u001b[0;32m     50\u001b[0m \u001b[1;33m\u001b[0m\u001b[0m\n\u001b[1;32m---> 51\u001b[1;33m         \u001b[0mnews_contents\u001b[0m\u001b[1;33m.\u001b[0m\u001b[0mappend\u001b[0m\u001b[1;33m(\u001b[0m\u001b[0mfinal_article\u001b[0m\u001b[1;33m)\u001b[0m\u001b[1;33m\u001b[0m\u001b[1;33m\u001b[0m\u001b[0m\n\u001b[0m\u001b[0;32m     52\u001b[0m \u001b[1;33m\u001b[0m\u001b[0m\n\u001b[0;32m     53\u001b[0m     \u001b[1;31m# df_features\u001b[0m\u001b[1;33m\u001b[0m\u001b[1;33m\u001b[0m\u001b[1;33m\u001b[0m\u001b[0m\n",
      "\u001b[1;31mUnboundLocalError\u001b[0m: local variable 'final_article' referenced before assignment"
     ]
    }
   ],
   "source": [
    "start = time.time()\n",
    "x, y = get_news_themirror()\n",
    "end =time.time()\n",
    "te = end-start\n",
    "print(\"The time elapsed is %f seconds\" %(te))"
   ]
  }
 ],
 "metadata": {
  "kernelspec": {
   "display_name": "Python 3",
   "language": "python",
   "name": "python3"
  },
  "language_info": {
   "codemirror_mode": {
    "name": "ipython",
    "version": 3
   },
   "file_extension": ".py",
   "mimetype": "text/x-python",
   "name": "python",
   "nbconvert_exporter": "python",
   "pygments_lexer": "ipython3",
   "version": "3.6.7"
  }
 },
 "nbformat": 4,
 "nbformat_minor": 2
}
