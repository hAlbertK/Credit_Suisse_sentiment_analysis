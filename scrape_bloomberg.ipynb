{
 "cells": [
  {
   "cell_type": "code",
   "execution_count": 1,
   "metadata": {},
   "outputs": [],
   "source": [
    "from bs4 import BeautifulSoup\n",
    "from selenium import webdriver\n",
    "from selenium.webdriver.chrome.options import Options\n",
    "from selenium.webdriver.common.action_chains import ActionChains\n",
    "from selenium.webdriver.common.keys import Keys\n",
    "import time\n",
    "import pandas as pd\n",
    "import numpy as np\n",
    "import requests\n",
    "import re\n",
    "from datetime import datetime"
   ]
  },
  {
   "cell_type": "code",
   "execution_count": 2,
   "metadata": {},
   "outputs": [],
   "source": [
    "now = datetime.now()\n",
    "options = Options() \n",
    "options.add_experimental_option(\"excludeSwitches\", ['enable-automation']) # allows us to scrape bloomberg\n",
    "#options.add_argument(\"--disable-notifications\") #just added\n",
    "#options.add_argument(\"--start-maximized\")\n",
    "tickers = ['ADOM','BKCH','AESEW','AMR','AMRWW','BLU','BIQI','CLDC','CNTF','CCIH','CRAY','DFRG','DVCR','EMMA','EMMAW','FNSR','FRED','GLADN','HUNT','HUNTU','HUNTW','IVENC','IVFGC','IVFVC','SKIS','REED','TBRGU','SFLY','SLNG','USAT','USATP','BCACU','XYN','XYNPW','YRIV']"
   ]
  },
  {
   "cell_type": "code",
   "execution_count": 4,
   "metadata": {},
   "outputs": [],
   "source": [
    "# gathers list of bloomberg articles for a keyword\n",
    "# bloomberg search replacement\n",
    "def fetch_links(link):\n",
    "    browser = webdriver.Chrome(chrome_options=options, executable_path=r\"/usr/bin/chromedriver\")\n",
    "    browser.get(link)\n",
    "    time.sleep(3)\n",
    "    actions = ActionChains(browser)\n",
    "    \n",
    "    browser.find_element_by_css_selector(\"div.container__0c254cfc > div.container__9dcb6ba7:nth-child(2) > div.listWrap__6cc206d2 > a:nth-child(2)\").click()\n",
    "    time.sleep(1)\n",
    "    max = 5\n",
    "    counter = 0\n",
    "    while browser.find_elements_by_css_selector(\"section.mainContent__b8b5cf5e > div:last-child > div:last-child > button\"):\n",
    "        if counter == 5:\n",
    "            break\n",
    "        for _ in range(3):   #Adjust this range according to your need, I meant how far you wanna go down.\n",
    "            actions.send_keys(Keys.SPACE).perform()\n",
    "            time.sleep(1)\n",
    "        browser.find_element_by_css_selector(\"section.mainContent__b8b5cf5e > div:last-child > div:last-child > button\").click()\n",
    "        time.sleep(3)\n",
    "        counter += 1\n",
    "        \n",
    "    links = scrapeSearch(browser.page_source)\n",
    "    browser.quit()\n",
    "    \n",
    "    return links\n",
    "\n",
    "def get_ticker_links(ticker):\n",
    "    tick = fetch_links('https://www.bloomberg.com/search?query=%s'%(ticker))\n",
    "    tick_raw = []\n",
    "    i = 0\n",
    "    while i < len(tick):\n",
    "        articleSource = tick[i][1]['href']\n",
    "        year = tick[i][0].text\n",
    "        tick_raw.append([ticker, year, articleSource])\n",
    "        i+=1\n",
    "    tick_df = pd.DataFrame(tick_raw, columns=['ticker', 'year', 'url'])\n",
    "    return tick_df\n",
    "    #df = df.append(tick_df, ignore_index=True)\n",
    "\n",
    "'''\n",
    "def bloombergSearch(url):\n",
    "    #url = 'https://www.bloomberg.com/search?query=%s'%(ticker)\n",
    "    browser = webdriver.Chrome(chrome_options=options, executable_path=r\"/usr/bin/chromedriver\") # path should be similar for ubuntu vm\n",
    "    browser.get(url)\n",
    "    time.sleep(5) # wait for the page to load javascript\n",
    "    pageSource = browser.page_source\n",
    "    browser.quit()\n",
    "    return pageSource\n",
    "'''\n",
    "\n",
    "def bloombergArticle(url):\n",
    "    browser = webdriver.Chrome(chrome_options=options, executable_path=r\"/usr/bin/chromedriver\")\n",
    "    browser.delete_all_cookies() # bypass bloomberg article limit\n",
    "    browser.get(url)\n",
    "    time.sleep(5) # wait for the page to load javascript\n",
    "    pageSource = browser.page_source\n",
    "    browser.quit()\n",
    "    return pageSource\n",
    "\n",
    "def contentCat(content):\n",
    "# concatenate content strings of article\n",
    "    article = ''\n",
    "    for par in content:\n",
    "        if par == content[-1]:\n",
    "            article += par.get_text()\n",
    "        else:\n",
    "            article += par.get_text() + '\\n'\n",
    "    return article\n",
    "\n",
    "def scrapeSearch(pageSource):\n",
    "    soup = BeautifulSoup(pageSource, 'html.parser')\n",
    "    searchResults = soup.select('div>div>section:nth-child(3)>div:last-child>div>a', id='root')\n",
    "    year = soup.select('div>div>section:nth-child(3)>div:last-child>div>div>div.publishedAt__79f8aaad', id='root')\n",
    "    return list(zip(year,searchResults))\n",
    "\n",
    "def scrapeArticle(pageSource):\n",
    "    soup = BeautifulSoup(pageSource, 'html.parser')\n",
    "    url = soup.select('head>title+link')[0]['href']\n",
    "    if soup.find_all('h1'):\n",
    "        title = soup.find_all('h1')[0].get_text()\n",
    "    elif soup.find_all('div.lede-newsletter > div:nth-child(2)'):\n",
    "        title = soup.find_all('div.lede-newsletter > div:nth-child(2)')[0].get_text()\n",
    "    else: \n",
    "        title = np.nan\n",
    "    if soup.find_all(class_='author-v2__byline'):    \n",
    "        author = soup.find_all(class_='author-v2__byline')[0].get_text()\n",
    "    else:\n",
    "        author = np.nan\n",
    "    posted = soup.find_all('time', class_='article-timestamp')[0].get_text() # time of publish\n",
    "    '''\n",
    "    if len(soup.find_all('time', class_='article-timestamp')) == 2: \n",
    "        edited = soup.find_all('time', class_='article-timestamp')[1].get_text() # if no update date is available, uses publish date\n",
    "    else: \n",
    "        edited = np.nan\n",
    "    '''\n",
    "    scraped = now.strftime(\"%d/%m/%Y %H:%M:%S\")\n",
    "    content = soup.select('div>p', class_='body-copy-v2')\n",
    "    article = contentCat(content)\n",
    "    return [url, title, author, posted, scraped, article]"
   ]
  },
  {
   "cell_type": "code",
   "execution_count": 5,
   "metadata": {},
   "outputs": [
    {
     "name": "stderr",
     "output_type": "stream",
     "text": [
      "/home/albert/anaconda3/envs/cs/lib/python3.7/site-packages/ipykernel_launcher.py:4: DeprecationWarning: use options instead of chrome_options\n",
      "  after removing the cwd from sys.path.\n"
     ]
    },
    {
     "ename": "WebDriverException",
     "evalue": "Message: chrome not reachable\n  (Session info: chrome=77.0.3865.90)\n",
     "output_type": "error",
     "traceback": [
      "\u001b[0;31m---------------------------------------------------------------------------\u001b[0m",
      "\u001b[0;31mWebDriverException\u001b[0m                        Traceback (most recent call last)",
      "\u001b[0;32m<ipython-input-5-1ac812534e86>\u001b[0m in \u001b[0;36m<module>\u001b[0;34m\u001b[0m\n\u001b[0;32m----> 1\u001b[0;31m \u001b[0mADOM_df\u001b[0m \u001b[0;34m=\u001b[0m \u001b[0mget_ticker_links\u001b[0m\u001b[0;34m(\u001b[0m\u001b[0;34m'ADOM'\u001b[0m\u001b[0;34m)\u001b[0m\u001b[0;34m\u001b[0m\u001b[0;34m\u001b[0m\u001b[0m\n\u001b[0m",
      "\u001b[0;32m<ipython-input-4-c7d4bd64e3c5>\u001b[0m in \u001b[0;36mget_ticker_links\u001b[0;34m(ticker)\u001b[0m\n\u001b[1;32m     27\u001b[0m \u001b[0;34m\u001b[0m\u001b[0m\n\u001b[1;32m     28\u001b[0m \u001b[0;32mdef\u001b[0m \u001b[0mget_ticker_links\u001b[0m\u001b[0;34m(\u001b[0m\u001b[0mticker\u001b[0m\u001b[0;34m)\u001b[0m\u001b[0;34m:\u001b[0m\u001b[0;34m\u001b[0m\u001b[0;34m\u001b[0m\u001b[0m\n\u001b[0;32m---> 29\u001b[0;31m     \u001b[0mtick\u001b[0m \u001b[0;34m=\u001b[0m \u001b[0mfetch_links\u001b[0m\u001b[0;34m(\u001b[0m\u001b[0;34m'https://www.bloomberg.com/search?query=%s'\u001b[0m\u001b[0;34m%\u001b[0m\u001b[0;34m(\u001b[0m\u001b[0mticker\u001b[0m\u001b[0;34m)\u001b[0m\u001b[0;34m)\u001b[0m\u001b[0;34m\u001b[0m\u001b[0;34m\u001b[0m\u001b[0m\n\u001b[0m\u001b[1;32m     30\u001b[0m     \u001b[0mtick_raw\u001b[0m \u001b[0;34m=\u001b[0m \u001b[0;34m[\u001b[0m\u001b[0;34m]\u001b[0m\u001b[0;34m\u001b[0m\u001b[0;34m\u001b[0m\u001b[0m\n\u001b[1;32m     31\u001b[0m     \u001b[0mi\u001b[0m \u001b[0;34m=\u001b[0m \u001b[0;36m0\u001b[0m\u001b[0;34m\u001b[0m\u001b[0;34m\u001b[0m\u001b[0m\n",
      "\u001b[0;32m<ipython-input-4-c7d4bd64e3c5>\u001b[0m in \u001b[0;36mfetch_links\u001b[0;34m(link)\u001b[0m\n\u001b[1;32m      7\u001b[0m     \u001b[0mactions\u001b[0m \u001b[0;34m=\u001b[0m \u001b[0mActionChains\u001b[0m\u001b[0;34m(\u001b[0m\u001b[0mbrowser\u001b[0m\u001b[0;34m)\u001b[0m\u001b[0;34m\u001b[0m\u001b[0;34m\u001b[0m\u001b[0m\n\u001b[1;32m      8\u001b[0m \u001b[0;34m\u001b[0m\u001b[0m\n\u001b[0;32m----> 9\u001b[0;31m     \u001b[0mbrowser\u001b[0m\u001b[0;34m.\u001b[0m\u001b[0mfind_element_by_css_selector\u001b[0m\u001b[0;34m(\u001b[0m\u001b[0;34m\"div.container__0c254cfc > div.container__9dcb6ba7:nth-child(2) > div.listWrap__6cc206d2 > a:nth-child(2)\"\u001b[0m\u001b[0;34m)\u001b[0m\u001b[0;34m.\u001b[0m\u001b[0mclick\u001b[0m\u001b[0;34m(\u001b[0m\u001b[0;34m)\u001b[0m\u001b[0;34m\u001b[0m\u001b[0;34m\u001b[0m\u001b[0m\n\u001b[0m\u001b[1;32m     10\u001b[0m     \u001b[0mtime\u001b[0m\u001b[0;34m.\u001b[0m\u001b[0msleep\u001b[0m\u001b[0;34m(\u001b[0m\u001b[0;36m1\u001b[0m\u001b[0;34m)\u001b[0m\u001b[0;34m\u001b[0m\u001b[0;34m\u001b[0m\u001b[0m\n\u001b[1;32m     11\u001b[0m     \u001b[0mmax\u001b[0m \u001b[0;34m=\u001b[0m \u001b[0;36m5\u001b[0m\u001b[0;34m\u001b[0m\u001b[0;34m\u001b[0m\u001b[0m\n",
      "\u001b[0;32m~/anaconda3/envs/cs/lib/python3.7/site-packages/selenium/webdriver/remote/webdriver.py\u001b[0m in \u001b[0;36mfind_element_by_css_selector\u001b[0;34m(self, css_selector)\u001b[0m\n\u001b[1;32m    596\u001b[0m             \u001b[0melement\u001b[0m \u001b[0;34m=\u001b[0m \u001b[0mdriver\u001b[0m\u001b[0;34m.\u001b[0m\u001b[0mfind_element_by_css_selector\u001b[0m\u001b[0;34m(\u001b[0m\u001b[0;34m'#foo'\u001b[0m\u001b[0;34m)\u001b[0m\u001b[0;34m\u001b[0m\u001b[0;34m\u001b[0m\u001b[0m\n\u001b[1;32m    597\u001b[0m         \"\"\"\n\u001b[0;32m--> 598\u001b[0;31m         \u001b[0;32mreturn\u001b[0m \u001b[0mself\u001b[0m\u001b[0;34m.\u001b[0m\u001b[0mfind_element\u001b[0m\u001b[0;34m(\u001b[0m\u001b[0mby\u001b[0m\u001b[0;34m=\u001b[0m\u001b[0mBy\u001b[0m\u001b[0;34m.\u001b[0m\u001b[0mCSS_SELECTOR\u001b[0m\u001b[0;34m,\u001b[0m \u001b[0mvalue\u001b[0m\u001b[0;34m=\u001b[0m\u001b[0mcss_selector\u001b[0m\u001b[0;34m)\u001b[0m\u001b[0;34m\u001b[0m\u001b[0;34m\u001b[0m\u001b[0m\n\u001b[0m\u001b[1;32m    599\u001b[0m \u001b[0;34m\u001b[0m\u001b[0m\n\u001b[1;32m    600\u001b[0m     \u001b[0;32mdef\u001b[0m \u001b[0mfind_elements_by_css_selector\u001b[0m\u001b[0;34m(\u001b[0m\u001b[0mself\u001b[0m\u001b[0;34m,\u001b[0m \u001b[0mcss_selector\u001b[0m\u001b[0;34m)\u001b[0m\u001b[0;34m:\u001b[0m\u001b[0;34m\u001b[0m\u001b[0;34m\u001b[0m\u001b[0m\n",
      "\u001b[0;32m~/anaconda3/envs/cs/lib/python3.7/site-packages/selenium/webdriver/remote/webdriver.py\u001b[0m in \u001b[0;36mfind_element\u001b[0;34m(self, by, value)\u001b[0m\n\u001b[1;32m    976\u001b[0m         return self.execute(Command.FIND_ELEMENT, {\n\u001b[1;32m    977\u001b[0m             \u001b[0;34m'using'\u001b[0m\u001b[0;34m:\u001b[0m \u001b[0mby\u001b[0m\u001b[0;34m,\u001b[0m\u001b[0;34m\u001b[0m\u001b[0;34m\u001b[0m\u001b[0m\n\u001b[0;32m--> 978\u001b[0;31m             'value': value})['value']\n\u001b[0m\u001b[1;32m    979\u001b[0m \u001b[0;34m\u001b[0m\u001b[0m\n\u001b[1;32m    980\u001b[0m     \u001b[0;32mdef\u001b[0m \u001b[0mfind_elements\u001b[0m\u001b[0;34m(\u001b[0m\u001b[0mself\u001b[0m\u001b[0;34m,\u001b[0m \u001b[0mby\u001b[0m\u001b[0;34m=\u001b[0m\u001b[0mBy\u001b[0m\u001b[0;34m.\u001b[0m\u001b[0mID\u001b[0m\u001b[0;34m,\u001b[0m \u001b[0mvalue\u001b[0m\u001b[0;34m=\u001b[0m\u001b[0;32mNone\u001b[0m\u001b[0;34m)\u001b[0m\u001b[0;34m:\u001b[0m\u001b[0;34m\u001b[0m\u001b[0;34m\u001b[0m\u001b[0m\n",
      "\u001b[0;32m~/anaconda3/envs/cs/lib/python3.7/site-packages/selenium/webdriver/remote/webdriver.py\u001b[0m in \u001b[0;36mexecute\u001b[0;34m(self, driver_command, params)\u001b[0m\n\u001b[1;32m    319\u001b[0m         \u001b[0mresponse\u001b[0m \u001b[0;34m=\u001b[0m \u001b[0mself\u001b[0m\u001b[0;34m.\u001b[0m\u001b[0mcommand_executor\u001b[0m\u001b[0;34m.\u001b[0m\u001b[0mexecute\u001b[0m\u001b[0;34m(\u001b[0m\u001b[0mdriver_command\u001b[0m\u001b[0;34m,\u001b[0m \u001b[0mparams\u001b[0m\u001b[0;34m)\u001b[0m\u001b[0;34m\u001b[0m\u001b[0;34m\u001b[0m\u001b[0m\n\u001b[1;32m    320\u001b[0m         \u001b[0;32mif\u001b[0m \u001b[0mresponse\u001b[0m\u001b[0;34m:\u001b[0m\u001b[0;34m\u001b[0m\u001b[0;34m\u001b[0m\u001b[0m\n\u001b[0;32m--> 321\u001b[0;31m             \u001b[0mself\u001b[0m\u001b[0;34m.\u001b[0m\u001b[0merror_handler\u001b[0m\u001b[0;34m.\u001b[0m\u001b[0mcheck_response\u001b[0m\u001b[0;34m(\u001b[0m\u001b[0mresponse\u001b[0m\u001b[0;34m)\u001b[0m\u001b[0;34m\u001b[0m\u001b[0;34m\u001b[0m\u001b[0m\n\u001b[0m\u001b[1;32m    322\u001b[0m             response['value'] = self._unwrap_value(\n\u001b[1;32m    323\u001b[0m                 response.get('value', None))\n",
      "\u001b[0;32m~/anaconda3/envs/cs/lib/python3.7/site-packages/selenium/webdriver/remote/errorhandler.py\u001b[0m in \u001b[0;36mcheck_response\u001b[0;34m(self, response)\u001b[0m\n\u001b[1;32m    240\u001b[0m                 \u001b[0malert_text\u001b[0m \u001b[0;34m=\u001b[0m \u001b[0mvalue\u001b[0m\u001b[0;34m[\u001b[0m\u001b[0;34m'alert'\u001b[0m\u001b[0;34m]\u001b[0m\u001b[0;34m.\u001b[0m\u001b[0mget\u001b[0m\u001b[0;34m(\u001b[0m\u001b[0;34m'text'\u001b[0m\u001b[0;34m)\u001b[0m\u001b[0;34m\u001b[0m\u001b[0;34m\u001b[0m\u001b[0m\n\u001b[1;32m    241\u001b[0m             \u001b[0;32mraise\u001b[0m \u001b[0mexception_class\u001b[0m\u001b[0;34m(\u001b[0m\u001b[0mmessage\u001b[0m\u001b[0;34m,\u001b[0m \u001b[0mscreen\u001b[0m\u001b[0;34m,\u001b[0m \u001b[0mstacktrace\u001b[0m\u001b[0;34m,\u001b[0m \u001b[0malert_text\u001b[0m\u001b[0;34m)\u001b[0m\u001b[0;34m\u001b[0m\u001b[0;34m\u001b[0m\u001b[0m\n\u001b[0;32m--> 242\u001b[0;31m         \u001b[0;32mraise\u001b[0m \u001b[0mexception_class\u001b[0m\u001b[0;34m(\u001b[0m\u001b[0mmessage\u001b[0m\u001b[0;34m,\u001b[0m \u001b[0mscreen\u001b[0m\u001b[0;34m,\u001b[0m \u001b[0mstacktrace\u001b[0m\u001b[0;34m)\u001b[0m\u001b[0;34m\u001b[0m\u001b[0;34m\u001b[0m\u001b[0m\n\u001b[0m\u001b[1;32m    243\u001b[0m \u001b[0;34m\u001b[0m\u001b[0m\n\u001b[1;32m    244\u001b[0m     \u001b[0;32mdef\u001b[0m \u001b[0m_value_or_default\u001b[0m\u001b[0;34m(\u001b[0m\u001b[0mself\u001b[0m\u001b[0;34m,\u001b[0m \u001b[0mobj\u001b[0m\u001b[0;34m,\u001b[0m \u001b[0mkey\u001b[0m\u001b[0;34m,\u001b[0m \u001b[0mdefault\u001b[0m\u001b[0;34m)\u001b[0m\u001b[0;34m:\u001b[0m\u001b[0;34m\u001b[0m\u001b[0;34m\u001b[0m\u001b[0m\n",
      "\u001b[0;31mWebDriverException\u001b[0m: Message: chrome not reachable\n  (Session info: chrome=77.0.3865.90)\n"
     ]
    }
   ],
   "source": [
    "ADOM_df = get_ticker_links('ADOM')"
   ]
  },
  {
   "cell_type": "code",
   "execution_count": null,
   "metadata": {},
   "outputs": [],
   "source": [
    "df = pd.DataFrame(columns=['STOCK_ID', 'YEAR', 'URL'])"
   ]
  },
  {
   "cell_type": "code",
   "execution_count": null,
   "metadata": {},
   "outputs": [],
   "source": [
    "df = df.append(ADOM_df, ignore_index=True)"
   ]
  },
  {
   "cell_type": "code",
   "execution_count": null,
   "metadata": {},
   "outputs": [],
   "source": [
    "# transfrom date to get int year\n",
    "df['year'] = df['year'].apply(lambda x: x[-4:])\n",
    "df['year'] = df['year'].apply(lambda x: int(x))"
   ]
  },
  {
   "cell_type": "code",
   "execution_count": null,
   "metadata": {},
   "outputs": [],
   "source": [
    "df_2019 = df[df['year'] == 2019]\n",
    "bloomberg_df = pd.DataFrame(columns=['URL', 'HEADLINE', 'author', 'DATE_OF_PUBLISH', 'DATE_OF_SCRAPE', 'CONTENT'])"
   ]
  },
  {
   "cell_type": "code",
   "execution_count": null,
   "metadata": {},
   "outputs": [],
   "source": [
    "STOCK_ID,URL,DATE_OF_PUBLISH,HEADLINE,CONTENT"
   ]
  }
 ],
 "metadata": {
  "kernelspec": {
   "display_name": "Python [conda env:cs] *",
   "language": "python",
   "name": "conda-env-cs-py"
  },
  "language_info": {
   "codemirror_mode": {
    "name": "ipython",
    "version": 3
   },
   "file_extension": ".py",
   "mimetype": "text/x-python",
   "name": "python",
   "nbconvert_exporter": "python",
   "pygments_lexer": "ipython3",
   "version": "3.7.4"
  }
 },
 "nbformat": 4,
 "nbformat_minor": 2
}
